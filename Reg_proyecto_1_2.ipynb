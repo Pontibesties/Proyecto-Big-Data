{
  "cells": [
    {
      "cell_type": "markdown",
      "metadata": {
        "id": "view-in-github",
        "colab_type": "text"
      },
      "source": [
        "<a href=\"https://colab.research.google.com/github/Pontibesties/Proyecto-Big-Data/blob/main/Reg_proyecto_1_2.ipynb\" target=\"_parent\"><img src=\"https://colab.research.google.com/assets/colab-badge.svg\" alt=\"Open In Colab\"/></a>"
      ]
    },
    {
      "cell_type": "code",
      "source": [
        "import numpy as np\n",
        "import pandas as pd\n",
        "import seaborn as sns\n",
        "import matplotlib.pyplot as plt\n",
        "from pyspark.sql import SQLContext\n",
        "from pyspark.sql import SparkSession\n",
        "from pyspark.mllib.util import MLUtils\n",
        "from pyspark import SparkConf, SparkContext\n",
        "from pyspark.ml.feature import VectorAssembler\n",
        "from pyspark.mllib.regression import LabeledPoint\n",
        "from pyspark.ml.regression import LinearRegression"
      ],
      "metadata": {
        "id": "_pm3waR0vS9p",
        "application/vnd.databricks.v1+cell": {
          "showTitle": false,
          "cellMetadata": {},
          "nuid": "ca037f4b-910b-4017-a829-8c236df9a42e",
          "inputWidgets": {},
          "title": ""
        }
      },
      "outputs": [],
      "execution_count": null
    },
    {
      "cell_type": "code",
      "source": [
        "accidentes = pd.read_csv(\"https://www.dropbox.com/s/vkbkwblnb9y0xld/accidentes.csv?dl=1\", sep=\",\", encoding='utf-8')\n",
        "arrestos = pd.read_csv(\"https://www.dropbox.com/s/0m2z2av8merwk5b/arrestos.csv?dl=1\", sep=\",\", encoding='utf-8')\n",
        "aire = pd.read_csv(\"https://www.dropbox.com/s/9kx2xha806uhfzd/calidadAire.csv?dl=1\", sep=\",\", encoding='utf-8')\n",
        "educacion = pd.read_csv(\"https://www.dropbox.com/s/tfs594vh2wa7wtl/educacion.csv?dl=1\", sep=\",\", encoding='utf-8')\n",
        "pobreza = pd.read_csv(\"https://www.dropbox.com/s/p7dust9sj5nvlch/pobreza.csv?dl=1\", sep=\",\", encoding='utf-8')"
      ],
      "metadata": {
        "id": "ZvlOQC1gvS9u",
        "application/vnd.databricks.v1+cell": {
          "showTitle": false,
          "cellMetadata": {},
          "nuid": "e6876511-bd58-439a-a3c2-3df4731416e6",
          "inputWidgets": {},
          "title": ""
        }
      },
      "outputs": [],
      "execution_count": null
    },
    {
      "cell_type": "code",
      "source": [
        "pobreza.head(5)"
      ],
      "metadata": {
        "id": "hy2nu0f6vS9u",
        "outputId": "c584536a-2d1b-4641-becc-dbf10b68b1b8",
        "application/vnd.databricks.v1+cell": {
          "showTitle": false,
          "cellMetadata": {},
          "nuid": "0239652e-d17c-4667-afc9-43f48ff583ba",
          "inputWidgets": {},
          "title": ""
        }
      },
      "outputs": [
        {
          "output_type": "display_data",
          "metadata": {
            "application/vnd.databricks.v1+output": {
              "datasetInfos": [],
              "data": "<div>\n<style scoped>\n    .dataframe tbody tr th:only-of-type {\n        vertical-align: middle;\n    }\n\n    .dataframe tbody tr th {\n        vertical-align: top;\n    }\n\n    .dataframe thead th {\n        text-align: right;\n    }\n</style>\n<table border=\"1\" class=\"dataframe\">\n  <thead>\n    <tr style=\"text-align: right;\">\n      <th></th>\n      <th>SPORDER</th>\n      <th>CIT</th>\n      <th>SEX</th>\n      <th>ESR</th>\n      <th>NP</th>\n      <th>TEN</th>\n      <th>Boro</th>\n      <th>CitizenStatus</th>\n      <th>EST_Childcare</th>\n      <th>EST_IncomeTax</th>\n      <th>Ethnicity</th>\n      <th>NYCgov_Income</th>\n      <th>NYCgov_Pov_Stat</th>\n      <th>NYCgov_REL</th>\n      <th>NYCgov_Threshold</th>\n      <th>Off_Pov_Stat</th>\n      <th>PreTaxIncome_PU</th>\n      <th>TotalWorkHrs_PU</th>\n    </tr>\n  </thead>\n  <tbody>\n    <tr>\n      <th>0</th>\n      <td>1</td>\n      <td>1</td>\n      <td>2</td>\n      <td>1.0</td>\n      <td>1</td>\n      <td>2</td>\n      <td>2</td>\n      <td>1</td>\n      <td>0.0</td>\n      <td>33580.543</td>\n      <td>4</td>\n      <td>81417.961</td>\n      <td>2</td>\n      <td>0</td>\n      <td>16241.600</td>\n      <td>2</td>\n      <td>127650.22</td>\n      <td>2</td>\n    </tr>\n    <tr>\n      <th>1</th>\n      <td>1</td>\n      <td>1</td>\n      <td>2</td>\n      <td>1.0</td>\n      <td>2</td>\n      <td>1</td>\n      <td>3</td>\n      <td>1</td>\n      <td>0.0</td>\n      <td>95503.234</td>\n      <td>1</td>\n      <td>228417.950</td>\n      <td>2</td>\n      <td>0</td>\n      <td>22900.654</td>\n      <td>2</td>\n      <td>346479.19</td>\n      <td>2</td>\n    </tr>\n    <tr>\n      <th>2</th>\n      <td>2</td>\n      <td>1</td>\n      <td>1</td>\n      <td>6.0</td>\n      <td>2</td>\n      <td>1</td>\n      <td>3</td>\n      <td>1</td>\n      <td>0.0</td>\n      <td>95503.234</td>\n      <td>1</td>\n      <td>228417.950</td>\n      <td>2</td>\n      <td>1</td>\n      <td>22900.654</td>\n      <td>2</td>\n      <td>346479.19</td>\n      <td>2</td>\n    </tr>\n    <tr>\n      <th>3</th>\n      <td>1</td>\n      <td>4</td>\n      <td>1</td>\n      <td>1.0</td>\n      <td>2</td>\n      <td>2</td>\n      <td>2</td>\n      <td>2</td>\n      <td>0.0</td>\n      <td>27574.365</td>\n      <td>1</td>\n      <td>117058.230</td>\n      <td>2</td>\n      <td>0</td>\n      <td>22900.654</td>\n      <td>2</td>\n      <td>155003.84</td>\n      <td>1</td>\n    </tr>\n    <tr>\n      <th>4</th>\n      <td>2</td>\n      <td>4</td>\n      <td>2</td>\n      <td>1.0</td>\n      <td>2</td>\n      <td>2</td>\n      <td>2</td>\n      <td>2</td>\n      <td>0.0</td>\n      <td>27574.365</td>\n      <td>1</td>\n      <td>117058.230</td>\n      <td>2</td>\n      <td>1</td>\n      <td>22900.654</td>\n      <td>2</td>\n      <td>155003.84</td>\n      <td>1</td>\n    </tr>\n  </tbody>\n</table>\n</div>",
              "textData": null,
              "removedWidgets": [],
              "addedWidgets": {},
              "metadata": {},
              "type": "htmlSandbox",
              "arguments": {}
            }
          },
          "data": {
            "text/html": [
              "<div>\n<style scoped>\n    .dataframe tbody tr th:only-of-type {\n        vertical-align: middle;\n    }\n\n    .dataframe tbody tr th {\n        vertical-align: top;\n    }\n\n    .dataframe thead th {\n        text-align: right;\n    }\n</style>\n<table border=\"1\" class=\"dataframe\">\n  <thead>\n    <tr style=\"text-align: right;\">\n      <th></th>\n      <th>SPORDER</th>\n      <th>CIT</th>\n      <th>SEX</th>\n      <th>ESR</th>\n      <th>NP</th>\n      <th>TEN</th>\n      <th>Boro</th>\n      <th>CitizenStatus</th>\n      <th>EST_Childcare</th>\n      <th>EST_IncomeTax</th>\n      <th>Ethnicity</th>\n      <th>NYCgov_Income</th>\n      <th>NYCgov_Pov_Stat</th>\n      <th>NYCgov_REL</th>\n      <th>NYCgov_Threshold</th>\n      <th>Off_Pov_Stat</th>\n      <th>PreTaxIncome_PU</th>\n      <th>TotalWorkHrs_PU</th>\n    </tr>\n  </thead>\n  <tbody>\n    <tr>\n      <th>0</th>\n      <td>1</td>\n      <td>1</td>\n      <td>2</td>\n      <td>1.0</td>\n      <td>1</td>\n      <td>2</td>\n      <td>2</td>\n      <td>1</td>\n      <td>0.0</td>\n      <td>33580.543</td>\n      <td>4</td>\n      <td>81417.961</td>\n      <td>2</td>\n      <td>0</td>\n      <td>16241.600</td>\n      <td>2</td>\n      <td>127650.22</td>\n      <td>2</td>\n    </tr>\n    <tr>\n      <th>1</th>\n      <td>1</td>\n      <td>1</td>\n      <td>2</td>\n      <td>1.0</td>\n      <td>2</td>\n      <td>1</td>\n      <td>3</td>\n      <td>1</td>\n      <td>0.0</td>\n      <td>95503.234</td>\n      <td>1</td>\n      <td>228417.950</td>\n      <td>2</td>\n      <td>0</td>\n      <td>22900.654</td>\n      <td>2</td>\n      <td>346479.19</td>\n      <td>2</td>\n    </tr>\n    <tr>\n      <th>2</th>\n      <td>2</td>\n      <td>1</td>\n      <td>1</td>\n      <td>6.0</td>\n      <td>2</td>\n      <td>1</td>\n      <td>3</td>\n      <td>1</td>\n      <td>0.0</td>\n      <td>95503.234</td>\n      <td>1</td>\n      <td>228417.950</td>\n      <td>2</td>\n      <td>1</td>\n      <td>22900.654</td>\n      <td>2</td>\n      <td>346479.19</td>\n      <td>2</td>\n    </tr>\n    <tr>\n      <th>3</th>\n      <td>1</td>\n      <td>4</td>\n      <td>1</td>\n      <td>1.0</td>\n      <td>2</td>\n      <td>2</td>\n      <td>2</td>\n      <td>2</td>\n      <td>0.0</td>\n      <td>27574.365</td>\n      <td>1</td>\n      <td>117058.230</td>\n      <td>2</td>\n      <td>0</td>\n      <td>22900.654</td>\n      <td>2</td>\n      <td>155003.84</td>\n      <td>1</td>\n    </tr>\n    <tr>\n      <th>4</th>\n      <td>2</td>\n      <td>4</td>\n      <td>2</td>\n      <td>1.0</td>\n      <td>2</td>\n      <td>2</td>\n      <td>2</td>\n      <td>2</td>\n      <td>0.0</td>\n      <td>27574.365</td>\n      <td>1</td>\n      <td>117058.230</td>\n      <td>2</td>\n      <td>1</td>\n      <td>22900.654</td>\n      <td>2</td>\n      <td>155003.84</td>\n      <td>1</td>\n    </tr>\n  </tbody>\n</table>\n</div>"
            ]
          }
        }
      ],
      "execution_count": null
    },
    {
      "cell_type": "code",
      "source": [
        "# Se filtran datos importantes\n",
        "pobreza_fltrd = pobreza.filter(items=['SPORDER', 'CIT', 'SEX', 'ESR', 'Boro', 'CitizenStatus', 'EST_Childcare', 'EST_IncomeTax', 'Ethnicity', 'NYCgov_Income', 'NYCgov_Pov_Stat', 'NYCgov_Threshold', 'Off_Pov_Stat', 'PreTaxIncome_PU' ])"
      ],
      "metadata": {
        "id": "iPu9QFyIvS9v",
        "application/vnd.databricks.v1+cell": {
          "showTitle": false,
          "cellMetadata": {},
          "nuid": "e9966570-8b4c-434e-92f4-af4827e8f983",
          "inputWidgets": {},
          "title": ""
        }
      },
      "outputs": [],
      "execution_count": null
    },
    {
      "cell_type": "code",
      "source": [
        "# Se llenan de 0 los nan\n",
        "pobreza_fltrd = pobreza_fltrd.fillna(0)"
      ],
      "metadata": {
        "id": "AjhfucyzvS9w",
        "application/vnd.databricks.v1+cell": {
          "showTitle": false,
          "cellMetadata": {},
          "nuid": "a42ffacc-9ac3-4cb2-b53d-e2b964330bcb",
          "inputWidgets": {},
          "title": ""
        }
      },
      "outputs": [],
      "execution_count": null
    },
    {
      "cell_type": "code",
      "source": [
        "pobreza_fltrd = pobreza_fltrd.astype('float64')"
      ],
      "metadata": {
        "id": "00aQHiuyvS9w",
        "application/vnd.databricks.v1+cell": {
          "showTitle": false,
          "cellMetadata": {},
          "nuid": "7eacc437-66e5-40cb-8625-43158821ce1d",
          "inputWidgets": {},
          "title": ""
        }
      },
      "outputs": [],
      "execution_count": null
    },
    {
      "cell_type": "code",
      "source": [
        "from pyspark.sql import SparkSession\n",
        "#Create PySpark SparkSession\n",
        "spark = SparkSession.builder \\\n",
        "    .master(\"local[1]\") \\\n",
        "    .appName(\"SparkByExamples.com\") \\\n",
        "    .getOrCreate()\n",
        "#Create PySpark DataFrame from Pandas\n",
        "sparkDF=spark.createDataFrame(pobreza_fltrd) \n",
        "sparkDF.printSchema()\n",
        "sparkDF.show()"
      ],
      "metadata": {
        "id": "A4vkN9V1vS9w",
        "outputId": "cc3162b3-0a5d-457a-f2dc-7f16d847eb0e",
        "application/vnd.databricks.v1+cell": {
          "showTitle": false,
          "cellMetadata": {},
          "nuid": "de51749a-8956-4e38-bf13-5f6e948b5384",
          "inputWidgets": {},
          "title": ""
        }
      },
      "outputs": [
        {
          "output_type": "display_data",
          "metadata": {
            "application/vnd.databricks.v1+output": {
              "datasetInfos": [],
              "data": "root\n |-- SPORDER: double (nullable = true)\n |-- CIT: double (nullable = true)\n |-- SEX: double (nullable = true)\n |-- ESR: double (nullable = true)\n |-- Boro: double (nullable = true)\n |-- CitizenStatus: double (nullable = true)\n |-- EST_Childcare: double (nullable = true)\n |-- EST_IncomeTax: double (nullable = true)\n |-- Ethnicity: double (nullable = true)\n |-- NYCgov_Income: double (nullable = true)\n |-- NYCgov_Pov_Stat: double (nullable = true)\n |-- NYCgov_Threshold: double (nullable = true)\n |-- Off_Pov_Stat: double (nullable = true)\n |-- PreTaxIncome_PU: double (nullable = true)\n\n+-------+---+---+---+----+-------------+-------------+-------------+---------+-------------+---------------+----------------+------------+---------------+\n|SPORDER|CIT|SEX|ESR|Boro|CitizenStatus|EST_Childcare|EST_IncomeTax|Ethnicity|NYCgov_Income|NYCgov_Pov_Stat|NYCgov_Threshold|Off_Pov_Stat|PreTaxIncome_PU|\n+-------+---+---+---+----+-------------+-------------+-------------+---------+-------------+---------------+----------------+------------+---------------+\n|    1.0|1.0|2.0|1.0| 2.0|          1.0|          0.0|    33580.543|      4.0|    81417.961|            2.0|         16241.6|         2.0|      127650.22|\n|    1.0|1.0|2.0|1.0| 3.0|          1.0|          0.0|    95503.234|      1.0|    228417.95|            2.0|       22900.654|         2.0|      346479.19|\n|    2.0|1.0|1.0|6.0| 3.0|          1.0|          0.0|    95503.234|      1.0|    228417.95|            2.0|       22900.654|         2.0|      346479.19|\n|    1.0|4.0|1.0|1.0| 2.0|          2.0|          0.0|    27574.365|      1.0|    117058.23|            2.0|       22900.654|         2.0|      155003.84|\n|    2.0|4.0|2.0|1.0| 2.0|          2.0|          0.0|    27574.365|      1.0|    117058.23|            2.0|       22900.654|         2.0|      155003.84|\n|    1.0|5.0|2.0|6.0| 4.0|          3.0|          0.0|    1115.2131|      4.0|    19685.875|            1.0|       22900.654|         2.0|      28670.645|\n|    2.0|5.0|1.0|1.0| 4.0|          3.0|          0.0|    1115.2131|      4.0|    19685.875|            1.0|       22900.654|         2.0|      28670.645|\n|    3.0|1.0|1.0|1.0| 4.0|          1.0|          0.0|    8213.8594|      4.0|    27685.434|            2.0|         16241.6|         2.0|      50654.852|\n|    1.0|4.0|1.0|6.0| 2.0|          2.0|          0.0|    1558.6013|      2.0|    40727.199|            2.0|         16241.6|         2.0|       43664.48|\n|    1.0|5.0|2.0|1.0| 2.0|          3.0|          0.0|    11775.876|      3.0|    51303.375|            2.0|       22900.654|         2.0|      80034.664|\n|    2.0|5.0|1.0|1.0| 2.0|          3.0|          0.0|    11775.876|      3.0|    51303.375|            2.0|       22900.654|         2.0|      80034.664|\n|    1.0|4.0|1.0|1.0| 3.0|          2.0|          0.0|    15641.518|      5.0|    84037.555|            2.0|       22900.654|         2.0|      111845.91|\n|    2.0|4.0|2.0|6.0| 3.0|          2.0|          0.0|    15641.518|      2.0|    84037.555|            2.0|       22900.654|         2.0|      111845.91|\n|    1.0|1.0|2.0|1.0| 3.0|          1.0|          0.0|    12011.638|      2.0|    67254.602|            2.0|       30845.143|         2.0|      92191.828|\n|    2.0|4.0|1.0|1.0| 3.0|          2.0|          0.0|    12011.638|      2.0|    67254.602|            2.0|       30845.143|         2.0|      92191.828|\n|    3.0|1.0|1.0|0.0| 3.0|          1.0|          0.0|    12011.638|      2.0|    67254.602|            2.0|       30845.143|         2.0|      92191.828|\n|    1.0|5.0|1.0|1.0| 2.0|          3.0|          0.0|   -6760.1646|      1.0|    39855.426|            2.0|         35044.0|         2.0|      36471.492|\n|    2.0|5.0|2.0|6.0| 2.0|          3.0|          0.0|   -6760.1646|      1.0|    39855.426|            2.0|         35044.0|         2.0|      36471.492|\n|    3.0|1.0|1.0|0.0| 2.0|          1.0|          0.0|   -6760.1646|      1.0|    39855.426|            2.0|         35044.0|         2.0|      36471.492|\n|    4.0|1.0|2.0|0.0| 2.0|          1.0|          0.0|   -6760.1646|      1.0|    39855.426|            2.0|         35044.0|         2.0|      36471.492|\n+-------+---+---+---+----+-------------+-------------+-------------+---------+-------------+---------------+----------------+------------+---------------+\nonly showing top 20 rows\n\n",
              "removedWidgets": [],
              "addedWidgets": {},
              "metadata": {},
              "type": "ansi",
              "arguments": {}
            }
          },
          "data": {
            "text/plain": [
              "root\n |-- SPORDER: double (nullable = true)\n |-- CIT: double (nullable = true)\n |-- SEX: double (nullable = true)\n |-- ESR: double (nullable = true)\n |-- Boro: double (nullable = true)\n |-- CitizenStatus: double (nullable = true)\n |-- EST_Childcare: double (nullable = true)\n |-- EST_IncomeTax: double (nullable = true)\n |-- Ethnicity: double (nullable = true)\n |-- NYCgov_Income: double (nullable = true)\n |-- NYCgov_Pov_Stat: double (nullable = true)\n |-- NYCgov_Threshold: double (nullable = true)\n |-- Off_Pov_Stat: double (nullable = true)\n |-- PreTaxIncome_PU: double (nullable = true)\n\n+-------+---+---+---+----+-------------+-------------+-------------+---------+-------------+---------------+----------------+------------+---------------+\n|SPORDER|CIT|SEX|ESR|Boro|CitizenStatus|EST_Childcare|EST_IncomeTax|Ethnicity|NYCgov_Income|NYCgov_Pov_Stat|NYCgov_Threshold|Off_Pov_Stat|PreTaxIncome_PU|\n+-------+---+---+---+----+-------------+-------------+-------------+---------+-------------+---------------+----------------+------------+---------------+\n|    1.0|1.0|2.0|1.0| 2.0|          1.0|          0.0|    33580.543|      4.0|    81417.961|            2.0|         16241.6|         2.0|      127650.22|\n|    1.0|1.0|2.0|1.0| 3.0|          1.0|          0.0|    95503.234|      1.0|    228417.95|            2.0|       22900.654|         2.0|      346479.19|\n|    2.0|1.0|1.0|6.0| 3.0|          1.0|          0.0|    95503.234|      1.0|    228417.95|            2.0|       22900.654|         2.0|      346479.19|\n|    1.0|4.0|1.0|1.0| 2.0|          2.0|          0.0|    27574.365|      1.0|    117058.23|            2.0|       22900.654|         2.0|      155003.84|\n|    2.0|4.0|2.0|1.0| 2.0|          2.0|          0.0|    27574.365|      1.0|    117058.23|            2.0|       22900.654|         2.0|      155003.84|\n|    1.0|5.0|2.0|6.0| 4.0|          3.0|          0.0|    1115.2131|      4.0|    19685.875|            1.0|       22900.654|         2.0|      28670.645|\n|    2.0|5.0|1.0|1.0| 4.0|          3.0|          0.0|    1115.2131|      4.0|    19685.875|            1.0|       22900.654|         2.0|      28670.645|\n|    3.0|1.0|1.0|1.0| 4.0|          1.0|          0.0|    8213.8594|      4.0|    27685.434|            2.0|         16241.6|         2.0|      50654.852|\n|    1.0|4.0|1.0|6.0| 2.0|          2.0|          0.0|    1558.6013|      2.0|    40727.199|            2.0|         16241.6|         2.0|       43664.48|\n|    1.0|5.0|2.0|1.0| 2.0|          3.0|          0.0|    11775.876|      3.0|    51303.375|            2.0|       22900.654|         2.0|      80034.664|\n|    2.0|5.0|1.0|1.0| 2.0|          3.0|          0.0|    11775.876|      3.0|    51303.375|            2.0|       22900.654|         2.0|      80034.664|\n|    1.0|4.0|1.0|1.0| 3.0|          2.0|          0.0|    15641.518|      5.0|    84037.555|            2.0|       22900.654|         2.0|      111845.91|\n|    2.0|4.0|2.0|6.0| 3.0|          2.0|          0.0|    15641.518|      2.0|    84037.555|            2.0|       22900.654|         2.0|      111845.91|\n|    1.0|1.0|2.0|1.0| 3.0|          1.0|          0.0|    12011.638|      2.0|    67254.602|            2.0|       30845.143|         2.0|      92191.828|\n|    2.0|4.0|1.0|1.0| 3.0|          2.0|          0.0|    12011.638|      2.0|    67254.602|            2.0|       30845.143|         2.0|      92191.828|\n|    3.0|1.0|1.0|0.0| 3.0|          1.0|          0.0|    12011.638|      2.0|    67254.602|            2.0|       30845.143|         2.0|      92191.828|\n|    1.0|5.0|1.0|1.0| 2.0|          3.0|          0.0|   -6760.1646|      1.0|    39855.426|            2.0|         35044.0|         2.0|      36471.492|\n|    2.0|5.0|2.0|6.0| 2.0|          3.0|          0.0|   -6760.1646|      1.0|    39855.426|            2.0|         35044.0|         2.0|      36471.492|\n|    3.0|1.0|1.0|0.0| 2.0|          1.0|          0.0|   -6760.1646|      1.0|    39855.426|            2.0|         35044.0|         2.0|      36471.492|\n|    4.0|1.0|2.0|0.0| 2.0|          1.0|          0.0|   -6760.1646|      1.0|    39855.426|            2.0|         35044.0|         2.0|      36471.492|\n+-------+---+---+---+----+-------------+-------------+-------------+---------+-------------+---------------+----------------+------------+---------------+\nonly showing top 20 rows\n\n"
            ]
          }
        }
      ],
      "execution_count": null
    },
    {
      "cell_type": "code",
      "source": [
        "vectorAssembler = VectorAssembler(inputCols = ['CIT', 'SEX', 'ESR', 'Boro', 'CitizenStatus', 'EST_Childcare', 'EST_IncomeTax', 'Ethnicity', 'PreTaxIncome_PU'], outputCol = 'features')\n",
        "vtrain = vectorAssembler.transform(sparkDF)\n",
        "vtrain = vtrain.select(['features', 'SPORDER', 'NYCgov_Income', 'NYCgov_Threshold']) # Off_Pov_Stat\n",
        "vtrain.show(3)"
      ],
      "metadata": {
        "id": "3GM-MwbXvS9x",
        "outputId": "2914a32f-258c-4696-eea4-2b1c09253373",
        "application/vnd.databricks.v1+cell": {
          "showTitle": false,
          "cellMetadata": {},
          "nuid": "ab766d68-9864-4a60-a451-d9747e27d60e",
          "inputWidgets": {},
          "title": ""
        }
      },
      "outputs": [
        {
          "output_type": "display_data",
          "metadata": {
            "application/vnd.databricks.v1+output": {
              "datasetInfos": [],
              "data": "+--------------------+-------+-------------+----------------+\n|            features|SPORDER|NYCgov_Income|NYCgov_Threshold|\n+--------------------+-------+-------------+----------------+\n|[1.0,2.0,1.0,2.0,...|    1.0|    81417.961|         16241.6|\n|[1.0,2.0,1.0,3.0,...|    1.0|    228417.95|       22900.654|\n|[1.0,1.0,6.0,3.0,...|    2.0|    228417.95|       22900.654|\n+--------------------+-------+-------------+----------------+\nonly showing top 3 rows\n\n",
              "removedWidgets": [],
              "addedWidgets": {},
              "metadata": {},
              "type": "ansi",
              "arguments": {}
            }
          },
          "data": {
            "text/plain": [
              "+--------------------+-------+-------------+----------------+\n|            features|SPORDER|NYCgov_Income|NYCgov_Threshold|\n+--------------------+-------+-------------+----------------+\n|[1.0,2.0,1.0,2.0,...|    1.0|    81417.961|         16241.6|\n|[1.0,2.0,1.0,3.0,...|    1.0|    228417.95|       22900.654|\n|[1.0,1.0,6.0,3.0,...|    2.0|    228417.95|       22900.654|\n+--------------------+-------+-------------+----------------+\nonly showing top 3 rows\n\n"
            ]
          }
        }
      ],
      "execution_count": null
    },
    {
      "cell_type": "code",
      "source": [
        "splits = vtrain.randomSplit([0.7, 0.3])\n",
        "train_df = splits[0]\n",
        "test_df = splits[1]"
      ],
      "metadata": {
        "id": "HvTXXIBrvS9x",
        "application/vnd.databricks.v1+cell": {
          "showTitle": false,
          "cellMetadata": {},
          "nuid": "ed15daa6-dc6e-45b2-9269-76f9b3837105",
          "inputWidgets": {},
          "title": ""
        }
      },
      "outputs": [],
      "execution_count": null
    },
    {
      "cell_type": "code",
      "source": [
        "lr = LinearRegression(featuresCol = 'features', labelCol='NYCgov_Income', maxIter=10, regParam=0.3, elasticNetParam=0.8)\n",
        "lr_model = lr.fit(train_df)\n",
        "print(\"Coefficients: \" + str(lr_model.coefficients))\n",
        "print(\"Intercept: \" + str(lr_model.intercept))"
      ],
      "metadata": {
        "id": "6c_yDVrUvS9y",
        "outputId": "731c9e5b-0c5c-4727-a145-cc4049bfa9e2",
        "application/vnd.databricks.v1+cell": {
          "showTitle": false,
          "cellMetadata": {},
          "nuid": "0f017c38-ff81-4d9e-be7b-130afc094f0b",
          "inputWidgets": {},
          "title": ""
        }
      },
      "outputs": [
        {
          "output_type": "display_data",
          "metadata": {
            "application/vnd.databricks.v1+output": {
              "datasetInfos": [],
              "data": "Coefficients: [514.4970807870751,0.0,-71.6118075712933,0.0,-2001.0182395574132,-1.4566762785002694,0.1464755178478641,2283.3212441379574,0.46375065784767383]\nIntercept: 22205.972161058653\n",
              "removedWidgets": [],
              "addedWidgets": {},
              "metadata": {},
              "type": "ansi",
              "arguments": {}
            }
          },
          "data": {
            "text/plain": [
              "Coefficients: [514.4970807870751,0.0,-71.6118075712933,0.0,-2001.0182395574132,-1.4566762785002694,0.1464755178478641,2283.3212441379574,0.46375065784767383]\nIntercept: 22205.972161058653\n"
            ]
          }
        }
      ],
      "execution_count": null
    },
    {
      "cell_type": "code",
      "source": [
        "lr_predictions = lr_model.transform(test_df)\n",
        "lr_predictions.select(\"prediction\",\"NYCgov_Income\",\"NYCgov_Threshold\").show(5)\n",
        "from pyspark.ml.evaluation import RegressionEvaluator\n",
        "lr_evaluator = RegressionEvaluator(predictionCol=\"prediction\", \\\n",
        "                 labelCol=\"NYCgov_Income\",metricName=\"r2\")\n",
        "print(\"R Squared (R2) on test data = %g\" % lr_evaluator.evaluate(lr_predictions))"
      ],
      "metadata": {
        "id": "191qPTzpvS9y",
        "outputId": "18078d52-375c-432f-8db0-00da94bb380d",
        "application/vnd.databricks.v1+cell": {
          "showTitle": false,
          "cellMetadata": {},
          "nuid": "033b76de-e44b-4218-b603-a8536a3138f4",
          "inputWidgets": {},
          "title": ""
        }
      },
      "outputs": [
        {
          "output_type": "display_data",
          "metadata": {
            "application/vnd.databricks.v1+output": {
              "datasetInfos": [],
              "data": "+------------------+-------------+----------------+\n|        prediction|NYCgov_Income|NYCgov_Threshold|\n+------------------+-------------+----------------+\n| 47214.70418603954|    83549.164|       50108.082|\n|36764.050756402445|     34512.52|       29096.334|\n| 44630.08505548914|    54920.121|       42861.836|\n| 46212.63049714334|    46381.277|         39037.0|\n|41905.081230690936|    50590.238|       30845.143|\n+------------------+-------------+----------------+\nonly showing top 5 rows\n\nR Squared (R2) on test data = 0.952062\n",
              "removedWidgets": [],
              "addedWidgets": {},
              "metadata": {},
              "type": "ansi",
              "arguments": {}
            }
          },
          "data": {
            "text/plain": [
              "+------------------+-------------+----------------+\n|        prediction|NYCgov_Income|NYCgov_Threshold|\n+------------------+-------------+----------------+\n| 47214.70418603954|    83549.164|       50108.082|\n|36764.050756402445|     34512.52|       29096.334|\n| 44630.08505548914|    54920.121|       42861.836|\n| 46212.63049714334|    46381.277|         39037.0|\n|41905.081230690936|    50590.238|       30845.143|\n+------------------+-------------+----------------+\nonly showing top 5 rows\n\nR Squared (R2) on test data = 0.952062\n"
            ]
          }
        }
      ],
      "execution_count": null
    },
    {
      "cell_type": "code",
      "source": [
        "predictions = lr_model.transform(test_df)\n",
        "predictions.select(\"prediction\",\"NYCgov_Income\",\"NYCgov_Threshold\", 'SPORDER').show()"
      ],
      "metadata": {
        "id": "1EV31pRbvS9z",
        "outputId": "6f139d6a-3778-4e4f-9038-38a40129df7e",
        "application/vnd.databricks.v1+cell": {
          "showTitle": false,
          "cellMetadata": {},
          "nuid": "8eaefec4-6b0b-4b76-ba4a-8d622fd94322",
          "inputWidgets": {},
          "title": ""
        }
      },
      "outputs": [
        {
          "output_type": "display_data",
          "metadata": {
            "application/vnd.databricks.v1+output": {
              "datasetInfos": [],
              "data": "+------------------+-------------+----------------+-------+\n|        prediction|NYCgov_Income|NYCgov_Threshold|SPORDER|\n+------------------+-------------+----------------+-------+\n| 47214.70418603954|    83549.164|       50108.082|    6.0|\n|36764.050756402445|     34512.52|       29096.334|    3.0|\n| 44630.08505548914|    54920.121|       42861.836|    3.0|\n| 46212.63049714334|    46381.277|         39037.0|    4.0|\n|41905.081230690936|    50590.238|       30845.143|    3.0|\n|38367.929272398476|    28234.467|       24508.658|    2.0|\n|  54074.5629334042|    53969.586|       42861.836|    5.0|\n|25069.999700115826|     8982.877|       37461.793|    3.0|\n|25069.999700115826|     8982.877|       37461.793|    5.0|\n| 29979.58856689779|    20101.656|       37461.793|    5.0|\n| 33697.01791070461|    23906.908|       30845.143|    2.0|\n| 79550.05481195843|    84027.109|       56929.145|    7.0|\n|58897.996098439806|    73327.047|       30845.143|    3.0|\n| 67461.03885714443|    51472.172|         35044.0|    4.0|\n| 74372.33950421534|    84610.313|         39037.0|    4.0|\n| 84854.89682528662|     109434.0|       46545.484|    5.0|\n| 99360.63825019349|     116118.2|       50108.082|    4.0|\n| 52484.78791274029|    44148.859|       24508.658|    2.0|\n| 42603.62539100376|    44021.496|       30845.143|    3.0|\n| 37878.79017636717|     81763.75|       42861.836|    3.0|\n+------------------+-------------+----------------+-------+\nonly showing top 20 rows\n\n",
              "removedWidgets": [],
              "addedWidgets": {},
              "metadata": {},
              "type": "ansi",
              "arguments": {}
            }
          },
          "data": {
            "text/plain": [
              "+------------------+-------------+----------------+-------+\n|        prediction|NYCgov_Income|NYCgov_Threshold|SPORDER|\n+------------------+-------------+----------------+-------+\n| 47214.70418603954|    83549.164|       50108.082|    6.0|\n|36764.050756402445|     34512.52|       29096.334|    3.0|\n| 44630.08505548914|    54920.121|       42861.836|    3.0|\n| 46212.63049714334|    46381.277|         39037.0|    4.0|\n|41905.081230690936|    50590.238|       30845.143|    3.0|\n|38367.929272398476|    28234.467|       24508.658|    2.0|\n|  54074.5629334042|    53969.586|       42861.836|    5.0|\n|25069.999700115826|     8982.877|       37461.793|    3.0|\n|25069.999700115826|     8982.877|       37461.793|    5.0|\n| 29979.58856689779|    20101.656|       37461.793|    5.0|\n| 33697.01791070461|    23906.908|       30845.143|    2.0|\n| 79550.05481195843|    84027.109|       56929.145|    7.0|\n|58897.996098439806|    73327.047|       30845.143|    3.0|\n| 67461.03885714443|    51472.172|         35044.0|    4.0|\n| 74372.33950421534|    84610.313|         39037.0|    4.0|\n| 84854.89682528662|     109434.0|       46545.484|    5.0|\n| 99360.63825019349|     116118.2|       50108.082|    4.0|\n| 52484.78791274029|    44148.859|       24508.658|    2.0|\n| 42603.62539100376|    44021.496|       30845.143|    3.0|\n| 37878.79017636717|     81763.75|       42861.836|    3.0|\n+------------------+-------------+----------------+-------+\nonly showing top 20 rows\n\n"
            ]
          }
        }
      ],
      "execution_count": null
    },
    {
      "cell_type": "code",
      "source": [
        "### Se compara la predicción con el threshold. Si la predicción es menor al threshold se tiene una situación de pobreza\n",
        "\n",
        "pred_df = predictions.toPandas()"
      ],
      "metadata": {
        "id": "3fN7-vHLvS9z",
        "outputId": "fb89c993-cccf-4c7d-8c81-46bd379b434b",
        "application/vnd.databricks.v1+cell": {
          "showTitle": false,
          "cellMetadata": {},
          "nuid": "3034628a-3bca-42b5-8e19-b6415682cd87",
          "inputWidgets": {},
          "title": ""
        }
      },
      "outputs": [
        {
          "output_type": "display_data",
          "metadata": {
            "application/vnd.databricks.v1+output": {
              "datasetInfos": [],
              "data": "/databricks/spark/python/pyspark/sql/pandas/conversion.py:92: UserWarning: toPandas attempted Arrow optimization because 'spark.sql.execution.arrow.pyspark.enabled' is set to true; however, failed by the reason below:\n  Unable to convert the field features. If this column is not necessary, you may consider dropping it or converting to primitive type before the conversion.\nDirect cause: Unsupported type in conversion to Arrow: VectorUDT\nAttempting non-optimization as 'spark.sql.execution.arrow.pyspark.fallback.enabled' is set to true.\n  warnings.warn(msg)\n",
              "removedWidgets": [],
              "addedWidgets": {},
              "metadata": {},
              "type": "ansi",
              "arguments": {}
            }
          },
          "data": {
            "text/plain": [
              "/databricks/spark/python/pyspark/sql/pandas/conversion.py:92: UserWarning: toPandas attempted Arrow optimization because 'spark.sql.execution.arrow.pyspark.enabled' is set to true; however, failed by the reason below:\n  Unable to convert the field features. If this column is not necessary, you may consider dropping it or converting to primitive type before the conversion.\nDirect cause: Unsupported type in conversion to Arrow: VectorUDT\nAttempting non-optimization as 'spark.sql.execution.arrow.pyspark.fallback.enabled' is set to true.\n  warnings.warn(msg)\n"
            ]
          }
        }
      ],
      "execution_count": null
    },
    {
      "cell_type": "code",
      "source": [
        "pred_df.head(5)"
      ],
      "metadata": {
        "id": "D9N56pQivS9z",
        "outputId": "e255e09c-140c-458d-f8cd-f97472acc483",
        "application/vnd.databricks.v1+cell": {
          "showTitle": false,
          "cellMetadata": {},
          "nuid": "0e0224ee-68ef-4cb1-8bc3-96203604f0ca",
          "inputWidgets": {},
          "title": ""
        }
      },
      "outputs": [
        {
          "output_type": "display_data",
          "metadata": {
            "application/vnd.databricks.v1+output": {
              "datasetInfos": [],
              "data": "<div>\n<style scoped>\n    .dataframe tbody tr th:only-of-type {\n        vertical-align: middle;\n    }\n\n    .dataframe tbody tr th {\n        vertical-align: top;\n    }\n\n    .dataframe thead th {\n        text-align: right;\n    }\n</style>\n<table border=\"1\" class=\"dataframe\">\n  <thead>\n    <tr style=\"text-align: right;\">\n      <th></th>\n      <th>features</th>\n      <th>SPORDER</th>\n      <th>NYCgov_Income</th>\n      <th>NYCgov_Threshold</th>\n      <th>prediction</th>\n    </tr>\n  </thead>\n  <tbody>\n    <tr>\n      <th>0</th>\n      <td>[1.0, 1.0, 0.0, 1.0, 1.0, 0.0, -10347.301, 2.0...</td>\n      <td>6.0</td>\n      <td>83549.164</td>\n      <td>50108.082</td>\n      <td>47214.704186</td>\n    </tr>\n    <tr>\n      <th>1</th>\n      <td>[1.0, 1.0, 0.0, 1.0, 1.0, 0.0, -9268.4092, 4.0...</td>\n      <td>3.0</td>\n      <td>34512.520</td>\n      <td>29096.334</td>\n      <td>36764.050756</td>\n    </tr>\n    <tr>\n      <th>2</th>\n      <td>[1.0, 1.0, 0.0, 1.0, 1.0, 0.0, -8266.3994, 2.0...</td>\n      <td>3.0</td>\n      <td>54920.121</td>\n      <td>42861.836</td>\n      <td>44630.085055</td>\n    </tr>\n    <tr>\n      <th>3</th>\n      <td>[1.0, 1.0, 0.0, 1.0, 1.0, 0.0, -6988.2583, 4.0...</td>\n      <td>4.0</td>\n      <td>46381.277</td>\n      <td>39037.000</td>\n      <td>46212.630497</td>\n    </tr>\n    <tr>\n      <th>4</th>\n      <td>[1.0, 1.0, 0.0, 1.0, 1.0, 0.0, -5603.96, 4.0, ...</td>\n      <td>3.0</td>\n      <td>50590.238</td>\n      <td>30845.143</td>\n      <td>41905.081231</td>\n    </tr>\n  </tbody>\n</table>\n</div>",
              "textData": null,
              "removedWidgets": [],
              "addedWidgets": {},
              "metadata": {},
              "type": "htmlSandbox",
              "arguments": {}
            }
          },
          "data": {
            "text/html": [
              "<div>\n<style scoped>\n    .dataframe tbody tr th:only-of-type {\n        vertical-align: middle;\n    }\n\n    .dataframe tbody tr th {\n        vertical-align: top;\n    }\n\n    .dataframe thead th {\n        text-align: right;\n    }\n</style>\n<table border=\"1\" class=\"dataframe\">\n  <thead>\n    <tr style=\"text-align: right;\">\n      <th></th>\n      <th>features</th>\n      <th>SPORDER</th>\n      <th>NYCgov_Income</th>\n      <th>NYCgov_Threshold</th>\n      <th>prediction</th>\n    </tr>\n  </thead>\n  <tbody>\n    <tr>\n      <th>0</th>\n      <td>[1.0, 1.0, 0.0, 1.0, 1.0, 0.0, -10347.301, 2.0...</td>\n      <td>6.0</td>\n      <td>83549.164</td>\n      <td>50108.082</td>\n      <td>47214.704186</td>\n    </tr>\n    <tr>\n      <th>1</th>\n      <td>[1.0, 1.0, 0.0, 1.0, 1.0, 0.0, -9268.4092, 4.0...</td>\n      <td>3.0</td>\n      <td>34512.520</td>\n      <td>29096.334</td>\n      <td>36764.050756</td>\n    </tr>\n    <tr>\n      <th>2</th>\n      <td>[1.0, 1.0, 0.0, 1.0, 1.0, 0.0, -8266.3994, 2.0...</td>\n      <td>3.0</td>\n      <td>54920.121</td>\n      <td>42861.836</td>\n      <td>44630.085055</td>\n    </tr>\n    <tr>\n      <th>3</th>\n      <td>[1.0, 1.0, 0.0, 1.0, 1.0, 0.0, -6988.2583, 4.0...</td>\n      <td>4.0</td>\n      <td>46381.277</td>\n      <td>39037.000</td>\n      <td>46212.630497</td>\n    </tr>\n    <tr>\n      <th>4</th>\n      <td>[1.0, 1.0, 0.0, 1.0, 1.0, 0.0, -5603.96, 4.0, ...</td>\n      <td>3.0</td>\n      <td>50590.238</td>\n      <td>30845.143</td>\n      <td>41905.081231</td>\n    </tr>\n  </tbody>\n</table>\n</div>"
            ]
          }
        }
      ],
      "execution_count": null
    },
    {
      "cell_type": "code",
      "source": [
        "pred_df[pred_df['NYCgov_Threshold'] > pred_df['prediction']]"
      ],
      "metadata": {
        "id": "sBdZ87h4vS90",
        "outputId": "dff95a62-c41c-4143-900b-bfcae1fdce32",
        "application/vnd.databricks.v1+cell": {
          "showTitle": false,
          "cellMetadata": {},
          "nuid": "ae711b46-b924-4d16-9f1d-29bd66c698f8",
          "inputWidgets": {},
          "title": ""
        }
      },
      "outputs": [
        {
          "output_type": "display_data",
          "metadata": {
            "application/vnd.databricks.v1+output": {
              "datasetInfos": [],
              "data": "<div>\n<style scoped>\n    .dataframe tbody tr th:only-of-type {\n        vertical-align: middle;\n    }\n\n    .dataframe tbody tr th {\n        vertical-align: top;\n    }\n\n    .dataframe thead th {\n        text-align: right;\n    }\n</style>\n<table border=\"1\" class=\"dataframe\">\n  <thead>\n    <tr style=\"text-align: right;\">\n      <th></th>\n      <th>features</th>\n      <th>SPORDER</th>\n      <th>NYCgov_Income</th>\n      <th>NYCgov_Threshold</th>\n      <th>prediction</th>\n    </tr>\n  </thead>\n  <tbody>\n    <tr>\n      <th>0</th>\n      <td>[1.0, 1.0, 0.0, 1.0, 1.0, 0.0, -10347.301, 2.0...</td>\n      <td>6.0</td>\n      <td>83549.164</td>\n      <td>50108.082</td>\n      <td>47214.704186</td>\n    </tr>\n    <tr>\n      <th>7</th>\n      <td>[1.0, 1.0, 0.0, 1.0, 1.0, 0.0, 0.0, 1.0, 4457....</td>\n      <td>3.0</td>\n      <td>8982.877</td>\n      <td>37461.793</td>\n      <td>25069.999700</td>\n    </tr>\n    <tr>\n      <th>8</th>\n      <td>[1.0, 1.0, 0.0, 1.0, 1.0, 0.0, 0.0, 1.0, 4457....</td>\n      <td>5.0</td>\n      <td>8982.877</td>\n      <td>37461.793</td>\n      <td>25069.999700</td>\n    </tr>\n    <tr>\n      <th>9</th>\n      <td>[1.0, 1.0, 0.0, 1.0, 1.0, 0.0, 0.0, 4.0, 273.5...</td>\n      <td>5.0</td>\n      <td>20101.656</td>\n      <td>37461.793</td>\n      <td>29979.588567</td>\n    </tr>\n    <tr>\n      <th>19</th>\n      <td>[1.0, 1.0, 0.0, 1.0, 1.0, 48263.754, 23874.57,...</td>\n      <td>3.0</td>\n      <td>81763.750</td>\n      <td>42861.836</td>\n      <td>37878.790176</td>\n    </tr>\n    <tr>\n      <th>...</th>\n      <td>...</td>\n      <td>...</td>\n      <td>...</td>\n      <td>...</td>\n      <td>...</td>\n    </tr>\n    <tr>\n      <th>20319</th>\n      <td>[5.0, 2.0, 6.0, 2.0, 3.0, 0.0, -500.0, 4.0, 30...</td>\n      <td>2.0</td>\n      <td>34858.828</td>\n      <td>42861.836</td>\n      <td>41641.458962</td>\n    </tr>\n    <tr>\n      <th>20347</th>\n      <td>[5.0, 2.0, 6.0, 3.0, 3.0, 20931.227, -10102.20...</td>\n      <td>3.0</td>\n      <td>38940.109</td>\n      <td>39037.000</td>\n      <td>2547.289954</td>\n    </tr>\n    <tr>\n      <th>20348</th>\n      <td>[5.0, 2.0, 6.0, 4.0, 3.0, 0.0, -10224.793, 3.0...</td>\n      <td>2.0</td>\n      <td>23018.719</td>\n      <td>35044.000</td>\n      <td>30745.379887</td>\n    </tr>\n    <tr>\n      <th>20352</th>\n      <td>[5.0, 2.0, 6.0, 4.0, 3.0, 0.0, -5908.1743, 3.0...</td>\n      <td>1.0</td>\n      <td>19246.145</td>\n      <td>46545.484</td>\n      <td>29310.431393</td>\n    </tr>\n    <tr>\n      <th>20353</th>\n      <td>[5.0, 2.0, 6.0, 4.0, 3.0, 0.0, -5908.1743, 3.0...</td>\n      <td>5.0</td>\n      <td>19246.145</td>\n      <td>46545.484</td>\n      <td>29310.431393</td>\n    </tr>\n  </tbody>\n</table>\n<p>1998 rows × 5 columns</p>\n</div>",
              "textData": null,
              "removedWidgets": [],
              "addedWidgets": {},
              "metadata": {},
              "type": "htmlSandbox",
              "arguments": {}
            }
          },
          "data": {
            "text/html": [
              "<div>\n<style scoped>\n    .dataframe tbody tr th:only-of-type {\n        vertical-align: middle;\n    }\n\n    .dataframe tbody tr th {\n        vertical-align: top;\n    }\n\n    .dataframe thead th {\n        text-align: right;\n    }\n</style>\n<table border=\"1\" class=\"dataframe\">\n  <thead>\n    <tr style=\"text-align: right;\">\n      <th></th>\n      <th>features</th>\n      <th>SPORDER</th>\n      <th>NYCgov_Income</th>\n      <th>NYCgov_Threshold</th>\n      <th>prediction</th>\n    </tr>\n  </thead>\n  <tbody>\n    <tr>\n      <th>0</th>\n      <td>[1.0, 1.0, 0.0, 1.0, 1.0, 0.0, -10347.301, 2.0...</td>\n      <td>6.0</td>\n      <td>83549.164</td>\n      <td>50108.082</td>\n      <td>47214.704186</td>\n    </tr>\n    <tr>\n      <th>7</th>\n      <td>[1.0, 1.0, 0.0, 1.0, 1.0, 0.0, 0.0, 1.0, 4457....</td>\n      <td>3.0</td>\n      <td>8982.877</td>\n      <td>37461.793</td>\n      <td>25069.999700</td>\n    </tr>\n    <tr>\n      <th>8</th>\n      <td>[1.0, 1.0, 0.0, 1.0, 1.0, 0.0, 0.0, 1.0, 4457....</td>\n      <td>5.0</td>\n      <td>8982.877</td>\n      <td>37461.793</td>\n      <td>25069.999700</td>\n    </tr>\n    <tr>\n      <th>9</th>\n      <td>[1.0, 1.0, 0.0, 1.0, 1.0, 0.0, 0.0, 4.0, 273.5...</td>\n      <td>5.0</td>\n      <td>20101.656</td>\n      <td>37461.793</td>\n      <td>29979.588567</td>\n    </tr>\n    <tr>\n      <th>19</th>\n      <td>[1.0, 1.0, 0.0, 1.0, 1.0, 48263.754, 23874.57,...</td>\n      <td>3.0</td>\n      <td>81763.750</td>\n      <td>42861.836</td>\n      <td>37878.790176</td>\n    </tr>\n    <tr>\n      <th>...</th>\n      <td>...</td>\n      <td>...</td>\n      <td>...</td>\n      <td>...</td>\n      <td>...</td>\n    </tr>\n    <tr>\n      <th>20319</th>\n      <td>[5.0, 2.0, 6.0, 2.0, 3.0, 0.0, -500.0, 4.0, 30...</td>\n      <td>2.0</td>\n      <td>34858.828</td>\n      <td>42861.836</td>\n      <td>41641.458962</td>\n    </tr>\n    <tr>\n      <th>20347</th>\n      <td>[5.0, 2.0, 6.0, 3.0, 3.0, 20931.227, -10102.20...</td>\n      <td>3.0</td>\n      <td>38940.109</td>\n      <td>39037.000</td>\n      <td>2547.289954</td>\n    </tr>\n    <tr>\n      <th>20348</th>\n      <td>[5.0, 2.0, 6.0, 4.0, 3.0, 0.0, -10224.793, 3.0...</td>\n      <td>2.0</td>\n      <td>23018.719</td>\n      <td>35044.000</td>\n      <td>30745.379887</td>\n    </tr>\n    <tr>\n      <th>20352</th>\n      <td>[5.0, 2.0, 6.0, 4.0, 3.0, 0.0, -5908.1743, 3.0...</td>\n      <td>1.0</td>\n      <td>19246.145</td>\n      <td>46545.484</td>\n      <td>29310.431393</td>\n    </tr>\n    <tr>\n      <th>20353</th>\n      <td>[5.0, 2.0, 6.0, 4.0, 3.0, 0.0, -5908.1743, 3.0...</td>\n      <td>5.0</td>\n      <td>19246.145</td>\n      <td>46545.484</td>\n      <td>29310.431393</td>\n    </tr>\n  </tbody>\n</table>\n<p>1998 rows × 5 columns</p>\n</div>"
            ]
          }
        }
      ],
      "execution_count": null
    },
    {
      "cell_type": "code",
      "source": [
        "pred_df['SPORDER'].mean()"
      ],
      "metadata": {
        "id": "EaX8kRGNvS90",
        "outputId": "875c6723-a199-40d5-ee77-647a42429b9c",
        "application/vnd.databricks.v1+cell": {
          "showTitle": false,
          "cellMetadata": {},
          "nuid": "892921b3-17ef-44d6-b6bb-34773ab6dc17",
          "inputWidgets": {},
          "title": ""
        }
      },
      "outputs": [
        {
          "output_type": "display_data",
          "metadata": {
            "application/vnd.databricks.v1+output": {
              "datasetInfos": [],
              "data": "Out[88]: 2.306605162430072",
              "removedWidgets": [],
              "addedWidgets": {},
              "metadata": {},
              "type": "ansi",
              "arguments": {}
            }
          },
          "data": {
            "text/plain": [
              "Out[88]: 2.306605162430072"
            ]
          }
        }
      ],
      "execution_count": null
    },
    {
      "cell_type": "code",
      "source": [
        "# SPORDER es el num de personas en la casa. A mayor num de personas mayor la pobreza teniendo en cuenta las demás variables"
      ],
      "metadata": {
        "id": "fOb7v7DUvS90",
        "application/vnd.databricks.v1+cell": {
          "showTitle": false,
          "cellMetadata": {},
          "nuid": "f9168fe9-fe2b-4195-a537-69898e882fcd",
          "inputWidgets": {},
          "title": ""
        }
      },
      "outputs": [],
      "execution_count": null
    },
    {
      "cell_type": "code",
      "source": [
        "#ACCIDENTES"
      ],
      "metadata": {
        "id": "N32DfbLHvegH",
        "application/vnd.databricks.v1+cell": {
          "showTitle": false,
          "cellMetadata": {},
          "nuid": "d8c12f19-d7a5-43bd-972e-b46da901b536",
          "inputWidgets": {},
          "title": ""
        }
      },
      "outputs": [],
      "execution_count": null
    },
    {
      "cell_type": "code",
      "source": [
        "accidentes.head(5)"
      ],
      "metadata": {
        "outputId": "c584536a-2d1b-4641-becc-dbf10b68b1b8",
        "id": "dhd2i9LMvXkG",
        "application/vnd.databricks.v1+cell": {
          "showTitle": false,
          "cellMetadata": {},
          "nuid": "0239652e-d17c-4667-afc9-43f48ff583ba",
          "inputWidgets": {},
          "title": ""
        }
      },
      "outputs": [
        {
          "output_type": "display_data",
          "metadata": {
            "application/vnd.databricks.v1+output": {
              "datasetInfos": [],
              "data": "<div>\n<style scoped>\n    .dataframe tbody tr th:only-of-type {\n        vertical-align: middle;\n    }\n\n    .dataframe tbody tr th {\n        vertical-align: top;\n    }\n\n    .dataframe thead th {\n        text-align: right;\n    }\n</style>\n<table border=\"1\" class=\"dataframe\">\n  <thead>\n    <tr style=\"text-align: right;\">\n      <th></th>\n      <th>CRASH_DATE</th>\n      <th>CRASH_TIME</th>\n      <th>STATE_REGISTRATION</th>\n      <th>VEHICLE_TYPE</th>\n      <th>VEHICLE_MAKE</th>\n      <th>VEHICLE_YEAR</th>\n      <th>VEHICLE_OCCUPANTS</th>\n      <th>DRIVER_SEX</th>\n      <th>DRIVER_LICENSE_STATUS</th>\n      <th>PUBLIC_PROPERTY_DAMAGE</th>\n      <th>PUBLIC_PROPERTY_DAMAGE_TYPE</th>\n      <th>CONTRIBUTING_FACTOR_1</th>\n      <th>CONTRIBUTING_FACTOR_2</th>\n    </tr>\n  </thead>\n  <tbody>\n    <tr>\n      <th>0</th>\n      <td>09/23/2019</td>\n      <td>8:15</td>\n      <td>NY</td>\n      <td>Station Wagon/Sport Utility Vehicle</td>\n      <td>TOYT -CAR/SUV</td>\n      <td>2002.0</td>\n      <td>1.0</td>\n      <td>M</td>\n      <td>Licensed</td>\n      <td>N</td>\n      <td>Unspecified</td>\n      <td>Driver Inattention/Distraction</td>\n      <td>Unspecified</td>\n    </tr>\n    <tr>\n      <th>1</th>\n      <td>05/02/2016</td>\n      <td>17:35</td>\n      <td>NY</td>\n      <td>4 dr sedan</td>\n      <td>MERZ -CAR/SUV</td>\n      <td>2015.0</td>\n      <td>2.0</td>\n      <td>M</td>\n      <td>Licensed</td>\n      <td>N</td>\n      <td>Unspecified</td>\n      <td>Driver Inattention/Distraction</td>\n      <td>Unsafe Lane Changing</td>\n    </tr>\n    <tr>\n      <th>2</th>\n      <td>10/24/2019</td>\n      <td>13:15</td>\n      <td>NY</td>\n      <td>Bus</td>\n      <td>FRHT-TRUCK/BUS</td>\n      <td>2006.0</td>\n      <td>13.0</td>\n      <td>M</td>\n      <td>Licensed</td>\n      <td>N</td>\n      <td>Unspecified</td>\n      <td>Unspecified</td>\n      <td>Unspecified</td>\n    </tr>\n    <tr>\n      <th>3</th>\n      <td>08/18/2016</td>\n      <td>12:39</td>\n      <td>NY</td>\n      <td>Station Wagon/Sport Utility Vehicle</td>\n      <td>FORD -CAR/SUV</td>\n      <td>2005.0</td>\n      <td>2.0</td>\n      <td>F</td>\n      <td>Licensed</td>\n      <td>N</td>\n      <td>Unspecified</td>\n      <td>Driver Inattention/Distraction</td>\n      <td>Unspecified</td>\n    </tr>\n    <tr>\n      <th>4</th>\n      <td>07/22/2016</td>\n      <td>15:40</td>\n      <td>NY</td>\n      <td>Convertible</td>\n      <td>VOLK -CAR/SUV</td>\n      <td>2013.0</td>\n      <td>1.0</td>\n      <td>M</td>\n      <td>Licensed</td>\n      <td>N</td>\n      <td>Unspecified</td>\n      <td>Unspecified</td>\n      <td>Unspecified</td>\n    </tr>\n  </tbody>\n</table>\n</div>",
              "textData": null,
              "removedWidgets": [],
              "addedWidgets": {},
              "metadata": {},
              "type": "htmlSandbox",
              "arguments": {}
            }
          },
          "data": {
            "text/html": [
              "<div>\n<style scoped>\n    .dataframe tbody tr th:only-of-type {\n        vertical-align: middle;\n    }\n\n    .dataframe tbody tr th {\n        vertical-align: top;\n    }\n\n    .dataframe thead th {\n        text-align: right;\n    }\n</style>\n<table border=\"1\" class=\"dataframe\">\n  <thead>\n    <tr style=\"text-align: right;\">\n      <th></th>\n      <th>CRASH_DATE</th>\n      <th>CRASH_TIME</th>\n      <th>STATE_REGISTRATION</th>\n      <th>VEHICLE_TYPE</th>\n      <th>VEHICLE_MAKE</th>\n      <th>VEHICLE_YEAR</th>\n      <th>VEHICLE_OCCUPANTS</th>\n      <th>DRIVER_SEX</th>\n      <th>DRIVER_LICENSE_STATUS</th>\n      <th>PUBLIC_PROPERTY_DAMAGE</th>\n      <th>PUBLIC_PROPERTY_DAMAGE_TYPE</th>\n      <th>CONTRIBUTING_FACTOR_1</th>\n      <th>CONTRIBUTING_FACTOR_2</th>\n    </tr>\n  </thead>\n  <tbody>\n    <tr>\n      <th>0</th>\n      <td>09/23/2019</td>\n      <td>8:15</td>\n      <td>NY</td>\n      <td>Station Wagon/Sport Utility Vehicle</td>\n      <td>TOYT -CAR/SUV</td>\n      <td>2002.0</td>\n      <td>1.0</td>\n      <td>M</td>\n      <td>Licensed</td>\n      <td>N</td>\n      <td>Unspecified</td>\n      <td>Driver Inattention/Distraction</td>\n      <td>Unspecified</td>\n    </tr>\n    <tr>\n      <th>1</th>\n      <td>05/02/2016</td>\n      <td>17:35</td>\n      <td>NY</td>\n      <td>4 dr sedan</td>\n      <td>MERZ -CAR/SUV</td>\n      <td>2015.0</td>\n      <td>2.0</td>\n      <td>M</td>\n      <td>Licensed</td>\n      <td>N</td>\n      <td>Unspecified</td>\n      <td>Driver Inattention/Distraction</td>\n      <td>Unsafe Lane Changing</td>\n    </tr>\n    <tr>\n      <th>2</th>\n      <td>10/24/2019</td>\n      <td>13:15</td>\n      <td>NY</td>\n      <td>Bus</td>\n      <td>FRHT-TRUCK/BUS</td>\n      <td>2006.0</td>\n      <td>13.0</td>\n      <td>M</td>\n      <td>Licensed</td>\n      <td>N</td>\n      <td>Unspecified</td>\n      <td>Unspecified</td>\n      <td>Unspecified</td>\n    </tr>\n    <tr>\n      <th>3</th>\n      <td>08/18/2016</td>\n      <td>12:39</td>\n      <td>NY</td>\n      <td>Station Wagon/Sport Utility Vehicle</td>\n      <td>FORD -CAR/SUV</td>\n      <td>2005.0</td>\n      <td>2.0</td>\n      <td>F</td>\n      <td>Licensed</td>\n      <td>N</td>\n      <td>Unspecified</td>\n      <td>Driver Inattention/Distraction</td>\n      <td>Unspecified</td>\n    </tr>\n    <tr>\n      <th>4</th>\n      <td>07/22/2016</td>\n      <td>15:40</td>\n      <td>NY</td>\n      <td>Convertible</td>\n      <td>VOLK -CAR/SUV</td>\n      <td>2013.0</td>\n      <td>1.0</td>\n      <td>M</td>\n      <td>Licensed</td>\n      <td>N</td>\n      <td>Unspecified</td>\n      <td>Unspecified</td>\n      <td>Unspecified</td>\n    </tr>\n  </tbody>\n</table>\n</div>"
            ]
          }
        }
      ],
      "execution_count": null
    },
    {
      "cell_type": "code",
      "source": [
        "# Se filtran datos importantes\n",
        "accidentes_fltrd = accidentes.filter(items=['VEHICLE_YEAR', 'VEHICLE_OCCUPANTS', 'DRIVER_SEX', 'PUBLIC_PROPERTY_DAMAGE', 'CONTRIBUTING_FACTOR_1', 'CONTRIBUTING_FACTOR_2' ])"
      ],
      "metadata": {
        "id": "sFuZbfLpvXkH",
        "application/vnd.databricks.v1+cell": {
          "showTitle": false,
          "cellMetadata": {},
          "nuid": "e9966570-8b4c-434e-92f4-af4827e8f983",
          "inputWidgets": {},
          "title": ""
        }
      },
      "outputs": [],
      "execution_count": null
    },
    {
      "cell_type": "code",
      "source": [
        "# Se llenan de 0 los nan\n",
        "accidentes_fltrd = accidentes_fltrd.fillna(0)"
      ],
      "metadata": {
        "id": "caKRwJdJvXkH",
        "application/vnd.databricks.v1+cell": {
          "showTitle": false,
          "cellMetadata": {},
          "nuid": "a42ffacc-9ac3-4cb2-b53d-e2b964330bcb",
          "inputWidgets": {},
          "title": ""
        }
      },
      "outputs": [],
      "execution_count": null
    },
    {
      "cell_type": "code",
      "source": [
        "from pyspark.sql import SparkSession\n",
        "#Create PySpark SparkSession\n",
        "spark = SparkSession.builder \\\n",
        "    .master(\"local[1]\") \\\n",
        "    .appName(\"SparkByExamples.com\") \\\n",
        "    .getOrCreate()\n",
        "#Create PySpark DataFrame from Pandas\n",
        "sparkDF=spark.createDataFrame(accidentes_fltrd) \n",
        "sparkDF.printSchema()\n",
        "sparkDF.show()"
      ],
      "metadata": {
        "outputId": "cc3162b3-0a5d-457a-f2dc-7f16d847eb0e",
        "id": "PiOFTgMnvXkI",
        "application/vnd.databricks.v1+cell": {
          "showTitle": false,
          "cellMetadata": {},
          "nuid": "de51749a-8956-4e38-bf13-5f6e948b5384",
          "inputWidgets": {},
          "title": ""
        }
      },
      "outputs": [
        {
          "output_type": "display_data",
          "metadata": {
            "application/vnd.databricks.v1+output": {
              "datasetInfos": [],
              "data": "root\n |-- VEHICLE_YEAR: double (nullable = true)\n |-- VEHICLE_OCCUPANTS: double (nullable = true)\n |-- DRIVER_SEX: string (nullable = true)\n |-- PUBLIC_PROPERTY_DAMAGE: string (nullable = true)\n |-- CONTRIBUTING_FACTOR_1: string (nullable = true)\n |-- CONTRIBUTING_FACTOR_2: string (nullable = true)\n\n+------------+-----------------+----------+----------------------+---------------------+---------------------+\n|VEHICLE_YEAR|VEHICLE_OCCUPANTS|DRIVER_SEX|PUBLIC_PROPERTY_DAMAGE|CONTRIBUTING_FACTOR_1|CONTRIBUTING_FACTOR_2|\n+------------+-----------------+----------+----------------------+---------------------+---------------------+\n|      2002.0|              1.0|         M|                     N| Driver Inattentio...|          Unspecified|\n|      2015.0|              2.0|         M|                     N| Driver Inattentio...| Unsafe Lane Changing|\n|      2006.0|             13.0|         M|                     N|          Unspecified|          Unspecified|\n|      2005.0|              2.0|         F|                     N| Driver Inattentio...|          Unspecified|\n|      2013.0|              1.0|         M|                     N|          Unspecified|          Unspecified|\n|      2015.0|              2.0|         F|                     N|          Unspecified|          Unspecified|\n|      2015.0|              1.0|         M|                     N|          Unspecified|          Unspecified|\n|      2018.0|              3.0|         F|                     N|          Unspecified|          Unspecified|\n|      2006.0|              0.0|         M|                     N|          Unspecified|          Unspecified|\n|      2011.0|              3.0|         M|                     N|          Unspecified|          Unspecified|\n|      2008.0|              2.0|         M|                     N| Driver Inattentio...|          Unspecified|\n|      2019.0|              1.0|         M|                     N|     Backing Unsafely| Driver Inattentio...|\n|      2017.0|              1.0|         F|                     N|          Unspecified|          Unspecified|\n|      2018.0|              3.0|         M|                     N| Failure to Yield ...| Traffic Control D...|\n|      2017.0|              1.0|         M|                     N| Driver Inattentio...|          Unspecified|\n|      2011.0|              1.0|         F|                     N|          Unspecified|          Unspecified|\n|      2000.0|              1.0|         M|                     N| Following Too Clo...|          Unspecified|\n|      2010.0|              1.0|         F|                     N|          Unspecified|          Unspecified|\n|      2015.0|              1.0|         M|                     N|   Turning Improperly|    Oversized Vehicle|\n|      2000.0|              1.0|         F|                     N|     Backing Unsafely|  Driver Inexperience|\n+------------+-----------------+----------+----------------------+---------------------+---------------------+\nonly showing top 20 rows\n\n",
              "removedWidgets": [],
              "addedWidgets": {},
              "metadata": {},
              "type": "ansi",
              "arguments": {}
            }
          },
          "data": {
            "text/plain": [
              "root\n |-- VEHICLE_YEAR: double (nullable = true)\n |-- VEHICLE_OCCUPANTS: double (nullable = true)\n |-- DRIVER_SEX: string (nullable = true)\n |-- PUBLIC_PROPERTY_DAMAGE: string (nullable = true)\n |-- CONTRIBUTING_FACTOR_1: string (nullable = true)\n |-- CONTRIBUTING_FACTOR_2: string (nullable = true)\n\n+------------+-----------------+----------+----------------------+---------------------+---------------------+\n|VEHICLE_YEAR|VEHICLE_OCCUPANTS|DRIVER_SEX|PUBLIC_PROPERTY_DAMAGE|CONTRIBUTING_FACTOR_1|CONTRIBUTING_FACTOR_2|\n+------------+-----------------+----------+----------------------+---------------------+---------------------+\n|      2002.0|              1.0|         M|                     N| Driver Inattentio...|          Unspecified|\n|      2015.0|              2.0|         M|                     N| Driver Inattentio...| Unsafe Lane Changing|\n|      2006.0|             13.0|         M|                     N|          Unspecified|          Unspecified|\n|      2005.0|              2.0|         F|                     N| Driver Inattentio...|          Unspecified|\n|      2013.0|              1.0|         M|                     N|          Unspecified|          Unspecified|\n|      2015.0|              2.0|         F|                     N|          Unspecified|          Unspecified|\n|      2015.0|              1.0|         M|                     N|          Unspecified|          Unspecified|\n|      2018.0|              3.0|         F|                     N|          Unspecified|          Unspecified|\n|      2006.0|              0.0|         M|                     N|          Unspecified|          Unspecified|\n|      2011.0|              3.0|         M|                     N|          Unspecified|          Unspecified|\n|      2008.0|              2.0|         M|                     N| Driver Inattentio...|          Unspecified|\n|      2019.0|              1.0|         M|                     N|     Backing Unsafely| Driver Inattentio...|\n|      2017.0|              1.0|         F|                     N|          Unspecified|          Unspecified|\n|      2018.0|              3.0|         M|                     N| Failure to Yield ...| Traffic Control D...|\n|      2017.0|              1.0|         M|                     N| Driver Inattentio...|          Unspecified|\n|      2011.0|              1.0|         F|                     N|          Unspecified|          Unspecified|\n|      2000.0|              1.0|         M|                     N| Following Too Clo...|          Unspecified|\n|      2010.0|              1.0|         F|                     N|          Unspecified|          Unspecified|\n|      2015.0|              1.0|         M|                     N|   Turning Improperly|    Oversized Vehicle|\n|      2000.0|              1.0|         F|                     N|     Backing Unsafely|  Driver Inexperience|\n+------------+-----------------+----------+----------------------+---------------------+---------------------+\nonly showing top 20 rows\n\n"
            ]
          }
        }
      ],
      "execution_count": null
    },
    {
      "cell_type": "code",
      "source": [
        "vectorAssembler = VectorAssembler(inputCols = ['VEHICLE_YEAR', 'VEHICLE_OCCUPANTS'], outputCol = 'features')\n",
        "vtrain = vectorAssembler.transform(sparkDF)\n",
        "vtrain = vtrain.select(['features', 'VEHICLE_YEAR', 'VEHICLE_OCCUPANTS', 'DRIVER_SEX']) # Off_Pov_Stat\n",
        "vtrain.show(3)"
      ],
      "metadata": {
        "outputId": "2914a32f-258c-4696-eea4-2b1c09253373",
        "id": "Cpa7tttwvXkI",
        "application/vnd.databricks.v1+cell": {
          "showTitle": false,
          "cellMetadata": {},
          "nuid": "ab766d68-9864-4a60-a451-d9747e27d60e",
          "inputWidgets": {},
          "title": ""
        }
      },
      "outputs": [
        {
          "output_type": "display_data",
          "metadata": {
            "application/vnd.databricks.v1+output": {
              "datasetInfos": [],
              "data": "+-------------+------------+-----------------+----------+\n|     features|VEHICLE_YEAR|VEHICLE_OCCUPANTS|DRIVER_SEX|\n+-------------+------------+-----------------+----------+\n| [2002.0,1.0]|      2002.0|              1.0|         M|\n| [2015.0,2.0]|      2015.0|              2.0|         M|\n|[2006.0,13.0]|      2006.0|             13.0|         M|\n+-------------+------------+-----------------+----------+\nonly showing top 3 rows\n\n",
              "removedWidgets": [],
              "addedWidgets": {},
              "metadata": {},
              "type": "ansi",
              "arguments": {}
            }
          },
          "data": {
            "text/plain": [
              "+-------------+------------+-----------------+----------+\n|     features|VEHICLE_YEAR|VEHICLE_OCCUPANTS|DRIVER_SEX|\n+-------------+------------+-----------------+----------+\n| [2002.0,1.0]|      2002.0|              1.0|         M|\n| [2015.0,2.0]|      2015.0|              2.0|         M|\n|[2006.0,13.0]|      2006.0|             13.0|         M|\n+-------------+------------+-----------------+----------+\nonly showing top 3 rows\n\n"
            ]
          }
        }
      ],
      "execution_count": null
    },
    {
      "cell_type": "code",
      "source": [
        "splits = vtrain.randomSplit([0.7, 0.3])\n",
        "train_df = splits[0]\n",
        "test_df = splits[1]"
      ],
      "metadata": {
        "id": "F2R1_SC-vXkJ",
        "application/vnd.databricks.v1+cell": {
          "showTitle": false,
          "cellMetadata": {},
          "nuid": "ed15daa6-dc6e-45b2-9269-76f9b3837105",
          "inputWidgets": {},
          "title": ""
        }
      },
      "outputs": [],
      "execution_count": null
    },
    {
      "cell_type": "code",
      "source": [
        "lr = LinearRegression(featuresCol = 'features', labelCol='VEHICLE_OCCUPANTS', maxIter=10, regParam=0.3, elasticNetParam=0.8)\n",
        "lr_model = lr.fit(train_df)\n",
        "print(\"Coefficients: \" + str(lr_model.coefficients))\n",
        "print(\"Intercept: \" + str(lr_model.intercept))"
      ],
      "metadata": {
        "outputId": "731c9e5b-0c5c-4727-a145-cc4049bfa9e2",
        "id": "PHk44G5CvXkJ",
        "application/vnd.databricks.v1+cell": {
          "showTitle": false,
          "cellMetadata": {},
          "nuid": "0f017c38-ff81-4d9e-be7b-130afc094f0b",
          "inputWidgets": {},
          "title": ""
        }
      },
      "outputs": [
        {
          "output_type": "display_data",
          "metadata": {
            "application/vnd.databricks.v1+output": {
              "datasetInfos": [],
              "data": "Coefficients: [0.0,0.9500922581906605]\nIntercept: 0.06853673255341661\n",
              "removedWidgets": [],
              "addedWidgets": {},
              "metadata": {},
              "type": "ansi",
              "arguments": {}
            }
          },
          "data": {
            "text/plain": [
              "Coefficients: [0.0,0.9500922581906605]\nIntercept: 0.06853673255341661\n"
            ]
          }
        }
      ],
      "execution_count": null
    },
    {
      "cell_type": "code",
      "source": [
        "lr_predictions = lr_model.transform(test_df)\n",
        "lr_predictions.select(\"prediction\",\"VEHICLE_OCCUPANTS\",\"VEHICLE_YEAR\", 'DRIVER_SEX').show(5)\n",
        "from pyspark.ml.evaluation import RegressionEvaluator\n",
        "lr_evaluator = RegressionEvaluator(predictionCol=\"prediction\", \\\n",
        "                 labelCol=\"VEHICLE_OCCUPANTS\",metricName=\"r2\")\n",
        "print(\"R Squared (R2) on test data = %g\" % lr_evaluator.evaluate(lr_predictions))"
      ],
      "metadata": {
        "outputId": "18078d52-375c-432f-8db0-00da94bb380d",
        "id": "awc73lj1vXkJ",
        "application/vnd.databricks.v1+cell": {
          "showTitle": false,
          "cellMetadata": {},
          "nuid": "033b76de-e44b-4218-b603-a8536a3138f4",
          "inputWidgets": {},
          "title": ""
        }
      },
      "outputs": [
        {
          "output_type": "display_data",
          "metadata": {
            "application/vnd.databricks.v1+output": {
              "datasetInfos": [],
              "data": "+------------------+-----------------+------------+----------+\n|        prediction|VEHICLE_OCCUPANTS|VEHICLE_YEAR|DRIVER_SEX|\n+------------------+-----------------+------------+----------+\n| 1.018628990744077|              1.0|      1963.0|         M|\n|2.9188135071253978|              3.0|      1967.0|         M|\n| 1.018628990744077|              1.0|      1968.0|         M|\n| 1.018628990744077|              1.0|      1969.0|         M|\n| 1.018628990744077|              1.0|      1970.0|         M|\n+------------------+-----------------+------------+----------+\nonly showing top 5 rows\n\nR Squared (R2) on test data = 0.997509\n",
              "removedWidgets": [],
              "addedWidgets": {},
              "metadata": {},
              "type": "ansi",
              "arguments": {}
            }
          },
          "data": {
            "text/plain": [
              "+------------------+-----------------+------------+----------+\n|        prediction|VEHICLE_OCCUPANTS|VEHICLE_YEAR|DRIVER_SEX|\n+------------------+-----------------+------------+----------+\n| 1.018628990744077|              1.0|      1963.0|         M|\n|2.9188135071253978|              3.0|      1967.0|         M|\n| 1.018628990744077|              1.0|      1968.0|         M|\n| 1.018628990744077|              1.0|      1969.0|         M|\n| 1.018628990744077|              1.0|      1970.0|         M|\n+------------------+-----------------+------------+----------+\nonly showing top 5 rows\n\nR Squared (R2) on test data = 0.997509\n"
            ]
          }
        }
      ],
      "execution_count": null
    },
    {
      "cell_type": "code",
      "source": [
        "predictions = lr_model.transform(test_df)\n",
        "predictions.select(\"prediction\",\"VEHICLE_OCCUPANTS\",\"VEHICLE_YEAR\", 'DRIVER_SEX').show()"
      ],
      "metadata": {
        "outputId": "6f139d6a-3778-4e4f-9038-38a40129df7e",
        "id": "42SGlLPMvXkK",
        "application/vnd.databricks.v1+cell": {
          "showTitle": false,
          "cellMetadata": {},
          "nuid": "8eaefec4-6b0b-4b76-ba4a-8d622fd94322",
          "inputWidgets": {},
          "title": ""
        }
      },
      "outputs": [
        {
          "output_type": "display_data",
          "metadata": {
            "application/vnd.databricks.v1+output": {
              "datasetInfos": [],
              "data": "+-------------------+-----------------+------------+----------+\n|         prediction|VEHICLE_OCCUPANTS|VEHICLE_YEAR|DRIVER_SEX|\n+-------------------+-----------------+------------+----------+\n|  1.018628990744077|              1.0|      1963.0|         M|\n| 2.9188135071253978|              3.0|      1967.0|         M|\n|  1.018628990744077|              1.0|      1968.0|         M|\n|  1.018628990744077|              1.0|      1969.0|         M|\n|  1.018628990744077|              1.0|      1970.0|         M|\n| 1.9687212489347374|              2.0|      1973.0|         M|\n|0.06853673255341661|              0.0|      1974.0|         M|\n|  1.018628990744077|              1.0|      1974.0|         M|\n|  1.018628990744077|              1.0|      1976.0|         M|\n|  1.018628990744077|              1.0|      1976.0|         M|\n| 1.9687212489347374|              2.0|      1977.0|         M|\n|  1.018628990744077|              1.0|      1978.0|         M|\n| 1.9687212489347374|              2.0|      1981.0|         M|\n| 2.9188135071253978|              3.0|      1981.0|         M|\n|  1.018628990744077|              1.0|      1982.0|         M|\n|  1.018628990744077|              1.0|      1982.0|         M|\n|0.06853673255341661|              0.0|      1983.0|         M|\n|  1.018628990744077|              1.0|      1983.0|         M|\n|  1.018628990744077|              1.0|      1983.0|         M|\n|  1.018628990744077|              1.0|      1983.0|         M|\n+-------------------+-----------------+------------+----------+\nonly showing top 20 rows\n\n",
              "removedWidgets": [],
              "addedWidgets": {},
              "metadata": {},
              "type": "ansi",
              "arguments": {}
            }
          },
          "data": {
            "text/plain": [
              "+-------------------+-----------------+------------+----------+\n|         prediction|VEHICLE_OCCUPANTS|VEHICLE_YEAR|DRIVER_SEX|\n+-------------------+-----------------+------------+----------+\n|  1.018628990744077|              1.0|      1963.0|         M|\n| 2.9188135071253978|              3.0|      1967.0|         M|\n|  1.018628990744077|              1.0|      1968.0|         M|\n|  1.018628990744077|              1.0|      1969.0|         M|\n|  1.018628990744077|              1.0|      1970.0|         M|\n| 1.9687212489347374|              2.0|      1973.0|         M|\n|0.06853673255341661|              0.0|      1974.0|         M|\n|  1.018628990744077|              1.0|      1974.0|         M|\n|  1.018628990744077|              1.0|      1976.0|         M|\n|  1.018628990744077|              1.0|      1976.0|         M|\n| 1.9687212489347374|              2.0|      1977.0|         M|\n|  1.018628990744077|              1.0|      1978.0|         M|\n| 1.9687212489347374|              2.0|      1981.0|         M|\n| 2.9188135071253978|              3.0|      1981.0|         M|\n|  1.018628990744077|              1.0|      1982.0|         M|\n|  1.018628990744077|              1.0|      1982.0|         M|\n|0.06853673255341661|              0.0|      1983.0|         M|\n|  1.018628990744077|              1.0|      1983.0|         M|\n|  1.018628990744077|              1.0|      1983.0|         M|\n|  1.018628990744077|              1.0|      1983.0|         M|\n+-------------------+-----------------+------------+----------+\nonly showing top 20 rows\n\n"
            ]
          }
        }
      ],
      "execution_count": null
    },
    {
      "cell_type": "code",
      "source": [
        "### Se compara la predicción con el threshold. Si la predicción es menor al threshold se tiene una situación de pobreza\n",
        "\n",
        "pred_df = predictions.toPandas()"
      ],
      "metadata": {
        "outputId": "fb89c993-cccf-4c7d-8c81-46bd379b434b",
        "id": "GlipSgZ8vXkK",
        "application/vnd.databricks.v1+cell": {
          "showTitle": false,
          "cellMetadata": {},
          "nuid": "3034628a-3bca-42b5-8e19-b6415682cd87",
          "inputWidgets": {},
          "title": ""
        }
      },
      "outputs": [
        {
          "output_type": "display_data",
          "metadata": {
            "application/vnd.databricks.v1+output": {
              "datasetInfos": [],
              "data": "/databricks/spark/python/pyspark/sql/pandas/conversion.py:92: UserWarning: toPandas attempted Arrow optimization because 'spark.sql.execution.arrow.pyspark.enabled' is set to true; however, failed by the reason below:\n  Unable to convert the field features. If this column is not necessary, you may consider dropping it or converting to primitive type before the conversion.\nDirect cause: Unsupported type in conversion to Arrow: VectorUDT\nAttempting non-optimization as 'spark.sql.execution.arrow.pyspark.fallback.enabled' is set to true.\n  warnings.warn(msg)\n",
              "removedWidgets": [],
              "addedWidgets": {},
              "metadata": {},
              "type": "ansi",
              "arguments": {}
            }
          },
          "data": {
            "text/plain": [
              "/databricks/spark/python/pyspark/sql/pandas/conversion.py:92: UserWarning: toPandas attempted Arrow optimization because 'spark.sql.execution.arrow.pyspark.enabled' is set to true; however, failed by the reason below:\n  Unable to convert the field features. If this column is not necessary, you may consider dropping it or converting to primitive type before the conversion.\nDirect cause: Unsupported type in conversion to Arrow: VectorUDT\nAttempting non-optimization as 'spark.sql.execution.arrow.pyspark.fallback.enabled' is set to true.\n  warnings.warn(msg)\n"
            ]
          }
        }
      ],
      "execution_count": null
    },
    {
      "cell_type": "code",
      "source": [
        "pred_df.head(5)"
      ],
      "metadata": {
        "outputId": "e255e09c-140c-458d-f8cd-f97472acc483",
        "id": "LHaQIJ5JvXkK",
        "application/vnd.databricks.v1+cell": {
          "showTitle": false,
          "cellMetadata": {},
          "nuid": "0e0224ee-68ef-4cb1-8bc3-96203604f0ca",
          "inputWidgets": {},
          "title": ""
        }
      },
      "outputs": [
        {
          "output_type": "display_data",
          "metadata": {
            "application/vnd.databricks.v1+output": {
              "datasetInfos": [],
              "data": "<div>\n<style scoped>\n    .dataframe tbody tr th:only-of-type {\n        vertical-align: middle;\n    }\n\n    .dataframe tbody tr th {\n        vertical-align: top;\n    }\n\n    .dataframe thead th {\n        text-align: right;\n    }\n</style>\n<table border=\"1\" class=\"dataframe\">\n  <thead>\n    <tr style=\"text-align: right;\">\n      <th></th>\n      <th>features</th>\n      <th>VEHICLE_YEAR</th>\n      <th>VEHICLE_OCCUPANTS</th>\n      <th>DRIVER_SEX</th>\n      <th>prediction</th>\n    </tr>\n  </thead>\n  <tbody>\n    <tr>\n      <th>0</th>\n      <td>[1963.0, 1.0]</td>\n      <td>1963.0</td>\n      <td>1.0</td>\n      <td>M</td>\n      <td>1.018629</td>\n    </tr>\n    <tr>\n      <th>1</th>\n      <td>[1967.0, 3.0]</td>\n      <td>1967.0</td>\n      <td>3.0</td>\n      <td>M</td>\n      <td>2.918814</td>\n    </tr>\n    <tr>\n      <th>2</th>\n      <td>[1968.0, 1.0]</td>\n      <td>1968.0</td>\n      <td>1.0</td>\n      <td>M</td>\n      <td>1.018629</td>\n    </tr>\n    <tr>\n      <th>3</th>\n      <td>[1969.0, 1.0]</td>\n      <td>1969.0</td>\n      <td>1.0</td>\n      <td>M</td>\n      <td>1.018629</td>\n    </tr>\n    <tr>\n      <th>4</th>\n      <td>[1970.0, 1.0]</td>\n      <td>1970.0</td>\n      <td>1.0</td>\n      <td>M</td>\n      <td>1.018629</td>\n    </tr>\n  </tbody>\n</table>\n</div>",
              "textData": null,
              "removedWidgets": [],
              "addedWidgets": {},
              "metadata": {},
              "type": "htmlSandbox",
              "arguments": {}
            }
          },
          "data": {
            "text/html": [
              "<div>\n<style scoped>\n    .dataframe tbody tr th:only-of-type {\n        vertical-align: middle;\n    }\n\n    .dataframe tbody tr th {\n        vertical-align: top;\n    }\n\n    .dataframe thead th {\n        text-align: right;\n    }\n</style>\n<table border=\"1\" class=\"dataframe\">\n  <thead>\n    <tr style=\"text-align: right;\">\n      <th></th>\n      <th>features</th>\n      <th>VEHICLE_YEAR</th>\n      <th>VEHICLE_OCCUPANTS</th>\n      <th>DRIVER_SEX</th>\n      <th>prediction</th>\n    </tr>\n  </thead>\n  <tbody>\n    <tr>\n      <th>0</th>\n      <td>[1963.0, 1.0]</td>\n      <td>1963.0</td>\n      <td>1.0</td>\n      <td>M</td>\n      <td>1.018629</td>\n    </tr>\n    <tr>\n      <th>1</th>\n      <td>[1967.0, 3.0]</td>\n      <td>1967.0</td>\n      <td>3.0</td>\n      <td>M</td>\n      <td>2.918814</td>\n    </tr>\n    <tr>\n      <th>2</th>\n      <td>[1968.0, 1.0]</td>\n      <td>1968.0</td>\n      <td>1.0</td>\n      <td>M</td>\n      <td>1.018629</td>\n    </tr>\n    <tr>\n      <th>3</th>\n      <td>[1969.0, 1.0]</td>\n      <td>1969.0</td>\n      <td>1.0</td>\n      <td>M</td>\n      <td>1.018629</td>\n    </tr>\n    <tr>\n      <th>4</th>\n      <td>[1970.0, 1.0]</td>\n      <td>1970.0</td>\n      <td>1.0</td>\n      <td>M</td>\n      <td>1.018629</td>\n    </tr>\n  </tbody>\n</table>\n</div>"
            ]
          }
        }
      ],
      "execution_count": null
    },
    {
      "cell_type": "code",
      "source": [
        "pred_df[pred_df['VEHICLE_OCCUPANTS'] > pred_df['prediction']]"
      ],
      "metadata": {
        "outputId": "dff95a62-c41c-4143-900b-bfcae1fdce32",
        "id": "GMIpK6EXvXkL",
        "application/vnd.databricks.v1+cell": {
          "showTitle": false,
          "cellMetadata": {},
          "nuid": "ae711b46-b924-4d16-9f1d-29bd66c698f8",
          "inputWidgets": {},
          "title": ""
        }
      },
      "outputs": [
        {
          "output_type": "display_data",
          "metadata": {
            "application/vnd.databricks.v1+output": {
              "datasetInfos": [],
              "data": "<div>\n<style scoped>\n    .dataframe tbody tr th:only-of-type {\n        vertical-align: middle;\n    }\n\n    .dataframe tbody tr th {\n        vertical-align: top;\n    }\n\n    .dataframe thead th {\n        text-align: right;\n    }\n</style>\n<table border=\"1\" class=\"dataframe\">\n  <thead>\n    <tr style=\"text-align: right;\">\n      <th></th>\n      <th>features</th>\n      <th>VEHICLE_YEAR</th>\n      <th>VEHICLE_OCCUPANTS</th>\n      <th>DRIVER_SEX</th>\n      <th>prediction</th>\n    </tr>\n  </thead>\n  <tbody>\n    <tr>\n      <th>1</th>\n      <td>[1967.0, 3.0]</td>\n      <td>1967.0</td>\n      <td>3.0</td>\n      <td>M</td>\n      <td>2.918814</td>\n    </tr>\n    <tr>\n      <th>5</th>\n      <td>[1973.0, 2.0]</td>\n      <td>1973.0</td>\n      <td>2.0</td>\n      <td>M</td>\n      <td>1.968721</td>\n    </tr>\n    <tr>\n      <th>10</th>\n      <td>[1977.0, 2.0]</td>\n      <td>1977.0</td>\n      <td>2.0</td>\n      <td>M</td>\n      <td>1.968721</td>\n    </tr>\n    <tr>\n      <th>12</th>\n      <td>[1981.0, 2.0]</td>\n      <td>1981.0</td>\n      <td>2.0</td>\n      <td>M</td>\n      <td>1.968721</td>\n    </tr>\n    <tr>\n      <th>13</th>\n      <td>[1981.0, 3.0]</td>\n      <td>1981.0</td>\n      <td>3.0</td>\n      <td>M</td>\n      <td>2.918814</td>\n    </tr>\n    <tr>\n      <th>...</th>\n      <td>...</td>\n      <td>...</td>\n      <td>...</td>\n      <td>...</td>\n      <td>...</td>\n    </tr>\n    <tr>\n      <th>382013</th>\n      <td>[2026.0, 2.0]</td>\n      <td>2026.0</td>\n      <td>2.0</td>\n      <td>F</td>\n      <td>1.968721</td>\n    </tr>\n    <tr>\n      <th>382017</th>\n      <td>[2028.0, 2.0]</td>\n      <td>2028.0</td>\n      <td>2.0</td>\n      <td>F</td>\n      <td>1.968721</td>\n    </tr>\n    <tr>\n      <th>382020</th>\n      <td>[2086.0, 3.0]</td>\n      <td>2086.0</td>\n      <td>3.0</td>\n      <td>M</td>\n      <td>2.918814</td>\n    </tr>\n    <tr>\n      <th>382029</th>\n      <td>[2718.0, 3.0]</td>\n      <td>2718.0</td>\n      <td>3.0</td>\n      <td>M</td>\n      <td>2.918814</td>\n    </tr>\n    <tr>\n      <th>382034</th>\n      <td>[3018.0, 2.0]</td>\n      <td>3018.0</td>\n      <td>2.0</td>\n      <td>M</td>\n      <td>1.968721</td>\n    </tr>\n  </tbody>\n</table>\n<p>91991 rows × 5 columns</p>\n</div>",
              "textData": null,
              "removedWidgets": [],
              "addedWidgets": {},
              "metadata": {},
              "type": "htmlSandbox",
              "arguments": {}
            }
          },
          "data": {
            "text/html": [
              "<div>\n<style scoped>\n    .dataframe tbody tr th:only-of-type {\n        vertical-align: middle;\n    }\n\n    .dataframe tbody tr th {\n        vertical-align: top;\n    }\n\n    .dataframe thead th {\n        text-align: right;\n    }\n</style>\n<table border=\"1\" class=\"dataframe\">\n  <thead>\n    <tr style=\"text-align: right;\">\n      <th></th>\n      <th>features</th>\n      <th>VEHICLE_YEAR</th>\n      <th>VEHICLE_OCCUPANTS</th>\n      <th>DRIVER_SEX</th>\n      <th>prediction</th>\n    </tr>\n  </thead>\n  <tbody>\n    <tr>\n      <th>1</th>\n      <td>[1967.0, 3.0]</td>\n      <td>1967.0</td>\n      <td>3.0</td>\n      <td>M</td>\n      <td>2.918814</td>\n    </tr>\n    <tr>\n      <th>5</th>\n      <td>[1973.0, 2.0]</td>\n      <td>1973.0</td>\n      <td>2.0</td>\n      <td>M</td>\n      <td>1.968721</td>\n    </tr>\n    <tr>\n      <th>10</th>\n      <td>[1977.0, 2.0]</td>\n      <td>1977.0</td>\n      <td>2.0</td>\n      <td>M</td>\n      <td>1.968721</td>\n    </tr>\n    <tr>\n      <th>12</th>\n      <td>[1981.0, 2.0]</td>\n      <td>1981.0</td>\n      <td>2.0</td>\n      <td>M</td>\n      <td>1.968721</td>\n    </tr>\n    <tr>\n      <th>13</th>\n      <td>[1981.0, 3.0]</td>\n      <td>1981.0</td>\n      <td>3.0</td>\n      <td>M</td>\n      <td>2.918814</td>\n    </tr>\n    <tr>\n      <th>...</th>\n      <td>...</td>\n      <td>...</td>\n      <td>...</td>\n      <td>...</td>\n      <td>...</td>\n    </tr>\n    <tr>\n      <th>382013</th>\n      <td>[2026.0, 2.0]</td>\n      <td>2026.0</td>\n      <td>2.0</td>\n      <td>F</td>\n      <td>1.968721</td>\n    </tr>\n    <tr>\n      <th>382017</th>\n      <td>[2028.0, 2.0]</td>\n      <td>2028.0</td>\n      <td>2.0</td>\n      <td>F</td>\n      <td>1.968721</td>\n    </tr>\n    <tr>\n      <th>382020</th>\n      <td>[2086.0, 3.0]</td>\n      <td>2086.0</td>\n      <td>3.0</td>\n      <td>M</td>\n      <td>2.918814</td>\n    </tr>\n    <tr>\n      <th>382029</th>\n      <td>[2718.0, 3.0]</td>\n      <td>2718.0</td>\n      <td>3.0</td>\n      <td>M</td>\n      <td>2.918814</td>\n    </tr>\n    <tr>\n      <th>382034</th>\n      <td>[3018.0, 2.0]</td>\n      <td>3018.0</td>\n      <td>2.0</td>\n      <td>M</td>\n      <td>1.968721</td>\n    </tr>\n  </tbody>\n</table>\n<p>91991 rows × 5 columns</p>\n</div>"
            ]
          }
        }
      ],
      "execution_count": null
    },
    {
      "cell_type": "code",
      "source": [
        "pred_df['VEHICLE_OCCUPANTS'].mean()"
      ],
      "metadata": {
        "outputId": "875c6723-a199-40d5-ee77-647a42429b9c",
        "id": "8Kt4ctm6vXkM",
        "application/vnd.databricks.v1+cell": {
          "showTitle": false,
          "cellMetadata": {},
          "nuid": "892921b3-17ef-44d6-b6bb-34773ab6dc17",
          "inputWidgets": {},
          "title": ""
        }
      },
      "outputs": [
        {
          "output_type": "display_data",
          "metadata": {
            "application/vnd.databricks.v1+output": {
              "datasetInfos": [],
              "data": "Out[20]: 1.3528287761950382",
              "removedWidgets": [],
              "addedWidgets": {},
              "metadata": {},
              "type": "ansi",
              "arguments": {}
            }
          },
          "data": {
            "text/plain": [
              "Out[20]: 1.3528287761950382"
            ]
          }
        }
      ],
      "execution_count": null
    },
    {
      "cell_type": "code",
      "source": [
        "# SPORDER es el num de personas en la casa. A mayor num de personas mayor la pobreza teniendo en cuenta las demás variables"
      ],
      "metadata": {
        "id": "9lk-OiT6vXkN",
        "application/vnd.databricks.v1+cell": {
          "showTitle": false,
          "cellMetadata": {},
          "nuid": "f9168fe9-fe2b-4195-a537-69898e882fcd",
          "inputWidgets": {},
          "title": ""
        }
      },
      "outputs": [],
      "execution_count": null
    },
    {
      "cell_type": "code",
      "source": [
        "# EDUCACION"
      ],
      "metadata": {
        "id": "R_zf3BaAvS91",
        "application/vnd.databricks.v1+cell": {
          "showTitle": false,
          "cellMetadata": {},
          "nuid": "c9269e50-c120-4818-9049-35a6fa5a984c",
          "inputWidgets": {},
          "title": ""
        }
      },
      "outputs": [],
      "execution_count": null
    },
    {
      "cell_type": "code",
      "source": [
        "educacion.head(5)"
      ],
      "metadata": {
        "id": "4ssvLsj-vS91",
        "outputId": "989a27b8-04e4-484f-d01c-40adc19fdcce",
        "application/vnd.databricks.v1+cell": {
          "showTitle": false,
          "cellMetadata": {},
          "nuid": "50b948d3-d065-41e7-8bac-3e2cc7541e1e",
          "inputWidgets": {},
          "title": ""
        }
      },
      "outputs": [
        {
          "output_type": "display_data",
          "metadata": {
            "application/vnd.databricks.v1+output": {
              "datasetInfos": [],
              "data": "<div>\n<style scoped>\n    .dataframe tbody tr th:only-of-type {\n        vertical-align: middle;\n    }\n\n    .dataframe tbody tr th {\n        vertical-align: top;\n    }\n\n    .dataframe thead th {\n        text-align: right;\n    }\n</style>\n<table border=\"1\" class=\"dataframe\">\n  <thead>\n    <tr style=\"text-align: right;\">\n      <th></th>\n      <th>Community School District</th>\n      <th>City Council District</th>\n      <th>School Name</th>\n      <th># of students in grades 9-12</th>\n      <th># of students in grades 9-12 scheduled for at least one semester of health instruction</th>\n      <th>%</th>\n      <th># of 16-17 June and August graduates</th>\n      <th># of 16-17 June and August graduates meeting high school health requirements</th>\n      <th>% 1</th>\n    </tr>\n  </thead>\n  <tbody>\n    <tr>\n      <th>0</th>\n      <td>2</td>\n      <td>1</td>\n      <td>Emma Lazarus High School</td>\n      <td>306</td>\n      <td>218</td>\n      <td>71.2%</td>\n      <td>33</td>\n      <td>33</td>\n      <td>100.0%</td>\n    </tr>\n    <tr>\n      <th>1</th>\n      <td>2</td>\n      <td>1</td>\n      <td>Urban Assembly New York Harbor School</td>\n      <td>433</td>\n      <td>419</td>\n      <td>96.8%</td>\n      <td>70</td>\n      <td>70</td>\n      <td>100.0%</td>\n    </tr>\n    <tr>\n      <th>2</th>\n      <td>2</td>\n      <td>1</td>\n      <td>Essex Street Academy</td>\n      <td>328</td>\n      <td>239</td>\n      <td>72.9%</td>\n      <td>69</td>\n      <td>69</td>\n      <td>100.0%</td>\n    </tr>\n    <tr>\n      <th>3</th>\n      <td>1</td>\n      <td>1</td>\n      <td>Forsyth Satellite Academy</td>\n      <td>161</td>\n      <td>144</td>\n      <td>89.4%</td>\n      <td>s</td>\n      <td>s</td>\n      <td>s</td>\n    </tr>\n    <tr>\n      <th>4</th>\n      <td>2</td>\n      <td>1</td>\n      <td>Manhattan Early College School for Advertising</td>\n      <td>267</td>\n      <td>103</td>\n      <td>38.6%</td>\n      <td>s</td>\n      <td>s</td>\n      <td>s</td>\n    </tr>\n  </tbody>\n</table>\n</div>",
              "textData": null,
              "removedWidgets": [],
              "addedWidgets": {},
              "metadata": {},
              "type": "htmlSandbox",
              "arguments": {}
            }
          },
          "data": {
            "text/html": [
              "<div>\n<style scoped>\n    .dataframe tbody tr th:only-of-type {\n        vertical-align: middle;\n    }\n\n    .dataframe tbody tr th {\n        vertical-align: top;\n    }\n\n    .dataframe thead th {\n        text-align: right;\n    }\n</style>\n<table border=\"1\" class=\"dataframe\">\n  <thead>\n    <tr style=\"text-align: right;\">\n      <th></th>\n      <th>Community School District</th>\n      <th>City Council District</th>\n      <th>School Name</th>\n      <th># of students in grades 9-12</th>\n      <th># of students in grades 9-12 scheduled for at least one semester of health instruction</th>\n      <th>%</th>\n      <th># of 16-17 June and August graduates</th>\n      <th># of 16-17 June and August graduates meeting high school health requirements</th>\n      <th>% 1</th>\n    </tr>\n  </thead>\n  <tbody>\n    <tr>\n      <th>0</th>\n      <td>2</td>\n      <td>1</td>\n      <td>Emma Lazarus High School</td>\n      <td>306</td>\n      <td>218</td>\n      <td>71.2%</td>\n      <td>33</td>\n      <td>33</td>\n      <td>100.0%</td>\n    </tr>\n    <tr>\n      <th>1</th>\n      <td>2</td>\n      <td>1</td>\n      <td>Urban Assembly New York Harbor School</td>\n      <td>433</td>\n      <td>419</td>\n      <td>96.8%</td>\n      <td>70</td>\n      <td>70</td>\n      <td>100.0%</td>\n    </tr>\n    <tr>\n      <th>2</th>\n      <td>2</td>\n      <td>1</td>\n      <td>Essex Street Academy</td>\n      <td>328</td>\n      <td>239</td>\n      <td>72.9%</td>\n      <td>69</td>\n      <td>69</td>\n      <td>100.0%</td>\n    </tr>\n    <tr>\n      <th>3</th>\n      <td>1</td>\n      <td>1</td>\n      <td>Forsyth Satellite Academy</td>\n      <td>161</td>\n      <td>144</td>\n      <td>89.4%</td>\n      <td>s</td>\n      <td>s</td>\n      <td>s</td>\n    </tr>\n    <tr>\n      <th>4</th>\n      <td>2</td>\n      <td>1</td>\n      <td>Manhattan Early College School for Advertising</td>\n      <td>267</td>\n      <td>103</td>\n      <td>38.6%</td>\n      <td>s</td>\n      <td>s</td>\n      <td>s</td>\n    </tr>\n  </tbody>\n</table>\n</div>"
            ]
          }
        }
      ],
      "execution_count": null
    },
    {
      "cell_type": "code",
      "source": [
        "# Se filtran datos importantes\n",
        "educacion_fltrd = educacion.filter(items=['Community School District', 'City Council District', '# of students in grades 9-12', '# of students in grades 9-12 scheduled for at least one semester of health instruction', '%', '# of 16-17 June and August graduates meeting high school health requirements', '% 1' ])"
      ],
      "metadata": {
        "id": "WHFP8JSTvS91",
        "application/vnd.databricks.v1+cell": {
          "showTitle": false,
          "cellMetadata": {},
          "nuid": "a2a45a3f-5e5f-46ea-bb3e-e05bc81e3b61",
          "inputWidgets": {},
          "title": ""
        }
      },
      "outputs": [],
      "execution_count": null
    },
    {
      "cell_type": "code",
      "source": [
        "# Se llenan de 0 los nan\n",
        "educacion_fltrd = educacion_fltrd.fillna(0)"
      ],
      "metadata": {
        "id": "vWNp76t_vS91",
        "application/vnd.databricks.v1+cell": {
          "showTitle": false,
          "cellMetadata": {},
          "nuid": "334d8bbb-c993-49f4-b835-d7c51237e0f4",
          "inputWidgets": {},
          "title": ""
        }
      },
      "outputs": [],
      "execution_count": null
    },
    {
      "cell_type": "code",
      "source": [
        "from pyspark.sql import SparkSession\n",
        "#Create PySpark SparkSession\n",
        "spark = SparkSession.builder \\\n",
        "    .master(\"local[1]\") \\\n",
        "    .appName(\"SparkByExamples.com\") \\\n",
        "    .getOrCreate()\n",
        "#Create PySpark DataFrame from Pandas\n",
        "sparkDF=spark.createDataFrame(educacion_fltrd) \n",
        "sparkDF.printSchema()\n",
        "sparkDF.show()"
      ],
      "metadata": {
        "id": "LKfBvQhOvS92",
        "outputId": "bbce067a-c3f4-4bc4-ad22-4b2c73da9f76",
        "application/vnd.databricks.v1+cell": {
          "showTitle": false,
          "cellMetadata": {},
          "nuid": "dcd648c2-6099-4ebd-84a6-9e897404b03b",
          "inputWidgets": {},
          "title": ""
        }
      },
      "outputs": [
        {
          "output_type": "display_data",
          "metadata": {
            "application/vnd.databricks.v1+output": {
              "datasetInfos": [],
              "data": "root\n |-- Community School District: long (nullable = true)\n |-- City Council District: long (nullable = true)\n |-- # of students in grades 9-12: long (nullable = true)\n |-- # of students in grades 9-12 scheduled for at least one semester of health instruction: string (nullable = true)\n |-- %: string (nullable = true)\n |-- # of 16-17 June and August graduates meeting high school health requirements: string (nullable = true)\n |-- % 1: string (nullable = true)\n\n+-------------------------+---------------------+----------------------------+--------------------------------------------------------------------------------------+-----+----------------------------------------------------------------------------+------+\n|Community School District|City Council District|# of students in grades 9-12|# of students in grades 9-12 scheduled for at least one semester of health instruction|    %|# of 16-17 June and August graduates meeting high school health requirements|   % 1|\n+-------------------------+---------------------+----------------------------+--------------------------------------------------------------------------------------+-----+----------------------------------------------------------------------------+------+\n|                        2|                    1|                         306|                                                                                   218|71.2%|                                                                          33|100.0%|\n|                        2|                    1|                         433|                                                                                   419|96.8%|                                                                          70|100.0%|\n|                        2|                    1|                         328|                                                                                   239|72.9%|                                                                          69|100.0%|\n|                        1|                    1|                         161|                                                                                   144|89.4%|                                                                           s|     s|\n|                        2|                    1|                         267|                                                                                   103|38.6%|                                                                           s|     s|\n|                        2|                    1|                         557|                                                                                   511|91.7%|                                                                         111|100.0%|\n|                        2|                    1|                         398|                                                                                   187|47.0%|                                                                          97|100.0%|\n|                        2|                    1|                         261|                                                                                   128|49.0%|                                                                          44|100.0%|\n|                        2|                    1|                         299|                                                                                   259|86.6%|                                                                          68|100.0%|\n|                        2|                    1|                         360|                                                                                   277|76.9%|                                                                         100|100.0%|\n|                        2|                    1|                         398|                                                                                   268|67.3%|                                                                          71|100.0%|\n|                        2|                    1|                         332|                                                                                     s|    s|                                                                          70|100.0%|\n|                        2|                    1|                         282|                                                                                   277|98.2%|                                                                           s|     s|\n|                        2|                    1|                         296|                                                                                   276|93.2%|                                                                          57|100.0%|\n|                        2|                    1|                         509|                                                                                   428|84.1%|                                                                          80|100.0%|\n|                        2|                    1|                         732|                                                                                   721|98.5%|                                                                         153|100.0%|\n|                        1|                    1|                         529|                                                                                   325|61.4%|                                                                          94|100.0%|\n|                       75|                    1|                          43|                                                                                     s|    s|                                                                           s|     s|\n|                        2|                    1|                         498|                                                                                   409|82.1%|                                                                          84|100.0%|\n|                        2|                    1|                         654|                                                                                   646|98.8%|                                                                         142|100.0%|\n+-------------------------+---------------------+----------------------------+--------------------------------------------------------------------------------------+-----+----------------------------------------------------------------------------+------+\nonly showing top 20 rows\n\n",
              "removedWidgets": [],
              "addedWidgets": {},
              "metadata": {},
              "type": "ansi",
              "arguments": {}
            }
          },
          "data": {
            "text/plain": [
              "root\n |-- Community School District: long (nullable = true)\n |-- City Council District: long (nullable = true)\n |-- # of students in grades 9-12: long (nullable = true)\n |-- # of students in grades 9-12 scheduled for at least one semester of health instruction: string (nullable = true)\n |-- %: string (nullable = true)\n |-- # of 16-17 June and August graduates meeting high school health requirements: string (nullable = true)\n |-- % 1: string (nullable = true)\n\n+-------------------------+---------------------+----------------------------+--------------------------------------------------------------------------------------+-----+----------------------------------------------------------------------------+------+\n|Community School District|City Council District|# of students in grades 9-12|# of students in grades 9-12 scheduled for at least one semester of health instruction|    %|# of 16-17 June and August graduates meeting high school health requirements|   % 1|\n+-------------------------+---------------------+----------------------------+--------------------------------------------------------------------------------------+-----+----------------------------------------------------------------------------+------+\n|                        2|                    1|                         306|                                                                                   218|71.2%|                                                                          33|100.0%|\n|                        2|                    1|                         433|                                                                                   419|96.8%|                                                                          70|100.0%|\n|                        2|                    1|                         328|                                                                                   239|72.9%|                                                                          69|100.0%|\n|                        1|                    1|                         161|                                                                                   144|89.4%|                                                                           s|     s|\n|                        2|                    1|                         267|                                                                                   103|38.6%|                                                                           s|     s|\n|                        2|                    1|                         557|                                                                                   511|91.7%|                                                                         111|100.0%|\n|                        2|                    1|                         398|                                                                                   187|47.0%|                                                                          97|100.0%|\n|                        2|                    1|                         261|                                                                                   128|49.0%|                                                                          44|100.0%|\n|                        2|                    1|                         299|                                                                                   259|86.6%|                                                                          68|100.0%|\n|                        2|                    1|                         360|                                                                                   277|76.9%|                                                                         100|100.0%|\n|                        2|                    1|                         398|                                                                                   268|67.3%|                                                                          71|100.0%|\n|                        2|                    1|                         332|                                                                                     s|    s|                                                                          70|100.0%|\n|                        2|                    1|                         282|                                                                                   277|98.2%|                                                                           s|     s|\n|                        2|                    1|                         296|                                                                                   276|93.2%|                                                                          57|100.0%|\n|                        2|                    1|                         509|                                                                                   428|84.1%|                                                                          80|100.0%|\n|                        2|                    1|                         732|                                                                                   721|98.5%|                                                                         153|100.0%|\n|                        1|                    1|                         529|                                                                                   325|61.4%|                                                                          94|100.0%|\n|                       75|                    1|                          43|                                                                                     s|    s|                                                                           s|     s|\n|                        2|                    1|                         498|                                                                                   409|82.1%|                                                                          84|100.0%|\n|                        2|                    1|                         654|                                                                                   646|98.8%|                                                                         142|100.0%|\n+-------------------------+---------------------+----------------------------+--------------------------------------------------------------------------------------+-----+----------------------------------------------------------------------------+------+\nonly showing top 20 rows\n\n"
            ]
          }
        }
      ],
      "execution_count": null
    },
    {
      "cell_type": "code",
      "source": [
        "vectorAssembler = VectorAssembler(inputCols = ['Community School District', 'City Council District', '# of students in grades 9-12' ], outputCol = 'features')\n",
        "vtrain = vectorAssembler.transform(sparkDF)\n",
        "vtrain = vtrain.select(['features', '# of students in grades 9-12', '# of 16-17 June and August graduates meeting high school health requirements', '% 1']) # Off_Pov_Stat\n",
        "vtrain.show(3)"
      ],
      "metadata": {
        "id": "Hf0X44MhvS92",
        "outputId": "6f4ac813-beca-4692-b95b-b44d24ae0c23",
        "application/vnd.databricks.v1+cell": {
          "showTitle": false,
          "cellMetadata": {},
          "nuid": "20ccd12c-02e8-4bf7-a6fb-173f7d456c7e",
          "inputWidgets": {},
          "title": ""
        }
      },
      "outputs": [
        {
          "output_type": "display_data",
          "metadata": {
            "application/vnd.databricks.v1+output": {
              "datasetInfos": [],
              "data": "+---------------+----------------------------+----------------------------------------------------------------------------+------+\n|       features|# of students in grades 9-12|# of 16-17 June and August graduates meeting high school health requirements|   % 1|\n+---------------+----------------------------+----------------------------------------------------------------------------+------+\n|[2.0,1.0,306.0]|                         306|                                                                          33|100.0%|\n|[2.0,1.0,433.0]|                         433|                                                                          70|100.0%|\n|[2.0,1.0,328.0]|                         328|                                                                          69|100.0%|\n+---------------+----------------------------+----------------------------------------------------------------------------+------+\nonly showing top 3 rows\n\n",
              "removedWidgets": [],
              "addedWidgets": {},
              "metadata": {},
              "type": "ansi",
              "arguments": {}
            }
          },
          "data": {
            "text/plain": [
              "+---------------+----------------------------+----------------------------------------------------------------------------+------+\n|       features|# of students in grades 9-12|# of 16-17 June and August graduates meeting high school health requirements|   % 1|\n+---------------+----------------------------+----------------------------------------------------------------------------+------+\n|[2.0,1.0,306.0]|                         306|                                                                          33|100.0%|\n|[2.0,1.0,433.0]|                         433|                                                                          70|100.0%|\n|[2.0,1.0,328.0]|                         328|                                                                          69|100.0%|\n+---------------+----------------------------+----------------------------------------------------------------------------+------+\nonly showing top 3 rows\n\n"
            ]
          }
        }
      ],
      "execution_count": null
    },
    {
      "cell_type": "code",
      "source": [
        "splits = vtrain.randomSplit([0.7, 0.3])\n",
        "train_df = splits[0]\n",
        "test_df = splits[1]"
      ],
      "metadata": {
        "id": "asgNrowSvS92",
        "application/vnd.databricks.v1+cell": {
          "showTitle": false,
          "cellMetadata": {},
          "nuid": "34481b8f-cab1-48a0-9d7e-b8487bfa28f2",
          "inputWidgets": {},
          "title": ""
        }
      },
      "outputs": [],
      "execution_count": null
    },
    {
      "cell_type": "code",
      "source": [
        "lr = LinearRegression(featuresCol = 'features', labelCol='# of students in grades 9-12', maxIter=10, regParam=0.3, elasticNetParam=0.8)\n",
        "lr_model = lr.fit(train_df)\n",
        "print(\"Coefficients: \" + str(lr_model.coefficients))\n",
        "print(\"Intercept: \" + str(lr_model.intercept))"
      ],
      "metadata": {
        "id": "c4R4OJ0VvS93",
        "outputId": "1186a126-6048-4cba-9c40-28afd18003a4",
        "application/vnd.databricks.v1+cell": {
          "showTitle": false,
          "cellMetadata": {},
          "nuid": "bf49a1a2-0ea2-45d1-b720-0c92a90702b9",
          "inputWidgets": {},
          "title": ""
        }
      },
      "outputs": [
        {
          "output_type": "display_data",
          "metadata": {
            "application/vnd.databricks.v1+output": {
              "datasetInfos": [],
              "data": "Coefficients: [0.0,0.0,0.9995775756366659]\nIntercept: 0.23555970907214166\n",
              "removedWidgets": [],
              "addedWidgets": {},
              "metadata": {},
              "type": "ansi",
              "arguments": {}
            }
          },
          "data": {
            "text/plain": [
              "Coefficients: [0.0,0.0,0.9995775756366659]\nIntercept: 0.23555970907214166\n"
            ]
          }
        }
      ],
      "execution_count": null
    },
    {
      "cell_type": "code",
      "source": [
        "lr_predictions = lr_model.transform(test_df)\n",
        "lr_predictions.select(\"prediction\", \"# of students in grades 9-12\").show(5)\n",
        "from pyspark.ml.evaluation import RegressionEvaluator\n",
        "lr_evaluator = RegressionEvaluator(predictionCol=\"prediction\", \\\n",
        "                 labelCol=\"# of students in grades 9-12\",metricName=\"r2\")\n",
        "print(\"R Squared (R2) on test data = %g\" % lr_evaluator.evaluate(lr_predictions))"
      ],
      "metadata": {
        "id": "hF4DDAtAvS93",
        "outputId": "c10a6942-189d-4a7e-cc19-0db2ac578edc",
        "application/vnd.databricks.v1+cell": {
          "showTitle": false,
          "cellMetadata": {},
          "nuid": "329c84b7-4124-45e1-98c2-5b09cdc0bf98",
          "inputWidgets": {},
          "title": ""
        }
      },
      "outputs": [
        {
          "output_type": "display_data",
          "metadata": {
            "application/vnd.databricks.v1+output": {
              "datasetInfos": [],
              "data": "+------------------+----------------------------+\n|        prediction|# of students in grades 9-12|\n+------------------+----------------------------+\n|134.17895484438537|                         134|\n|161.16754938657536|                         161|\n|181.15910089930867|                         181|\n| 212.1460057440453|                         212|\n|261.12530695024196|                         261|\n+------------------+----------------------------+\nonly showing top 5 rows\n\nR Squared (R2) on test data = 1\n",
              "removedWidgets": [],
              "addedWidgets": {},
              "metadata": {},
              "type": "ansi",
              "arguments": {}
            }
          },
          "data": {
            "text/plain": [
              "+------------------+----------------------------+\n|        prediction|# of students in grades 9-12|\n+------------------+----------------------------+\n|134.17895484438537|                         134|\n|161.16754938657536|                         161|\n|181.15910089930867|                         181|\n| 212.1460057440453|                         212|\n|261.12530695024196|                         261|\n+------------------+----------------------------+\nonly showing top 5 rows\n\nR Squared (R2) on test data = 1\n"
            ]
          }
        }
      ],
      "execution_count": null
    },
    {
      "cell_type": "code",
      "source": [
        "predictions = lr_model.transform(test_df)\n",
        "predictions.select(\"prediction\",\"# of students in grades 9-12\").show()"
      ],
      "metadata": {
        "id": "0U1w5WZ2vS94",
        "outputId": "bd819c65-d46f-4f9a-8a28-ce39257329e5",
        "application/vnd.databricks.v1+cell": {
          "showTitle": false,
          "cellMetadata": {},
          "nuid": "1035700e-22a8-47cc-b8a5-cf24b5219ecf",
          "inputWidgets": {},
          "title": ""
        }
      },
      "outputs": [
        {
          "output_type": "display_data",
          "metadata": {
            "application/vnd.databricks.v1+output": {
              "datasetInfos": [],
              "data": "+------------------+----------------------------+\n|        prediction|# of students in grades 9-12|\n+------------------+----------------------------+\n|134.17895484438537|                         134|\n|161.16754938657536|                         161|\n|181.15910089930867|                         181|\n| 212.1460057440453|                         212|\n|261.12530695024196|                         261|\n|267.12277240406195|                         267|\n| 328.0970045178986|                         328|\n| 360.0834869382719|                         360|\n| 498.0251923761318|                         498|\n| 653.9592941754516|                         654|\n|3348.8204380919033|                        3350|\n| 436.0513826866585|                         436|\n| 368.0801075433652|                         368|\n| 375.0771505728219|                         375|\n|382.07419360227857|                         382|\n| 416.0598311739252|                         416|\n| 433.0526499597485|                         433|\n| 436.0513826866585|                         436|\n|1261.7024601625444|                        1262|\n| 360.0834869382719|                         360|\n+------------------+----------------------------+\nonly showing top 20 rows\n\n",
              "removedWidgets": [],
              "addedWidgets": {},
              "metadata": {},
              "type": "ansi",
              "arguments": {}
            }
          },
          "data": {
            "text/plain": [
              "+------------------+----------------------------+\n|        prediction|# of students in grades 9-12|\n+------------------+----------------------------+\n|134.17895484438537|                         134|\n|161.16754938657536|                         161|\n|181.15910089930867|                         181|\n| 212.1460057440453|                         212|\n|261.12530695024196|                         261|\n|267.12277240406195|                         267|\n| 328.0970045178986|                         328|\n| 360.0834869382719|                         360|\n| 498.0251923761318|                         498|\n| 653.9592941754516|                         654|\n|3348.8204380919033|                        3350|\n| 436.0513826866585|                         436|\n| 368.0801075433652|                         368|\n| 375.0771505728219|                         375|\n|382.07419360227857|                         382|\n| 416.0598311739252|                         416|\n| 433.0526499597485|                         433|\n| 436.0513826866585|                         436|\n|1261.7024601625444|                        1262|\n| 360.0834869382719|                         360|\n+------------------+----------------------------+\nonly showing top 20 rows\n\n"
            ]
          }
        }
      ],
      "execution_count": null
    },
    {
      "cell_type": "code",
      "source": [
        "pred_df = predictions.toPandas()"
      ],
      "metadata": {
        "id": "IktCNqDZvS94",
        "application/vnd.databricks.v1+cell": {
          "showTitle": false,
          "cellMetadata": {},
          "nuid": "b854b10d-b900-4fa2-9360-53e2cd036517",
          "inputWidgets": {},
          "title": ""
        }
      },
      "outputs": [],
      "execution_count": null
    },
    {
      "cell_type": "code",
      "source": [
        "pred_df.head(5)"
      ],
      "metadata": {
        "id": "tSAkCjjcvS94",
        "outputId": "472b1ca6-1ee5-4be2-e62c-66d3fa036020",
        "application/vnd.databricks.v1+cell": {
          "showTitle": false,
          "cellMetadata": {},
          "nuid": "1f6f0679-ae26-4871-961e-19256f789ff6",
          "inputWidgets": {},
          "title": ""
        }
      },
      "outputs": [
        {
          "output_type": "display_data",
          "metadata": {
            "application/vnd.databricks.v1+output": {
              "datasetInfos": [],
              "data": "<div>\n<style scoped>\n    .dataframe tbody tr th:only-of-type {\n        vertical-align: middle;\n    }\n\n    .dataframe tbody tr th {\n        vertical-align: top;\n    }\n\n    .dataframe thead th {\n        text-align: right;\n    }\n</style>\n<table border=\"1\" class=\"dataframe\">\n  <thead>\n    <tr style=\"text-align: right;\">\n      <th></th>\n      <th>features</th>\n      <th># of students in grades 9-12</th>\n      <th># of 16-17 June and August graduates meeting high school health requirements</th>\n      <th>% 1</th>\n      <th>prediction</th>\n    </tr>\n  </thead>\n  <tbody>\n    <tr>\n      <th>0</th>\n      <td>[1.0, 1.0, 134.0]</td>\n      <td>134</td>\n      <td>s</td>\n      <td>s</td>\n      <td>134.178955</td>\n    </tr>\n    <tr>\n      <th>1</th>\n      <td>[1.0, 1.0, 161.0]</td>\n      <td>161</td>\n      <td>s</td>\n      <td>s</td>\n      <td>161.167549</td>\n    </tr>\n    <tr>\n      <th>2</th>\n      <td>[1.0, 1.0, 181.0]</td>\n      <td>181</td>\n      <td>51</td>\n      <td>100.0%</td>\n      <td>181.159101</td>\n    </tr>\n    <tr>\n      <th>3</th>\n      <td>[1.0, 1.0, 212.0]</td>\n      <td>212</td>\n      <td>52</td>\n      <td>100.0%</td>\n      <td>212.146006</td>\n    </tr>\n    <tr>\n      <th>4</th>\n      <td>[2.0, 1.0, 261.0]</td>\n      <td>261</td>\n      <td>44</td>\n      <td>100.0%</td>\n      <td>261.125307</td>\n    </tr>\n  </tbody>\n</table>\n</div>",
              "textData": null,
              "removedWidgets": [],
              "addedWidgets": {},
              "metadata": {},
              "type": "htmlSandbox",
              "arguments": {}
            }
          },
          "data": {
            "text/html": [
              "<div>\n<style scoped>\n    .dataframe tbody tr th:only-of-type {\n        vertical-align: middle;\n    }\n\n    .dataframe tbody tr th {\n        vertical-align: top;\n    }\n\n    .dataframe thead th {\n        text-align: right;\n    }\n</style>\n<table border=\"1\" class=\"dataframe\">\n  <thead>\n    <tr style=\"text-align: right;\">\n      <th></th>\n      <th>features</th>\n      <th># of students in grades 9-12</th>\n      <th># of 16-17 June and August graduates meeting high school health requirements</th>\n      <th>% 1</th>\n      <th>prediction</th>\n    </tr>\n  </thead>\n  <tbody>\n    <tr>\n      <th>0</th>\n      <td>[1.0, 1.0, 134.0]</td>\n      <td>134</td>\n      <td>s</td>\n      <td>s</td>\n      <td>134.178955</td>\n    </tr>\n    <tr>\n      <th>1</th>\n      <td>[1.0, 1.0, 161.0]</td>\n      <td>161</td>\n      <td>s</td>\n      <td>s</td>\n      <td>161.167549</td>\n    </tr>\n    <tr>\n      <th>2</th>\n      <td>[1.0, 1.0, 181.0]</td>\n      <td>181</td>\n      <td>51</td>\n      <td>100.0%</td>\n      <td>181.159101</td>\n    </tr>\n    <tr>\n      <th>3</th>\n      <td>[1.0, 1.0, 212.0]</td>\n      <td>212</td>\n      <td>52</td>\n      <td>100.0%</td>\n      <td>212.146006</td>\n    </tr>\n    <tr>\n      <th>4</th>\n      <td>[2.0, 1.0, 261.0]</td>\n      <td>261</td>\n      <td>44</td>\n      <td>100.0%</td>\n      <td>261.125307</td>\n    </tr>\n  </tbody>\n</table>\n</div>"
            ]
          }
        }
      ],
      "execution_count": null
    },
    {
      "cell_type": "code",
      "source": [
        "pred_df[pred_df['# of students in grades 9-12'] > pred_df['prediction']]"
      ],
      "metadata": {
        "id": "eEn1twfEvS94",
        "outputId": "9c86feda-b299-4f5b-8589-27301b42adcd",
        "application/vnd.databricks.v1+cell": {
          "showTitle": false,
          "cellMetadata": {},
          "nuid": "e234b678-4f58-48ac-8ca5-b8ae8bf42af4",
          "inputWidgets": {},
          "title": ""
        }
      },
      "outputs": [
        {
          "output_type": "display_data",
          "metadata": {
            "application/vnd.databricks.v1+output": {
              "datasetInfos": [],
              "data": "<div>\n<style scoped>\n    .dataframe tbody tr th:only-of-type {\n        vertical-align: middle;\n    }\n\n    .dataframe tbody tr th {\n        vertical-align: top;\n    }\n\n    .dataframe thead th {\n        text-align: right;\n    }\n</style>\n<table border=\"1\" class=\"dataframe\">\n  <thead>\n    <tr style=\"text-align: right;\">\n      <th></th>\n      <th>features</th>\n      <th># of students in grades 9-12</th>\n      <th># of 16-17 June and August graduates meeting high school health requirements</th>\n      <th>% 1</th>\n      <th>prediction</th>\n    </tr>\n  </thead>\n  <tbody>\n    <tr>\n      <th>9</th>\n      <td>[2.0, 1.0, 654.0]</td>\n      <td>654</td>\n      <td>142</td>\n      <td>100.0%</td>\n      <td>653.959294</td>\n    </tr>\n    <tr>\n      <th>10</th>\n      <td>[2.0, 1.0, 3350.0]</td>\n      <td>3350</td>\n      <td>824</td>\n      <td>100.0%</td>\n      <td>3348.820438</td>\n    </tr>\n    <tr>\n      <th>18</th>\n      <td>[10.0, 11.0, 1262.0]</td>\n      <td>1262</td>\n      <td>220</td>\n      <td>100.0%</td>\n      <td>1261.702460</td>\n    </tr>\n    <tr>\n      <th>27</th>\n      <td>[9.0, 15.0, 581.0]</td>\n      <td>581</td>\n      <td>87</td>\n      <td>100.0%</td>\n      <td>580.990131</td>\n    </tr>\n    <tr>\n      <th>46</th>\n      <td>[2.0, 2.0, 1727.0]</td>\n      <td>1727</td>\n      <td>358</td>\n      <td>99.7%</td>\n      <td>1726.506033</td>\n    </tr>\n    <tr>\n      <th>54</th>\n      <td>[25.0, 20.0, 1706.0]</td>\n      <td>1706</td>\n      <td>283</td>\n      <td>100.0%</td>\n      <td>1705.514904</td>\n    </tr>\n    <tr>\n      <th>55</th>\n      <td>[26.0, 20.0, 4414.0]</td>\n      <td>4414</td>\n      <td>924</td>\n      <td>100.0%</td>\n      <td>4412.370979</td>\n    </tr>\n    <tr>\n      <th>60</th>\n      <td>[24.0, 26.0, 596.0]</td>\n      <td>596</td>\n      <td>143</td>\n      <td>100.0%</td>\n      <td>595.983795</td>\n    </tr>\n    <tr>\n      <th>61</th>\n      <td>[25.0, 24.0, 723.0]</td>\n      <td>723</td>\n      <td>137</td>\n      <td>100.0%</td>\n      <td>722.930147</td>\n    </tr>\n    <tr>\n      <th>62</th>\n      <td>[25.0, 24.0, 3493.0]</td>\n      <td>3493</td>\n      <td>674</td>\n      <td>100.0%</td>\n      <td>3491.760031</td>\n    </tr>\n    <tr>\n      <th>66</th>\n      <td>[27.0, 28.0, 1009.0]</td>\n      <td>1009</td>\n      <td>228</td>\n      <td>100.0%</td>\n      <td>1008.809334</td>\n    </tr>\n    <tr>\n      <th>68</th>\n      <td>[28.0, 24.0, 2055.0]</td>\n      <td>2055</td>\n      <td>451</td>\n      <td>100.0%</td>\n      <td>2054.367478</td>\n    </tr>\n    <tr>\n      <th>69</th>\n      <td>[28.0, 24.0, 3301.0]</td>\n      <td>3301</td>\n      <td>624</td>\n      <td>95.7%</td>\n      <td>3299.841137</td>\n    </tr>\n    <tr>\n      <th>76</th>\n      <td>[30.0, 26.0, 949.0]</td>\n      <td>949</td>\n      <td>172</td>\n      <td>100.0%</td>\n      <td>948.834679</td>\n    </tr>\n    <tr>\n      <th>77</th>\n      <td>[30.0, 26.0, 985.0]</td>\n      <td>985</td>\n      <td>237</td>\n      <td>100.0%</td>\n      <td>984.819472</td>\n    </tr>\n    <tr>\n      <th>85</th>\n      <td>[2.0, 3.0, 1625.0]</td>\n      <td>1625</td>\n      <td>362</td>\n      <td>100.0%</td>\n      <td>1624.549120</td>\n    </tr>\n    <tr>\n      <th>89</th>\n      <td>[13.0, 33.0, 654.0]</td>\n      <td>654</td>\n      <td>85</td>\n      <td>100.0%</td>\n      <td>653.959294</td>\n    </tr>\n    <tr>\n      <th>96</th>\n      <td>[2.0, 4.0, 592.0]</td>\n      <td>592</td>\n      <td>104</td>\n      <td>100.0%</td>\n      <td>591.985484</td>\n    </tr>\n    <tr>\n      <th>97</th>\n      <td>[13.0, 35.0, 850.0]</td>\n      <td>850</td>\n      <td>214</td>\n      <td>100.0%</td>\n      <td>849.876499</td>\n    </tr>\n    <tr>\n      <th>99</th>\n      <td>[14.0, 34.0, 715.0]</td>\n      <td>715</td>\n      <td>171</td>\n      <td>100.0%</td>\n      <td>714.933526</td>\n    </tr>\n    <tr>\n      <th>100</th>\n      <td>[14.0, 34.0, 807.0]</td>\n      <td>807</td>\n      <td>179</td>\n      <td>100.0%</td>\n      <td>806.894663</td>\n    </tr>\n    <tr>\n      <th>101</th>\n      <td>[14.0, 34.0, 872.0]</td>\n      <td>872</td>\n      <td>183</td>\n      <td>100.0%</td>\n      <td>871.867206</td>\n    </tr>\n    <tr>\n      <th>102</th>\n      <td>[15.0, 38.0, 1201.0]</td>\n      <td>1201</td>\n      <td>221</td>\n      <td>100.0%</td>\n      <td>1200.728228</td>\n    </tr>\n    <tr>\n      <th>106</th>\n      <td>[17.0, 35.0, 902.0]</td>\n      <td>902</td>\n      <td>232</td>\n      <td>98.7%</td>\n      <td>901.854533</td>\n    </tr>\n    <tr>\n      <th>107</th>\n      <td>[17.0, 35.0, 1188.0]</td>\n      <td>1188</td>\n      <td>230</td>\n      <td>100.0%</td>\n      <td>1187.733720</td>\n    </tr>\n    <tr>\n      <th>114</th>\n      <td>[16.0, 41.0, 613.0]</td>\n      <td>613</td>\n      <td>126</td>\n      <td>100.0%</td>\n      <td>612.976614</td>\n    </tr>\n    <tr>\n      <th>146</th>\n      <td>[31.0, 49.0, 723.0]</td>\n      <td>723</td>\n      <td>126</td>\n      <td>100.0%</td>\n      <td>722.930147</td>\n    </tr>\n    <tr>\n      <th>147</th>\n      <td>[31.0, 50.0, 2901.0]</td>\n      <td>2901</td>\n      <td>563</td>\n      <td>100.0%</td>\n      <td>2900.010107</td>\n    </tr>\n    <tr>\n      <th>148</th>\n      <td>[31.0, 50.0, 3265.0]</td>\n      <td>3265</td>\n      <td>752</td>\n      <td>100.0%</td>\n      <td>3263.856344</td>\n    </tr>\n  </tbody>\n</table>\n</div>",
              "textData": null,
              "removedWidgets": [],
              "addedWidgets": {},
              "metadata": {},
              "type": "htmlSandbox",
              "arguments": {}
            }
          },
          "data": {
            "text/html": [
              "<div>\n<style scoped>\n    .dataframe tbody tr th:only-of-type {\n        vertical-align: middle;\n    }\n\n    .dataframe tbody tr th {\n        vertical-align: top;\n    }\n\n    .dataframe thead th {\n        text-align: right;\n    }\n</style>\n<table border=\"1\" class=\"dataframe\">\n  <thead>\n    <tr style=\"text-align: right;\">\n      <th></th>\n      <th>features</th>\n      <th># of students in grades 9-12</th>\n      <th># of 16-17 June and August graduates meeting high school health requirements</th>\n      <th>% 1</th>\n      <th>prediction</th>\n    </tr>\n  </thead>\n  <tbody>\n    <tr>\n      <th>9</th>\n      <td>[2.0, 1.0, 654.0]</td>\n      <td>654</td>\n      <td>142</td>\n      <td>100.0%</td>\n      <td>653.959294</td>\n    </tr>\n    <tr>\n      <th>10</th>\n      <td>[2.0, 1.0, 3350.0]</td>\n      <td>3350</td>\n      <td>824</td>\n      <td>100.0%</td>\n      <td>3348.820438</td>\n    </tr>\n    <tr>\n      <th>18</th>\n      <td>[10.0, 11.0, 1262.0]</td>\n      <td>1262</td>\n      <td>220</td>\n      <td>100.0%</td>\n      <td>1261.702460</td>\n    </tr>\n    <tr>\n      <th>27</th>\n      <td>[9.0, 15.0, 581.0]</td>\n      <td>581</td>\n      <td>87</td>\n      <td>100.0%</td>\n      <td>580.990131</td>\n    </tr>\n    <tr>\n      <th>46</th>\n      <td>[2.0, 2.0, 1727.0]</td>\n      <td>1727</td>\n      <td>358</td>\n      <td>99.7%</td>\n      <td>1726.506033</td>\n    </tr>\n    <tr>\n      <th>54</th>\n      <td>[25.0, 20.0, 1706.0]</td>\n      <td>1706</td>\n      <td>283</td>\n      <td>100.0%</td>\n      <td>1705.514904</td>\n    </tr>\n    <tr>\n      <th>55</th>\n      <td>[26.0, 20.0, 4414.0]</td>\n      <td>4414</td>\n      <td>924</td>\n      <td>100.0%</td>\n      <td>4412.370979</td>\n    </tr>\n    <tr>\n      <th>60</th>\n      <td>[24.0, 26.0, 596.0]</td>\n      <td>596</td>\n      <td>143</td>\n      <td>100.0%</td>\n      <td>595.983795</td>\n    </tr>\n    <tr>\n      <th>61</th>\n      <td>[25.0, 24.0, 723.0]</td>\n      <td>723</td>\n      <td>137</td>\n      <td>100.0%</td>\n      <td>722.930147</td>\n    </tr>\n    <tr>\n      <th>62</th>\n      <td>[25.0, 24.0, 3493.0]</td>\n      <td>3493</td>\n      <td>674</td>\n      <td>100.0%</td>\n      <td>3491.760031</td>\n    </tr>\n    <tr>\n      <th>66</th>\n      <td>[27.0, 28.0, 1009.0]</td>\n      <td>1009</td>\n      <td>228</td>\n      <td>100.0%</td>\n      <td>1008.809334</td>\n    </tr>\n    <tr>\n      <th>68</th>\n      <td>[28.0, 24.0, 2055.0]</td>\n      <td>2055</td>\n      <td>451</td>\n      <td>100.0%</td>\n      <td>2054.367478</td>\n    </tr>\n    <tr>\n      <th>69</th>\n      <td>[28.0, 24.0, 3301.0]</td>\n      <td>3301</td>\n      <td>624</td>\n      <td>95.7%</td>\n      <td>3299.841137</td>\n    </tr>\n    <tr>\n      <th>76</th>\n      <td>[30.0, 26.0, 949.0]</td>\n      <td>949</td>\n      <td>172</td>\n      <td>100.0%</td>\n      <td>948.834679</td>\n    </tr>\n    <tr>\n      <th>77</th>\n      <td>[30.0, 26.0, 985.0]</td>\n      <td>985</td>\n      <td>237</td>\n      <td>100.0%</td>\n      <td>984.819472</td>\n    </tr>\n    <tr>\n      <th>85</th>\n      <td>[2.0, 3.0, 1625.0]</td>\n      <td>1625</td>\n      <td>362</td>\n      <td>100.0%</td>\n      <td>1624.549120</td>\n    </tr>\n    <tr>\n      <th>89</th>\n      <td>[13.0, 33.0, 654.0]</td>\n      <td>654</td>\n      <td>85</td>\n      <td>100.0%</td>\n      <td>653.959294</td>\n    </tr>\n    <tr>\n      <th>96</th>\n      <td>[2.0, 4.0, 592.0]</td>\n      <td>592</td>\n      <td>104</td>\n      <td>100.0%</td>\n      <td>591.985484</td>\n    </tr>\n    <tr>\n      <th>97</th>\n      <td>[13.0, 35.0, 850.0]</td>\n      <td>850</td>\n      <td>214</td>\n      <td>100.0%</td>\n      <td>849.876499</td>\n    </tr>\n    <tr>\n      <th>99</th>\n      <td>[14.0, 34.0, 715.0]</td>\n      <td>715</td>\n      <td>171</td>\n      <td>100.0%</td>\n      <td>714.933526</td>\n    </tr>\n    <tr>\n      <th>100</th>\n      <td>[14.0, 34.0, 807.0]</td>\n      <td>807</td>\n      <td>179</td>\n      <td>100.0%</td>\n      <td>806.894663</td>\n    </tr>\n    <tr>\n      <th>101</th>\n      <td>[14.0, 34.0, 872.0]</td>\n      <td>872</td>\n      <td>183</td>\n      <td>100.0%</td>\n      <td>871.867206</td>\n    </tr>\n    <tr>\n      <th>102</th>\n      <td>[15.0, 38.0, 1201.0]</td>\n      <td>1201</td>\n      <td>221</td>\n      <td>100.0%</td>\n      <td>1200.728228</td>\n    </tr>\n    <tr>\n      <th>106</th>\n      <td>[17.0, 35.0, 902.0]</td>\n      <td>902</td>\n      <td>232</td>\n      <td>98.7%</td>\n      <td>901.854533</td>\n    </tr>\n    <tr>\n      <th>107</th>\n      <td>[17.0, 35.0, 1188.0]</td>\n      <td>1188</td>\n      <td>230</td>\n      <td>100.0%</td>\n      <td>1187.733720</td>\n    </tr>\n    <tr>\n      <th>114</th>\n      <td>[16.0, 41.0, 613.0]</td>\n      <td>613</td>\n      <td>126</td>\n      <td>100.0%</td>\n      <td>612.976614</td>\n    </tr>\n    <tr>\n      <th>146</th>\n      <td>[31.0, 49.0, 723.0]</td>\n      <td>723</td>\n      <td>126</td>\n      <td>100.0%</td>\n      <td>722.930147</td>\n    </tr>\n    <tr>\n      <th>147</th>\n      <td>[31.0, 50.0, 2901.0]</td>\n      <td>2901</td>\n      <td>563</td>\n      <td>100.0%</td>\n      <td>2900.010107</td>\n    </tr>\n    <tr>\n      <th>148</th>\n      <td>[31.0, 50.0, 3265.0]</td>\n      <td>3265</td>\n      <td>752</td>\n      <td>100.0%</td>\n      <td>3263.856344</td>\n    </tr>\n  </tbody>\n</table>\n</div>"
            ]
          }
        }
      ],
      "execution_count": null
    },
    {
      "cell_type": "code",
      "source": [
        "pred_df['# of students in grades 9-12'].mean()"
      ],
      "metadata": {
        "id": "zwu614wRvS95",
        "outputId": "26816178-600e-4876-bdb8-b4f682da818a",
        "application/vnd.databricks.v1+cell": {
          "showTitle": false,
          "cellMetadata": {},
          "nuid": "8b6f5d60-637d-4555-ac4a-0799b7400268",
          "inputWidgets": {},
          "title": ""
        }
      },
      "outputs": [
        {
          "output_type": "display_data",
          "metadata": {
            "application/vnd.databricks.v1+output": {
              "datasetInfos": [],
              "data": "Out[29]: 552.078947368421",
              "removedWidgets": [],
              "addedWidgets": {},
              "metadata": {},
              "type": "ansi",
              "arguments": {}
            }
          },
          "data": {
            "text/plain": [
              "Out[29]: 552.078947368421"
            ]
          }
        }
      ],
      "execution_count": null
    },
    {
      "cell_type": "code",
      "source": [
        "#ARRESTOS"
      ],
      "metadata": {
        "id": "_Dkmi_lqvS95",
        "application/vnd.databricks.v1+cell": {
          "showTitle": false,
          "cellMetadata": {},
          "nuid": "b65a9ead-2065-4045-a761-e1f34f5318c8",
          "inputWidgets": {},
          "title": ""
        }
      },
      "outputs": [],
      "execution_count": null
    },
    {
      "cell_type": "code",
      "source": [
        "arrestos.head(5)"
      ],
      "metadata": {
        "outputId": "989a27b8-04e4-484f-d01c-40adc19fdcce",
        "id": "GEuLQZtPwIL3",
        "application/vnd.databricks.v1+cell": {
          "showTitle": false,
          "cellMetadata": {},
          "nuid": "50b948d3-d065-41e7-8bac-3e2cc7541e1e",
          "inputWidgets": {},
          "title": ""
        }
      },
      "outputs": [
        {
          "output_type": "display_data",
          "metadata": {
            "application/vnd.databricks.v1+output": {
              "datasetInfos": [],
              "data": "<div>\n<style scoped>\n    .dataframe tbody tr th:only-of-type {\n        vertical-align: middle;\n    }\n\n    .dataframe tbody tr th {\n        vertical-align: top;\n    }\n\n    .dataframe thead th {\n        text-align: right;\n    }\n</style>\n<table border=\"1\" class=\"dataframe\">\n  <thead>\n    <tr style=\"text-align: right;\">\n      <th></th>\n      <th>ARREST_DATE</th>\n      <th>PD_CD</th>\n      <th>PD_DESC</th>\n      <th>KY_CD</th>\n      <th>OFNS_DESC</th>\n      <th>LAW_CAT_CD</th>\n      <th>ARREST_BORO</th>\n      <th>ARREST_PRECINCT</th>\n      <th>JURISDICTION_CODE</th>\n      <th>AGE_GROUP</th>\n      <th>PERP_SEX</th>\n      <th>PERP_RACE</th>\n    </tr>\n  </thead>\n  <tbody>\n    <tr>\n      <th>0</th>\n      <td>01/03/2022</td>\n      <td>205.0</td>\n      <td>TRESPASS 2, CRIMINAL</td>\n      <td>352.0</td>\n      <td>CRIMINAL TRESPASS</td>\n      <td>M</td>\n      <td>K</td>\n      <td>75</td>\n      <td>0</td>\n      <td>18-24</td>\n      <td>M</td>\n      <td>BLACK</td>\n    </tr>\n    <tr>\n      <th>1</th>\n      <td>01/05/2022</td>\n      <td>397.0</td>\n      <td>ROBBERY,OPEN AREA UNCLASSIFIED</td>\n      <td>105.0</td>\n      <td>ROBBERY</td>\n      <td>F</td>\n      <td>K</td>\n      <td>75</td>\n      <td>0</td>\n      <td>25-44</td>\n      <td>M</td>\n      <td>BLACK</td>\n    </tr>\n    <tr>\n      <th>2</th>\n      <td>01/06/2022</td>\n      <td>153.0</td>\n      <td>RAPE 3</td>\n      <td>104.0</td>\n      <td>RAPE</td>\n      <td>F</td>\n      <td>K</td>\n      <td>77</td>\n      <td>0</td>\n      <td>25-44</td>\n      <td>M</td>\n      <td>WHITE</td>\n    </tr>\n    <tr>\n      <th>3</th>\n      <td>01/08/2022</td>\n      <td>NaN</td>\n      <td>(null)</td>\n      <td>NaN</td>\n      <td>(null)</td>\n      <td>9</td>\n      <td>Q</td>\n      <td>113</td>\n      <td>3</td>\n      <td>45-64</td>\n      <td>M</td>\n      <td>WHITE HISPANIC</td>\n    </tr>\n    <tr>\n      <th>4</th>\n      <td>01/12/2022</td>\n      <td>NaN</td>\n      <td>(null)</td>\n      <td>NaN</td>\n      <td>(null)</td>\n      <td>9</td>\n      <td>Q</td>\n      <td>113</td>\n      <td>3</td>\n      <td>25-44</td>\n      <td>M</td>\n      <td>WHITE HISPANIC</td>\n    </tr>\n  </tbody>\n</table>\n</div>",
              "textData": null,
              "removedWidgets": [],
              "addedWidgets": {},
              "metadata": {},
              "type": "htmlSandbox",
              "arguments": {}
            }
          },
          "data": {
            "text/html": [
              "<div>\n<style scoped>\n    .dataframe tbody tr th:only-of-type {\n        vertical-align: middle;\n    }\n\n    .dataframe tbody tr th {\n        vertical-align: top;\n    }\n\n    .dataframe thead th {\n        text-align: right;\n    }\n</style>\n<table border=\"1\" class=\"dataframe\">\n  <thead>\n    <tr style=\"text-align: right;\">\n      <th></th>\n      <th>ARREST_DATE</th>\n      <th>PD_CD</th>\n      <th>PD_DESC</th>\n      <th>KY_CD</th>\n      <th>OFNS_DESC</th>\n      <th>LAW_CAT_CD</th>\n      <th>ARREST_BORO</th>\n      <th>ARREST_PRECINCT</th>\n      <th>JURISDICTION_CODE</th>\n      <th>AGE_GROUP</th>\n      <th>PERP_SEX</th>\n      <th>PERP_RACE</th>\n    </tr>\n  </thead>\n  <tbody>\n    <tr>\n      <th>0</th>\n      <td>01/03/2022</td>\n      <td>205.0</td>\n      <td>TRESPASS 2, CRIMINAL</td>\n      <td>352.0</td>\n      <td>CRIMINAL TRESPASS</td>\n      <td>M</td>\n      <td>K</td>\n      <td>75</td>\n      <td>0</td>\n      <td>18-24</td>\n      <td>M</td>\n      <td>BLACK</td>\n    </tr>\n    <tr>\n      <th>1</th>\n      <td>01/05/2022</td>\n      <td>397.0</td>\n      <td>ROBBERY,OPEN AREA UNCLASSIFIED</td>\n      <td>105.0</td>\n      <td>ROBBERY</td>\n      <td>F</td>\n      <td>K</td>\n      <td>75</td>\n      <td>0</td>\n      <td>25-44</td>\n      <td>M</td>\n      <td>BLACK</td>\n    </tr>\n    <tr>\n      <th>2</th>\n      <td>01/06/2022</td>\n      <td>153.0</td>\n      <td>RAPE 3</td>\n      <td>104.0</td>\n      <td>RAPE</td>\n      <td>F</td>\n      <td>K</td>\n      <td>77</td>\n      <td>0</td>\n      <td>25-44</td>\n      <td>M</td>\n      <td>WHITE</td>\n    </tr>\n    <tr>\n      <th>3</th>\n      <td>01/08/2022</td>\n      <td>NaN</td>\n      <td>(null)</td>\n      <td>NaN</td>\n      <td>(null)</td>\n      <td>9</td>\n      <td>Q</td>\n      <td>113</td>\n      <td>3</td>\n      <td>45-64</td>\n      <td>M</td>\n      <td>WHITE HISPANIC</td>\n    </tr>\n    <tr>\n      <th>4</th>\n      <td>01/12/2022</td>\n      <td>NaN</td>\n      <td>(null)</td>\n      <td>NaN</td>\n      <td>(null)</td>\n      <td>9</td>\n      <td>Q</td>\n      <td>113</td>\n      <td>3</td>\n      <td>25-44</td>\n      <td>M</td>\n      <td>WHITE HISPANIC</td>\n    </tr>\n  </tbody>\n</table>\n</div>"
            ]
          }
        }
      ],
      "execution_count": null
    },
    {
      "cell_type": "code",
      "source": [
        "# Se filtran datos importantes\n",
        "arrestos_fltrd = arrestos.filter(items=['ARREST_DATE', 'PD_CD', 'PD_DESC', 'KY_CD', 'OFNS_DESC', 'ARREST_BORO', 'ARREST_PRECINCT', 'JURISDICTION_CODE', 'AGE_GROUP', 'PERP_SEX', 'PERP_RACE' ])"
      ],
      "metadata": {
        "id": "zY1zqOEVwIL4",
        "application/vnd.databricks.v1+cell": {
          "showTitle": false,
          "cellMetadata": {},
          "nuid": "a2a45a3f-5e5f-46ea-bb3e-e05bc81e3b61",
          "inputWidgets": {},
          "title": ""
        }
      },
      "outputs": [],
      "execution_count": null
    },
    {
      "cell_type": "code",
      "source": [
        "# Se llenan de 0 los nan\n",
        "arrestos_fltrd = arrestos_fltrd.fillna(0)"
      ],
      "metadata": {
        "id": "MIayGJ1nwIL4",
        "application/vnd.databricks.v1+cell": {
          "showTitle": false,
          "cellMetadata": {},
          "nuid": "334d8bbb-c993-49f4-b835-d7c51237e0f4",
          "inputWidgets": {},
          "title": ""
        }
      },
      "outputs": [],
      "execution_count": null
    },
    {
      "cell_type": "code",
      "source": [
        "from pyspark.sql import SparkSession\n",
        "#Create PySpark SparkSession\n",
        "spark = SparkSession.builder \\\n",
        "    .master(\"local[1]\") \\\n",
        "    .appName(\"SparkByExamples.com\") \\\n",
        "    .getOrCreate()\n",
        "#Create PySpark DataFrame from Pandas\n",
        "sparkDF=spark.createDataFrame(arrestos_fltrd) \n",
        "sparkDF.printSchema()\n",
        "sparkDF.show()"
      ],
      "metadata": {
        "outputId": "bbce067a-c3f4-4bc4-ad22-4b2c73da9f76",
        "id": "m1NqB4imwIL4",
        "application/vnd.databricks.v1+cell": {
          "showTitle": false,
          "cellMetadata": {},
          "nuid": "dcd648c2-6099-4ebd-84a6-9e897404b03b",
          "inputWidgets": {},
          "title": ""
        }
      },
      "outputs": [
        {
          "output_type": "display_data",
          "metadata": {
            "application/vnd.databricks.v1+output": {
              "datasetInfos": [],
              "data": "root\n |-- ARREST_DATE: string (nullable = true)\n |-- PD_CD: double (nullable = true)\n |-- PD_DESC: string (nullable = true)\n |-- KY_CD: double (nullable = true)\n |-- OFNS_DESC: string (nullable = true)\n |-- ARREST_BORO: string (nullable = true)\n |-- ARREST_PRECINCT: long (nullable = true)\n |-- JURISDICTION_CODE: long (nullable = true)\n |-- AGE_GROUP: string (nullable = true)\n |-- PERP_SEX: string (nullable = true)\n |-- PERP_RACE: string (nullable = true)\n\n+-----------+-----+--------------------+-----+--------------------+-----------+---------------+-----------------+---------+--------+--------------+\n|ARREST_DATE|PD_CD|             PD_DESC|KY_CD|           OFNS_DESC|ARREST_BORO|ARREST_PRECINCT|JURISDICTION_CODE|AGE_GROUP|PERP_SEX|     PERP_RACE|\n+-----------+-----+--------------------+-----+--------------------+-----------+---------------+-----------------+---------+--------+--------------+\n| 01/03/2022|205.0|TRESPASS 2, CRIMINAL|352.0|   CRIMINAL TRESPASS|          K|             75|                0|    18-24|       M|         BLACK|\n| 01/05/2022|397.0|ROBBERY,OPEN AREA...|105.0|             ROBBERY|          K|             75|                0|    25-44|       M|         BLACK|\n| 01/06/2022|153.0|              RAPE 3|104.0|                RAPE|          K|             77|                0|    25-44|       M|         WHITE|\n| 01/08/2022|  0.0|              (null)|  0.0|              (null)|          Q|            113|                3|    45-64|       M|WHITE HISPANIC|\n| 01/12/2022|  0.0|              (null)|  0.0|              (null)|          Q|            113|                3|    25-44|       M|WHITE HISPANIC|\n| 01/13/2022|101.0|           ASSAULT 3|344.0|ASSAULT 3 & RELAT...|          K|             77|                0|    45-64|       M|         BLACK|\n| 01/20/2022|  0.0|              (null)|  0.0|              (null)|          Q|            113|                3|    25-44|       M|         BLACK|\n| 01/24/2022|101.0|           ASSAULT 3|344.0|ASSAULT 3 & RELAT...|          K|             60|                0|    45-64|       M|         WHITE|\n| 03/07/2022|157.0|              RAPE 1|104.0|                RAPE|          S|            120|                0|    25-44|       M|WHITE HISPANIC|\n| 01/28/2022|  0.0|              (null)|  0.0|              (null)|          Q|            113|                3|    45-64|       M|         BLACK|\n| 02/21/2022|  0.0|              (null)|  0.0|              (null)|          Q|            102|                0|    25-44|       M|         BLACK|\n| 02/06/2022|792.0|WEAPONS POSSESSIO...|118.0|   DANGEROUS WEAPONS|          K|             75|                0|    18-24|       M|         BLACK|\n| 02/28/2022|  0.0|              (null)|  0.0|              (null)|          Q|            102|               72|    25-44|       M|         BLACK|\n| 02/10/2022|153.0|              RAPE 3|104.0|                RAPE|          K|             77|                0|    25-44|       M|WHITE HISPANIC|\n| 03/27/2022|578.0|              (null)|  0.0|              (null)|          Q|            105|                0|    25-44|       M|         BLACK|\n| 02/11/2022|157.0|              RAPE 1|104.0|                RAPE|          B|             50|                0|    25-44|       M|         BLACK|\n| 03/07/2022|105.0|   STRANGULATION 1ST|106.0|      FELONY ASSAULT|          Q|            103|                0|    25-44|       M|         BLACK|\n| 01/28/2022|263.0|         ARSON 2,3,4|114.0|               ARSON|          B|             45|                0|    45-64|       M|         BLACK|\n| 04/06/2022|157.0|              RAPE 1|104.0|                RAPE|          K|             84|                0|    25-44|       M|         BLACK|\n| 02/09/2022|244.0|BURGLARY,UNCLASSI...|107.0|            BURGLARY|          Q|            108|                0|    25-44|       M|         WHITE|\n+-----------+-----+--------------------+-----+--------------------+-----------+---------------+-----------------+---------+--------+--------------+\nonly showing top 20 rows\n\n",
              "removedWidgets": [],
              "addedWidgets": {},
              "metadata": {},
              "type": "ansi",
              "arguments": {}
            }
          },
          "data": {
            "text/plain": [
              "root\n |-- ARREST_DATE: string (nullable = true)\n |-- PD_CD: double (nullable = true)\n |-- PD_DESC: string (nullable = true)\n |-- KY_CD: double (nullable = true)\n |-- OFNS_DESC: string (nullable = true)\n |-- ARREST_BORO: string (nullable = true)\n |-- ARREST_PRECINCT: long (nullable = true)\n |-- JURISDICTION_CODE: long (nullable = true)\n |-- AGE_GROUP: string (nullable = true)\n |-- PERP_SEX: string (nullable = true)\n |-- PERP_RACE: string (nullable = true)\n\n+-----------+-----+--------------------+-----+--------------------+-----------+---------------+-----------------+---------+--------+--------------+\n|ARREST_DATE|PD_CD|             PD_DESC|KY_CD|           OFNS_DESC|ARREST_BORO|ARREST_PRECINCT|JURISDICTION_CODE|AGE_GROUP|PERP_SEX|     PERP_RACE|\n+-----------+-----+--------------------+-----+--------------------+-----------+---------------+-----------------+---------+--------+--------------+\n| 01/03/2022|205.0|TRESPASS 2, CRIMINAL|352.0|   CRIMINAL TRESPASS|          K|             75|                0|    18-24|       M|         BLACK|\n| 01/05/2022|397.0|ROBBERY,OPEN AREA...|105.0|             ROBBERY|          K|             75|                0|    25-44|       M|         BLACK|\n| 01/06/2022|153.0|              RAPE 3|104.0|                RAPE|          K|             77|                0|    25-44|       M|         WHITE|\n| 01/08/2022|  0.0|              (null)|  0.0|              (null)|          Q|            113|                3|    45-64|       M|WHITE HISPANIC|\n| 01/12/2022|  0.0|              (null)|  0.0|              (null)|          Q|            113|                3|    25-44|       M|WHITE HISPANIC|\n| 01/13/2022|101.0|           ASSAULT 3|344.0|ASSAULT 3 & RELAT...|          K|             77|                0|    45-64|       M|         BLACK|\n| 01/20/2022|  0.0|              (null)|  0.0|              (null)|          Q|            113|                3|    25-44|       M|         BLACK|\n| 01/24/2022|101.0|           ASSAULT 3|344.0|ASSAULT 3 & RELAT...|          K|             60|                0|    45-64|       M|         WHITE|\n| 03/07/2022|157.0|              RAPE 1|104.0|                RAPE|          S|            120|                0|    25-44|       M|WHITE HISPANIC|\n| 01/28/2022|  0.0|              (null)|  0.0|              (null)|          Q|            113|                3|    45-64|       M|         BLACK|\n| 02/21/2022|  0.0|              (null)|  0.0|              (null)|          Q|            102|                0|    25-44|       M|         BLACK|\n| 02/06/2022|792.0|WEAPONS POSSESSIO...|118.0|   DANGEROUS WEAPONS|          K|             75|                0|    18-24|       M|         BLACK|\n| 02/28/2022|  0.0|              (null)|  0.0|              (null)|          Q|            102|               72|    25-44|       M|         BLACK|\n| 02/10/2022|153.0|              RAPE 3|104.0|                RAPE|          K|             77|                0|    25-44|       M|WHITE HISPANIC|\n| 03/27/2022|578.0|              (null)|  0.0|              (null)|          Q|            105|                0|    25-44|       M|         BLACK|\n| 02/11/2022|157.0|              RAPE 1|104.0|                RAPE|          B|             50|                0|    25-44|       M|         BLACK|\n| 03/07/2022|105.0|   STRANGULATION 1ST|106.0|      FELONY ASSAULT|          Q|            103|                0|    25-44|       M|         BLACK|\n| 01/28/2022|263.0|         ARSON 2,3,4|114.0|               ARSON|          B|             45|                0|    45-64|       M|         BLACK|\n| 04/06/2022|157.0|              RAPE 1|104.0|                RAPE|          K|             84|                0|    25-44|       M|         BLACK|\n| 02/09/2022|244.0|BURGLARY,UNCLASSI...|107.0|            BURGLARY|          Q|            108|                0|    25-44|       M|         WHITE|\n+-----------+-----+--------------------+-----+--------------------+-----------+---------------+-----------------+---------+--------+--------------+\nonly showing top 20 rows\n\n"
            ]
          }
        }
      ],
      "execution_count": null
    },
    {
      "cell_type": "code",
      "source": [
        "vectorAssembler = VectorAssembler(inputCols = ['PD_CD', 'KY_CD', 'ARREST_PRECINCT', 'JURISDICTION_CODE' ], outputCol = 'features')\n",
        "vtrain = vectorAssembler.transform(sparkDF)\n",
        "vtrain = vtrain.select(['features', 'ARREST_DATE', 'PD_CD', 'PD_DESC', 'KY_CD', 'OFNS_DESC', 'ARREST_BORO', 'ARREST_PRECINCT', 'JURISDICTION_CODE', 'AGE_GROUP', 'PERP_SEX', 'PERP_RACE']) # Off_Pov_Stat\n",
        "vtrain.show(3)"
      ],
      "metadata": {
        "outputId": "6f4ac813-beca-4692-b95b-b44d24ae0c23",
        "id": "g2FKxSjWwIL4",
        "application/vnd.databricks.v1+cell": {
          "showTitle": false,
          "cellMetadata": {},
          "nuid": "20ccd12c-02e8-4bf7-a6fb-173f7d456c7e",
          "inputWidgets": {},
          "title": ""
        }
      },
      "outputs": [
        {
          "output_type": "display_data",
          "metadata": {
            "application/vnd.databricks.v1+output": {
              "datasetInfos": [],
              "data": "+--------------------+-----------+-----+--------------------+-----+-----------------+-----------+---------------+-----------------+---------+--------+---------+\n|            features|ARREST_DATE|PD_CD|             PD_DESC|KY_CD|        OFNS_DESC|ARREST_BORO|ARREST_PRECINCT|JURISDICTION_CODE|AGE_GROUP|PERP_SEX|PERP_RACE|\n+--------------------+-----------+-----+--------------------+-----+-----------------+-----------+---------------+-----------------+---------+--------+---------+\n|[205.0,352.0,75.0...| 01/03/2022|205.0|TRESPASS 2, CRIMINAL|352.0|CRIMINAL TRESPASS|          K|             75|                0|    18-24|       M|    BLACK|\n|[397.0,105.0,75.0...| 01/05/2022|397.0|ROBBERY,OPEN AREA...|105.0|          ROBBERY|          K|             75|                0|    25-44|       M|    BLACK|\n|[153.0,104.0,77.0...| 01/06/2022|153.0|              RAPE 3|104.0|             RAPE|          K|             77|                0|    25-44|       M|    WHITE|\n+--------------------+-----------+-----+--------------------+-----+-----------------+-----------+---------------+-----------------+---------+--------+---------+\nonly showing top 3 rows\n\n",
              "removedWidgets": [],
              "addedWidgets": {},
              "metadata": {},
              "type": "ansi",
              "arguments": {}
            }
          },
          "data": {
            "text/plain": [
              "+--------------------+-----------+-----+--------------------+-----+-----------------+-----------+---------------+-----------------+---------+--------+---------+\n|            features|ARREST_DATE|PD_CD|             PD_DESC|KY_CD|        OFNS_DESC|ARREST_BORO|ARREST_PRECINCT|JURISDICTION_CODE|AGE_GROUP|PERP_SEX|PERP_RACE|\n+--------------------+-----------+-----+--------------------+-----+-----------------+-----------+---------------+-----------------+---------+--------+---------+\n|[205.0,352.0,75.0...| 01/03/2022|205.0|TRESPASS 2, CRIMINAL|352.0|CRIMINAL TRESPASS|          K|             75|                0|    18-24|       M|    BLACK|\n|[397.0,105.0,75.0...| 01/05/2022|397.0|ROBBERY,OPEN AREA...|105.0|          ROBBERY|          K|             75|                0|    25-44|       M|    BLACK|\n|[153.0,104.0,77.0...| 01/06/2022|153.0|              RAPE 3|104.0|             RAPE|          K|             77|                0|    25-44|       M|    WHITE|\n+--------------------+-----------+-----+--------------------+-----+-----------------+-----------+---------------+-----------------+---------+--------+---------+\nonly showing top 3 rows\n\n"
            ]
          }
        }
      ],
      "execution_count": null
    },
    {
      "cell_type": "code",
      "source": [
        "splits = vtrain.randomSplit([0.7, 0.3])\n",
        "train_df = splits[0]\n",
        "test_df = splits[1]"
      ],
      "metadata": {
        "id": "cktCcDxfwIL4",
        "application/vnd.databricks.v1+cell": {
          "showTitle": false,
          "cellMetadata": {},
          "nuid": "34481b8f-cab1-48a0-9d7e-b8487bfa28f2",
          "inputWidgets": {},
          "title": ""
        }
      },
      "outputs": [],
      "execution_count": null
    },
    {
      "cell_type": "code",
      "source": [
        "lr = LinearRegression(featuresCol = 'features', labelCol='ARREST_PRECINCT', maxIter=10, regParam=0.3, elasticNetParam=0.8)\n",
        "lr_model = lr.fit(train_df)\n",
        "print(\"Coefficients: \" + str(lr_model.coefficients))\n",
        "print(\"Intercept: \" + str(lr_model.intercept))"
      ],
      "metadata": {
        "outputId": "1186a126-6048-4cba-9c40-28afd18003a4",
        "id": "t-mdZdMIwIL5",
        "application/vnd.databricks.v1+cell": {
          "showTitle": false,
          "cellMetadata": {},
          "nuid": "bf49a1a2-0ea2-45d1-b720-0c92a90702b9",
          "inputWidgets": {},
          "title": ""
        }
      },
      "outputs": [
        {
          "output_type": "display_data",
          "metadata": {
            "application/vnd.databricks.v1+output": {
              "datasetInfos": [],
              "data": "Coefficients: [0.0,0.0,0.9914448601600714,0.0]\nIntercept: 0.53778651409489\n",
              "removedWidgets": [],
              "addedWidgets": {},
              "metadata": {},
              "type": "ansi",
              "arguments": {}
            }
          },
          "data": {
            "text/plain": [
              "Coefficients: [0.0,0.0,0.9914448601600714,0.0]\nIntercept: 0.53778651409489\n"
            ]
          }
        }
      ],
      "execution_count": null
    },
    {
      "cell_type": "code",
      "source": [
        "lr_predictions = lr_model.transform(test_df)\n",
        "lr_predictions.select(\"prediction\", 'PD_CD', 'KY_CD', 'ARREST_PRECINCT', 'JURISDICTION_CODE' ).show(5)\n",
        "from pyspark.ml.evaluation import RegressionEvaluator\n",
        "lr_evaluator = RegressionEvaluator(predictionCol=\"prediction\", \\\n",
        "                 labelCol=\"ARREST_PRECINCT\",metricName=\"r2\")\n",
        "print(\"R Squared (R2) on test data = %g\" % lr_evaluator.evaluate(lr_predictions))"
      ],
      "metadata": {
        "outputId": "c10a6942-189d-4a7e-cc19-0db2ac578edc",
        "id": "Ez04ZW9ywIL5",
        "application/vnd.databricks.v1+cell": {
          "showTitle": false,
          "cellMetadata": {},
          "nuid": "329c84b7-4124-45e1-98c2-5b09cdc0bf98",
          "inputWidgets": {},
          "title": ""
        }
      },
      "outputs": [
        {
          "output_type": "display_data",
          "metadata": {
            "application/vnd.databricks.v1+output": {
              "datasetInfos": [],
              "data": "+------------------+-----+-----+---------------+-----------------+\n|        prediction|PD_CD|KY_CD|ARREST_PRECINCT|JURISDICTION_CODE|\n+------------------+-----+-----+---------------+-----------------+\n| 5.495010814895247|  0.0|  0.0|              5|                0|\n|101.66516225042217|  0.0|  0.0|            102|                0|\n|101.66516225042217|  0.0|  0.0|            102|                0|\n|101.66516225042217|  0.0|  0.0|            102|                0|\n|103.64805197074232|  0.0|  0.0|            104|                0|\n+------------------+-----+-----+---------------+-----------------+\nonly showing top 5 rows\n\nR Squared (R2) on test data = 0.999927\n",
              "removedWidgets": [],
              "addedWidgets": {},
              "metadata": {},
              "type": "ansi",
              "arguments": {}
            }
          },
          "data": {
            "text/plain": [
              "+------------------+-----+-----+---------------+-----------------+\n|        prediction|PD_CD|KY_CD|ARREST_PRECINCT|JURISDICTION_CODE|\n+------------------+-----+-----+---------------+-----------------+\n| 5.495010814895247|  0.0|  0.0|              5|                0|\n|101.66516225042217|  0.0|  0.0|            102|                0|\n|101.66516225042217|  0.0|  0.0|            102|                0|\n|101.66516225042217|  0.0|  0.0|            102|                0|\n|103.64805197074232|  0.0|  0.0|            104|                0|\n+------------------+-----+-----+---------------+-----------------+\nonly showing top 5 rows\n\nR Squared (R2) on test data = 0.999927\n"
            ]
          }
        }
      ],
      "execution_count": null
    },
    {
      "cell_type": "code",
      "source": [
        "predictions = lr_model.transform(test_df)\n",
        "predictions.select(\"prediction\",\"ARREST_PRECINCT\").show()"
      ],
      "metadata": {
        "outputId": "bd819c65-d46f-4f9a-8a28-ce39257329e5",
        "id": "FSWkrJ_JwIL6",
        "application/vnd.databricks.v1+cell": {
          "showTitle": false,
          "cellMetadata": {},
          "nuid": "1035700e-22a8-47cc-b8a5-cf24b5219ecf",
          "inputWidgets": {},
          "title": ""
        }
      },
      "outputs": [
        {
          "output_type": "display_data",
          "metadata": {
            "application/vnd.databricks.v1+output": {
              "datasetInfos": [],
              "data": "+------------------+---------------+\n|        prediction|ARREST_PRECINCT|\n+------------------+---------------+\n| 5.495010814895247|              5|\n|101.66516225042217|            102|\n|101.66516225042217|            102|\n|101.66516225042217|            102|\n|103.64805197074232|            104|\n|106.62238655122253|            107|\n|101.66516225042217|            102|\n|112.57105571218295|            113|\n|112.57105571218295|            113|\n|112.57105571218295|            113|\n|112.57105571218295|            113|\n|112.57105571218295|            113|\n|112.57105571218295|            113|\n|112.57105571218295|            113|\n|112.57105571218295|            113|\n|112.57105571218295|            113|\n| 47.13569494161825|             47|\n| 34.24691175953732|             34|\n| 44.16136036113803|             44|\n| 83.81915476754088|             84|\n+------------------+---------------+\nonly showing top 20 rows\n\n",
              "removedWidgets": [],
              "addedWidgets": {},
              "metadata": {},
              "type": "ansi",
              "arguments": {}
            }
          },
          "data": {
            "text/plain": [
              "+------------------+---------------+\n|        prediction|ARREST_PRECINCT|\n+------------------+---------------+\n| 5.495010814895247|              5|\n|101.66516225042217|            102|\n|101.66516225042217|            102|\n|101.66516225042217|            102|\n|103.64805197074232|            104|\n|106.62238655122253|            107|\n|101.66516225042217|            102|\n|112.57105571218295|            113|\n|112.57105571218295|            113|\n|112.57105571218295|            113|\n|112.57105571218295|            113|\n|112.57105571218295|            113|\n|112.57105571218295|            113|\n|112.57105571218295|            113|\n|112.57105571218295|            113|\n|112.57105571218295|            113|\n| 47.13569494161825|             47|\n| 34.24691175953732|             34|\n| 44.16136036113803|             44|\n| 83.81915476754088|             84|\n+------------------+---------------+\nonly showing top 20 rows\n\n"
            ]
          }
        }
      ],
      "execution_count": null
    },
    {
      "cell_type": "code",
      "source": [
        "pred_df = predictions.toPandas()"
      ],
      "metadata": {
        "id": "Fgd-39xEwIL8",
        "application/vnd.databricks.v1+cell": {
          "showTitle": false,
          "cellMetadata": {},
          "nuid": "b854b10d-b900-4fa2-9360-53e2cd036517",
          "inputWidgets": {},
          "title": ""
        },
        "outputId": "ae540099-99b7-4d3f-a6e6-807d191320d3"
      },
      "outputs": [
        {
          "output_type": "display_data",
          "metadata": {
            "application/vnd.databricks.v1+output": {
              "datasetInfos": [],
              "data": "/databricks/spark/python/pyspark/sql/pandas/conversion.py:92: UserWarning: toPandas attempted Arrow optimization because 'spark.sql.execution.arrow.pyspark.enabled' is set to true; however, failed by the reason below:\n  Unable to convert the field features. If this column is not necessary, you may consider dropping it or converting to primitive type before the conversion.\nDirect cause: Unsupported type in conversion to Arrow: VectorUDT\nAttempting non-optimization as 'spark.sql.execution.arrow.pyspark.fallback.enabled' is set to true.\n  warnings.warn(msg)\n",
              "removedWidgets": [],
              "addedWidgets": {},
              "metadata": {},
              "type": "ansi",
              "arguments": {}
            }
          },
          "data": {
            "text/plain": [
              "/databricks/spark/python/pyspark/sql/pandas/conversion.py:92: UserWarning: toPandas attempted Arrow optimization because 'spark.sql.execution.arrow.pyspark.enabled' is set to true; however, failed by the reason below:\n  Unable to convert the field features. If this column is not necessary, you may consider dropping it or converting to primitive type before the conversion.\nDirect cause: Unsupported type in conversion to Arrow: VectorUDT\nAttempting non-optimization as 'spark.sql.execution.arrow.pyspark.fallback.enabled' is set to true.\n  warnings.warn(msg)\n"
            ]
          }
        }
      ],
      "execution_count": null
    },
    {
      "cell_type": "code",
      "source": [
        "pred_df.head(5)"
      ],
      "metadata": {
        "outputId": "472b1ca6-1ee5-4be2-e62c-66d3fa036020",
        "id": "JP87hplGwIL8",
        "application/vnd.databricks.v1+cell": {
          "showTitle": false,
          "cellMetadata": {},
          "nuid": "1f6f0679-ae26-4871-961e-19256f789ff6",
          "inputWidgets": {},
          "title": ""
        }
      },
      "outputs": [
        {
          "output_type": "display_data",
          "metadata": {
            "application/vnd.databricks.v1+output": {
              "datasetInfos": [],
              "data": "<div>\n<style scoped>\n    .dataframe tbody tr th:only-of-type {\n        vertical-align: middle;\n    }\n\n    .dataframe tbody tr th {\n        vertical-align: top;\n    }\n\n    .dataframe thead th {\n        text-align: right;\n    }\n</style>\n<table border=\"1\" class=\"dataframe\">\n  <thead>\n    <tr style=\"text-align: right;\">\n      <th></th>\n      <th>features</th>\n      <th>ARREST_DATE</th>\n      <th>PD_CD</th>\n      <th>PD_DESC</th>\n      <th>KY_CD</th>\n      <th>OFNS_DESC</th>\n      <th>ARREST_BORO</th>\n      <th>ARREST_PRECINCT</th>\n      <th>JURISDICTION_CODE</th>\n      <th>AGE_GROUP</th>\n      <th>PERP_SEX</th>\n      <th>PERP_RACE</th>\n      <th>prediction</th>\n    </tr>\n  </thead>\n  <tbody>\n    <tr>\n      <th>0</th>\n      <td>(0.0, 0.0, 5.0, 0.0)</td>\n      <td>03/03/2022</td>\n      <td>0.0</td>\n      <td>(null)</td>\n      <td>0.0</td>\n      <td>(null)</td>\n      <td>M</td>\n      <td>5</td>\n      <td>0</td>\n      <td>25-44</td>\n      <td>F</td>\n      <td>BLACK HISPANIC</td>\n      <td>5.495011</td>\n    </tr>\n    <tr>\n      <th>1</th>\n      <td>(0.0, 0.0, 102.0, 0.0)</td>\n      <td>01/07/2022</td>\n      <td>0.0</td>\n      <td>(null)</td>\n      <td>0.0</td>\n      <td>(null)</td>\n      <td>Q</td>\n      <td>102</td>\n      <td>0</td>\n      <td>18-24</td>\n      <td>M</td>\n      <td>BLACK HISPANIC</td>\n      <td>101.665162</td>\n    </tr>\n    <tr>\n      <th>2</th>\n      <td>(0.0, 0.0, 102.0, 0.0)</td>\n      <td>02/15/2022</td>\n      <td>0.0</td>\n      <td>(null)</td>\n      <td>0.0</td>\n      <td>(null)</td>\n      <td>Q</td>\n      <td>102</td>\n      <td>0</td>\n      <td>25-44</td>\n      <td>M</td>\n      <td>BLACK</td>\n      <td>101.665162</td>\n    </tr>\n    <tr>\n      <th>3</th>\n      <td>(0.0, 0.0, 102.0, 0.0)</td>\n      <td>02/21/2022</td>\n      <td>0.0</td>\n      <td>(null)</td>\n      <td>0.0</td>\n      <td>(null)</td>\n      <td>Q</td>\n      <td>102</td>\n      <td>0</td>\n      <td>25-44</td>\n      <td>M</td>\n      <td>BLACK</td>\n      <td>101.665162</td>\n    </tr>\n    <tr>\n      <th>4</th>\n      <td>(0.0, 0.0, 104.0, 0.0)</td>\n      <td>01/23/2022</td>\n      <td>0.0</td>\n      <td>(null)</td>\n      <td>0.0</td>\n      <td>(null)</td>\n      <td>Q</td>\n      <td>104</td>\n      <td>0</td>\n      <td>45-64</td>\n      <td>M</td>\n      <td>WHITE</td>\n      <td>103.648052</td>\n    </tr>\n  </tbody>\n</table>\n</div>",
              "textData": null,
              "removedWidgets": [],
              "addedWidgets": {},
              "metadata": {},
              "type": "htmlSandbox",
              "arguments": {}
            }
          },
          "data": {
            "text/html": [
              "<div>\n<style scoped>\n    .dataframe tbody tr th:only-of-type {\n        vertical-align: middle;\n    }\n\n    .dataframe tbody tr th {\n        vertical-align: top;\n    }\n\n    .dataframe thead th {\n        text-align: right;\n    }\n</style>\n<table border=\"1\" class=\"dataframe\">\n  <thead>\n    <tr style=\"text-align: right;\">\n      <th></th>\n      <th>features</th>\n      <th>ARREST_DATE</th>\n      <th>PD_CD</th>\n      <th>PD_DESC</th>\n      <th>KY_CD</th>\n      <th>OFNS_DESC</th>\n      <th>ARREST_BORO</th>\n      <th>ARREST_PRECINCT</th>\n      <th>JURISDICTION_CODE</th>\n      <th>AGE_GROUP</th>\n      <th>PERP_SEX</th>\n      <th>PERP_RACE</th>\n      <th>prediction</th>\n    </tr>\n  </thead>\n  <tbody>\n    <tr>\n      <th>0</th>\n      <td>(0.0, 0.0, 5.0, 0.0)</td>\n      <td>03/03/2022</td>\n      <td>0.0</td>\n      <td>(null)</td>\n      <td>0.0</td>\n      <td>(null)</td>\n      <td>M</td>\n      <td>5</td>\n      <td>0</td>\n      <td>25-44</td>\n      <td>F</td>\n      <td>BLACK HISPANIC</td>\n      <td>5.495011</td>\n    </tr>\n    <tr>\n      <th>1</th>\n      <td>(0.0, 0.0, 102.0, 0.0)</td>\n      <td>01/07/2022</td>\n      <td>0.0</td>\n      <td>(null)</td>\n      <td>0.0</td>\n      <td>(null)</td>\n      <td>Q</td>\n      <td>102</td>\n      <td>0</td>\n      <td>18-24</td>\n      <td>M</td>\n      <td>BLACK HISPANIC</td>\n      <td>101.665162</td>\n    </tr>\n    <tr>\n      <th>2</th>\n      <td>(0.0, 0.0, 102.0, 0.0)</td>\n      <td>02/15/2022</td>\n      <td>0.0</td>\n      <td>(null)</td>\n      <td>0.0</td>\n      <td>(null)</td>\n      <td>Q</td>\n      <td>102</td>\n      <td>0</td>\n      <td>25-44</td>\n      <td>M</td>\n      <td>BLACK</td>\n      <td>101.665162</td>\n    </tr>\n    <tr>\n      <th>3</th>\n      <td>(0.0, 0.0, 102.0, 0.0)</td>\n      <td>02/21/2022</td>\n      <td>0.0</td>\n      <td>(null)</td>\n      <td>0.0</td>\n      <td>(null)</td>\n      <td>Q</td>\n      <td>102</td>\n      <td>0</td>\n      <td>25-44</td>\n      <td>M</td>\n      <td>BLACK</td>\n      <td>101.665162</td>\n    </tr>\n    <tr>\n      <th>4</th>\n      <td>(0.0, 0.0, 104.0, 0.0)</td>\n      <td>01/23/2022</td>\n      <td>0.0</td>\n      <td>(null)</td>\n      <td>0.0</td>\n      <td>(null)</td>\n      <td>Q</td>\n      <td>104</td>\n      <td>0</td>\n      <td>45-64</td>\n      <td>M</td>\n      <td>WHITE</td>\n      <td>103.648052</td>\n    </tr>\n  </tbody>\n</table>\n</div>"
            ]
          }
        }
      ],
      "execution_count": null
    },
    {
      "cell_type": "code",
      "source": [
        "pred_df[pred_df['ARREST_PRECINCT'] > pred_df['prediction']]"
      ],
      "metadata": {
        "outputId": "9c86feda-b299-4f5b-8589-27301b42adcd",
        "id": "_JmMkcwewIL8",
        "application/vnd.databricks.v1+cell": {
          "showTitle": false,
          "cellMetadata": {},
          "nuid": "e234b678-4f58-48ac-8ca5-b8ae8bf42af4",
          "inputWidgets": {},
          "title": ""
        }
      },
      "outputs": [
        {
          "output_type": "display_data",
          "metadata": {
            "application/vnd.databricks.v1+output": {
              "datasetInfos": [],
              "data": "<div>\n<style scoped>\n    .dataframe tbody tr th:only-of-type {\n        vertical-align: middle;\n    }\n\n    .dataframe tbody tr th {\n        vertical-align: top;\n    }\n\n    .dataframe thead th {\n        text-align: right;\n    }\n</style>\n<table border=\"1\" class=\"dataframe\">\n  <thead>\n    <tr style=\"text-align: right;\">\n      <th></th>\n      <th>features</th>\n      <th>ARREST_DATE</th>\n      <th>PD_CD</th>\n      <th>PD_DESC</th>\n      <th>KY_CD</th>\n      <th>OFNS_DESC</th>\n      <th>ARREST_BORO</th>\n      <th>ARREST_PRECINCT</th>\n      <th>JURISDICTION_CODE</th>\n      <th>AGE_GROUP</th>\n      <th>PERP_SEX</th>\n      <th>PERP_RACE</th>\n      <th>prediction</th>\n    </tr>\n  </thead>\n  <tbody>\n    <tr>\n      <th>1</th>\n      <td>(0.0, 0.0, 102.0, 0.0)</td>\n      <td>01/07/2022</td>\n      <td>0.0</td>\n      <td>(null)</td>\n      <td>0.0</td>\n      <td>(null)</td>\n      <td>Q</td>\n      <td>102</td>\n      <td>0</td>\n      <td>18-24</td>\n      <td>M</td>\n      <td>BLACK HISPANIC</td>\n      <td>101.665162</td>\n    </tr>\n    <tr>\n      <th>2</th>\n      <td>(0.0, 0.0, 102.0, 0.0)</td>\n      <td>02/15/2022</td>\n      <td>0.0</td>\n      <td>(null)</td>\n      <td>0.0</td>\n      <td>(null)</td>\n      <td>Q</td>\n      <td>102</td>\n      <td>0</td>\n      <td>25-44</td>\n      <td>M</td>\n      <td>BLACK</td>\n      <td>101.665162</td>\n    </tr>\n    <tr>\n      <th>3</th>\n      <td>(0.0, 0.0, 102.0, 0.0)</td>\n      <td>02/21/2022</td>\n      <td>0.0</td>\n      <td>(null)</td>\n      <td>0.0</td>\n      <td>(null)</td>\n      <td>Q</td>\n      <td>102</td>\n      <td>0</td>\n      <td>25-44</td>\n      <td>M</td>\n      <td>BLACK</td>\n      <td>101.665162</td>\n    </tr>\n    <tr>\n      <th>4</th>\n      <td>(0.0, 0.0, 104.0, 0.0)</td>\n      <td>01/23/2022</td>\n      <td>0.0</td>\n      <td>(null)</td>\n      <td>0.0</td>\n      <td>(null)</td>\n      <td>Q</td>\n      <td>104</td>\n      <td>0</td>\n      <td>45-64</td>\n      <td>M</td>\n      <td>WHITE</td>\n      <td>103.648052</td>\n    </tr>\n    <tr>\n      <th>5</th>\n      <td>(0.0, 0.0, 107.0, 0.0)</td>\n      <td>02/03/2022</td>\n      <td>0.0</td>\n      <td>(null)</td>\n      <td>0.0</td>\n      <td>(null)</td>\n      <td>Q</td>\n      <td>107</td>\n      <td>0</td>\n      <td>25-44</td>\n      <td>M</td>\n      <td>WHITE</td>\n      <td>106.622387</td>\n    </tr>\n    <tr>\n      <th>...</th>\n      <td>...</td>\n      <td>...</td>\n      <td>...</td>\n      <td>...</td>\n      <td>...</td>\n      <td>...</td>\n      <td>...</td>\n      <td>...</td>\n      <td>...</td>\n      <td>...</td>\n      <td>...</td>\n      <td>...</td>\n      <td>...</td>\n    </tr>\n    <tr>\n      <th>28001</th>\n      <td>[969.0, 881.0, 104.0, 0.0]</td>\n      <td>06/02/2022</td>\n      <td>969.0</td>\n      <td>TRAFFIC,UNCLASSIFIED INFRACTIO</td>\n      <td>881.0</td>\n      <td>OTHER TRAFFIC INFRACTION</td>\n      <td>Q</td>\n      <td>104</td>\n      <td>0</td>\n      <td>25-44</td>\n      <td>F</td>\n      <td>WHITE HISPANIC</td>\n      <td>103.648052</td>\n    </tr>\n    <tr>\n      <th>28002</th>\n      <td>[969.0, 881.0, 111.0, 0.0]</td>\n      <td>05/09/2022</td>\n      <td>969.0</td>\n      <td>TRAFFIC,UNCLASSIFIED INFRACTIO</td>\n      <td>881.0</td>\n      <td>OTHER TRAFFIC INFRACTION</td>\n      <td>Q</td>\n      <td>111</td>\n      <td>0</td>\n      <td>45-64</td>\n      <td>M</td>\n      <td>BLACK</td>\n      <td>110.588166</td>\n    </tr>\n    <tr>\n      <th>28003</th>\n      <td>[969.0, 881.0, 112.0, 0.0]</td>\n      <td>06/28/2022</td>\n      <td>969.0</td>\n      <td>TRAFFIC,UNCLASSIFIED INFRACTIO</td>\n      <td>881.0</td>\n      <td>OTHER TRAFFIC INFRACTION</td>\n      <td>Q</td>\n      <td>112</td>\n      <td>0</td>\n      <td>25-44</td>\n      <td>M</td>\n      <td>WHITE</td>\n      <td>111.579611</td>\n    </tr>\n    <tr>\n      <th>28004</th>\n      <td>[969.0, 881.0, 121.0, 0.0]</td>\n      <td>06/18/2022</td>\n      <td>969.0</td>\n      <td>TRAFFIC,UNCLASSIFIED INFRACTIO</td>\n      <td>881.0</td>\n      <td>OTHER TRAFFIC INFRACTION</td>\n      <td>S</td>\n      <td>121</td>\n      <td>0</td>\n      <td>25-44</td>\n      <td>F</td>\n      <td>BLACK HISPANIC</td>\n      <td>120.502615</td>\n    </tr>\n    <tr>\n      <th>28005</th>\n      <td>[969.0, 881.0, 122.0, 0.0]</td>\n      <td>06/06/2022</td>\n      <td>969.0</td>\n      <td>TRAFFIC,UNCLASSIFIED INFRACTIO</td>\n      <td>881.0</td>\n      <td>OTHER TRAFFIC INFRACTION</td>\n      <td>S</td>\n      <td>122</td>\n      <td>0</td>\n      <td>25-44</td>\n      <td>F</td>\n      <td>WHITE</td>\n      <td>121.494059</td>\n    </tr>\n  </tbody>\n</table>\n<p>13882 rows × 13 columns</p>\n</div>",
              "textData": null,
              "removedWidgets": [],
              "addedWidgets": {},
              "metadata": {},
              "type": "htmlSandbox",
              "arguments": {}
            }
          },
          "data": {
            "text/html": [
              "<div>\n<style scoped>\n    .dataframe tbody tr th:only-of-type {\n        vertical-align: middle;\n    }\n\n    .dataframe tbody tr th {\n        vertical-align: top;\n    }\n\n    .dataframe thead th {\n        text-align: right;\n    }\n</style>\n<table border=\"1\" class=\"dataframe\">\n  <thead>\n    <tr style=\"text-align: right;\">\n      <th></th>\n      <th>features</th>\n      <th>ARREST_DATE</th>\n      <th>PD_CD</th>\n      <th>PD_DESC</th>\n      <th>KY_CD</th>\n      <th>OFNS_DESC</th>\n      <th>ARREST_BORO</th>\n      <th>ARREST_PRECINCT</th>\n      <th>JURISDICTION_CODE</th>\n      <th>AGE_GROUP</th>\n      <th>PERP_SEX</th>\n      <th>PERP_RACE</th>\n      <th>prediction</th>\n    </tr>\n  </thead>\n  <tbody>\n    <tr>\n      <th>1</th>\n      <td>(0.0, 0.0, 102.0, 0.0)</td>\n      <td>01/07/2022</td>\n      <td>0.0</td>\n      <td>(null)</td>\n      <td>0.0</td>\n      <td>(null)</td>\n      <td>Q</td>\n      <td>102</td>\n      <td>0</td>\n      <td>18-24</td>\n      <td>M</td>\n      <td>BLACK HISPANIC</td>\n      <td>101.665162</td>\n    </tr>\n    <tr>\n      <th>2</th>\n      <td>(0.0, 0.0, 102.0, 0.0)</td>\n      <td>02/15/2022</td>\n      <td>0.0</td>\n      <td>(null)</td>\n      <td>0.0</td>\n      <td>(null)</td>\n      <td>Q</td>\n      <td>102</td>\n      <td>0</td>\n      <td>25-44</td>\n      <td>M</td>\n      <td>BLACK</td>\n      <td>101.665162</td>\n    </tr>\n    <tr>\n      <th>3</th>\n      <td>(0.0, 0.0, 102.0, 0.0)</td>\n      <td>02/21/2022</td>\n      <td>0.0</td>\n      <td>(null)</td>\n      <td>0.0</td>\n      <td>(null)</td>\n      <td>Q</td>\n      <td>102</td>\n      <td>0</td>\n      <td>25-44</td>\n      <td>M</td>\n      <td>BLACK</td>\n      <td>101.665162</td>\n    </tr>\n    <tr>\n      <th>4</th>\n      <td>(0.0, 0.0, 104.0, 0.0)</td>\n      <td>01/23/2022</td>\n      <td>0.0</td>\n      <td>(null)</td>\n      <td>0.0</td>\n      <td>(null)</td>\n      <td>Q</td>\n      <td>104</td>\n      <td>0</td>\n      <td>45-64</td>\n      <td>M</td>\n      <td>WHITE</td>\n      <td>103.648052</td>\n    </tr>\n    <tr>\n      <th>5</th>\n      <td>(0.0, 0.0, 107.0, 0.0)</td>\n      <td>02/03/2022</td>\n      <td>0.0</td>\n      <td>(null)</td>\n      <td>0.0</td>\n      <td>(null)</td>\n      <td>Q</td>\n      <td>107</td>\n      <td>0</td>\n      <td>25-44</td>\n      <td>M</td>\n      <td>WHITE</td>\n      <td>106.622387</td>\n    </tr>\n    <tr>\n      <th>...</th>\n      <td>...</td>\n      <td>...</td>\n      <td>...</td>\n      <td>...</td>\n      <td>...</td>\n      <td>...</td>\n      <td>...</td>\n      <td>...</td>\n      <td>...</td>\n      <td>...</td>\n      <td>...</td>\n      <td>...</td>\n      <td>...</td>\n    </tr>\n    <tr>\n      <th>28001</th>\n      <td>[969.0, 881.0, 104.0, 0.0]</td>\n      <td>06/02/2022</td>\n      <td>969.0</td>\n      <td>TRAFFIC,UNCLASSIFIED INFRACTIO</td>\n      <td>881.0</td>\n      <td>OTHER TRAFFIC INFRACTION</td>\n      <td>Q</td>\n      <td>104</td>\n      <td>0</td>\n      <td>25-44</td>\n      <td>F</td>\n      <td>WHITE HISPANIC</td>\n      <td>103.648052</td>\n    </tr>\n    <tr>\n      <th>28002</th>\n      <td>[969.0, 881.0, 111.0, 0.0]</td>\n      <td>05/09/2022</td>\n      <td>969.0</td>\n      <td>TRAFFIC,UNCLASSIFIED INFRACTIO</td>\n      <td>881.0</td>\n      <td>OTHER TRAFFIC INFRACTION</td>\n      <td>Q</td>\n      <td>111</td>\n      <td>0</td>\n      <td>45-64</td>\n      <td>M</td>\n      <td>BLACK</td>\n      <td>110.588166</td>\n    </tr>\n    <tr>\n      <th>28003</th>\n      <td>[969.0, 881.0, 112.0, 0.0]</td>\n      <td>06/28/2022</td>\n      <td>969.0</td>\n      <td>TRAFFIC,UNCLASSIFIED INFRACTIO</td>\n      <td>881.0</td>\n      <td>OTHER TRAFFIC INFRACTION</td>\n      <td>Q</td>\n      <td>112</td>\n      <td>0</td>\n      <td>25-44</td>\n      <td>M</td>\n      <td>WHITE</td>\n      <td>111.579611</td>\n    </tr>\n    <tr>\n      <th>28004</th>\n      <td>[969.0, 881.0, 121.0, 0.0]</td>\n      <td>06/18/2022</td>\n      <td>969.0</td>\n      <td>TRAFFIC,UNCLASSIFIED INFRACTIO</td>\n      <td>881.0</td>\n      <td>OTHER TRAFFIC INFRACTION</td>\n      <td>S</td>\n      <td>121</td>\n      <td>0</td>\n      <td>25-44</td>\n      <td>F</td>\n      <td>BLACK HISPANIC</td>\n      <td>120.502615</td>\n    </tr>\n    <tr>\n      <th>28005</th>\n      <td>[969.0, 881.0, 122.0, 0.0]</td>\n      <td>06/06/2022</td>\n      <td>969.0</td>\n      <td>TRAFFIC,UNCLASSIFIED INFRACTIO</td>\n      <td>881.0</td>\n      <td>OTHER TRAFFIC INFRACTION</td>\n      <td>S</td>\n      <td>122</td>\n      <td>0</td>\n      <td>25-44</td>\n      <td>F</td>\n      <td>WHITE</td>\n      <td>121.494059</td>\n    </tr>\n  </tbody>\n</table>\n<p>13882 rows × 13 columns</p>\n</div>"
            ]
          }
        }
      ],
      "execution_count": null
    },
    {
      "cell_type": "code",
      "source": [
        "pred_df['ARREST_PRECINCT'].mean()"
      ],
      "metadata": {
        "outputId": "26816178-600e-4876-bdb8-b4f682da818a",
        "id": "poNaj94IwIL9",
        "application/vnd.databricks.v1+cell": {
          "showTitle": false,
          "cellMetadata": {},
          "nuid": "8b6f5d60-637d-4555-ac4a-0799b7400268",
          "inputWidgets": {},
          "title": ""
        }
      },
      "outputs": [
        {
          "output_type": "display_data",
          "metadata": {
            "application/vnd.databricks.v1+output": {
              "datasetInfos": [],
              "data": "Out[44]: 63.05313147182746",
              "removedWidgets": [],
              "addedWidgets": {},
              "metadata": {},
              "type": "ansi",
              "arguments": {}
            }
          },
          "data": {
            "text/plain": [
              "Out[44]: 63.05313147182746"
            ]
          }
        }
      ],
      "execution_count": null
    },
    {
      "cell_type": "code",
      "source": [
        "# AIRE"
      ],
      "metadata": {
        "id": "VB5iGVhPwNdk",
        "application/vnd.databricks.v1+cell": {
          "showTitle": false,
          "cellMetadata": {},
          "nuid": "c9269e50-c120-4818-9049-35a6fa5a984c",
          "inputWidgets": {},
          "title": ""
        }
      },
      "outputs": [],
      "execution_count": null
    },
    {
      "cell_type": "code",
      "source": [
        "aire.head(5)"
      ],
      "metadata": {
        "outputId": "989a27b8-04e4-484f-d01c-40adc19fdcce",
        "id": "GPWesynFwNdk",
        "application/vnd.databricks.v1+cell": {
          "showTitle": false,
          "cellMetadata": {},
          "nuid": "50b948d3-d065-41e7-8bac-3e2cc7541e1e",
          "inputWidgets": {},
          "title": ""
        }
      },
      "outputs": [
        {
          "output_type": "display_data",
          "metadata": {
            "application/vnd.databricks.v1+output": {
              "datasetInfos": [],
              "data": "<div>\n<style scoped>\n    .dataframe tbody tr th:only-of-type {\n        vertical-align: middle;\n    }\n\n    .dataframe tbody tr th {\n        vertical-align: top;\n    }\n\n    .dataframe thead th {\n        text-align: right;\n    }\n</style>\n<table border=\"1\" class=\"dataframe\">\n  <thead>\n    <tr style=\"text-align: right;\">\n      <th></th>\n      <th>Indicator ID</th>\n      <th>Name</th>\n      <th>Measure</th>\n      <th>Measure Info</th>\n      <th>Geo Type Name</th>\n      <th>Geo Join ID</th>\n      <th>Geo Place Name</th>\n      <th>Time Period</th>\n      <th>Start_Date</th>\n      <th>Data Value</th>\n    </tr>\n  </thead>\n  <tbody>\n    <tr>\n      <th>0</th>\n      <td>386</td>\n      <td>Ozone (O3)</td>\n      <td>Mean</td>\n      <td>ppb</td>\n      <td>CD</td>\n      <td>313</td>\n      <td>Coney Island (CD13)</td>\n      <td>Summer 2013</td>\n      <td>06/01/2013</td>\n      <td>34.64</td>\n    </tr>\n    <tr>\n      <th>1</th>\n      <td>386</td>\n      <td>Ozone (O3)</td>\n      <td>Mean</td>\n      <td>ppb</td>\n      <td>CD</td>\n      <td>313</td>\n      <td>Coney Island (CD13)</td>\n      <td>Summer 2014</td>\n      <td>06/01/2014</td>\n      <td>33.22</td>\n    </tr>\n    <tr>\n      <th>2</th>\n      <td>386</td>\n      <td>Ozone (O3)</td>\n      <td>Mean</td>\n      <td>ppb</td>\n      <td>Borough</td>\n      <td>1</td>\n      <td>Bronx</td>\n      <td>Summer 2013</td>\n      <td>06/01/2013</td>\n      <td>31.25</td>\n    </tr>\n    <tr>\n      <th>3</th>\n      <td>386</td>\n      <td>Ozone (O3)</td>\n      <td>Mean</td>\n      <td>ppb</td>\n      <td>Borough</td>\n      <td>1</td>\n      <td>Bronx</td>\n      <td>Summer 2014</td>\n      <td>06/01/2014</td>\n      <td>31.15</td>\n    </tr>\n    <tr>\n      <th>4</th>\n      <td>383</td>\n      <td>Sulfur Dioxide (SO2)</td>\n      <td>Mean</td>\n      <td>ppb</td>\n      <td>CD</td>\n      <td>211</td>\n      <td>Morris Park and Bronxdale (CD11)</td>\n      <td>Winter 2008-09</td>\n      <td>12/01/2008</td>\n      <td>5.89</td>\n    </tr>\n  </tbody>\n</table>\n</div>",
              "textData": null,
              "removedWidgets": [],
              "addedWidgets": {},
              "metadata": {},
              "type": "htmlSandbox",
              "arguments": {}
            }
          },
          "data": {
            "text/html": [
              "<div>\n<style scoped>\n    .dataframe tbody tr th:only-of-type {\n        vertical-align: middle;\n    }\n\n    .dataframe tbody tr th {\n        vertical-align: top;\n    }\n\n    .dataframe thead th {\n        text-align: right;\n    }\n</style>\n<table border=\"1\" class=\"dataframe\">\n  <thead>\n    <tr style=\"text-align: right;\">\n      <th></th>\n      <th>Indicator ID</th>\n      <th>Name</th>\n      <th>Measure</th>\n      <th>Measure Info</th>\n      <th>Geo Type Name</th>\n      <th>Geo Join ID</th>\n      <th>Geo Place Name</th>\n      <th>Time Period</th>\n      <th>Start_Date</th>\n      <th>Data Value</th>\n    </tr>\n  </thead>\n  <tbody>\n    <tr>\n      <th>0</th>\n      <td>386</td>\n      <td>Ozone (O3)</td>\n      <td>Mean</td>\n      <td>ppb</td>\n      <td>CD</td>\n      <td>313</td>\n      <td>Coney Island (CD13)</td>\n      <td>Summer 2013</td>\n      <td>06/01/2013</td>\n      <td>34.64</td>\n    </tr>\n    <tr>\n      <th>1</th>\n      <td>386</td>\n      <td>Ozone (O3)</td>\n      <td>Mean</td>\n      <td>ppb</td>\n      <td>CD</td>\n      <td>313</td>\n      <td>Coney Island (CD13)</td>\n      <td>Summer 2014</td>\n      <td>06/01/2014</td>\n      <td>33.22</td>\n    </tr>\n    <tr>\n      <th>2</th>\n      <td>386</td>\n      <td>Ozone (O3)</td>\n      <td>Mean</td>\n      <td>ppb</td>\n      <td>Borough</td>\n      <td>1</td>\n      <td>Bronx</td>\n      <td>Summer 2013</td>\n      <td>06/01/2013</td>\n      <td>31.25</td>\n    </tr>\n    <tr>\n      <th>3</th>\n      <td>386</td>\n      <td>Ozone (O3)</td>\n      <td>Mean</td>\n      <td>ppb</td>\n      <td>Borough</td>\n      <td>1</td>\n      <td>Bronx</td>\n      <td>Summer 2014</td>\n      <td>06/01/2014</td>\n      <td>31.15</td>\n    </tr>\n    <tr>\n      <th>4</th>\n      <td>383</td>\n      <td>Sulfur Dioxide (SO2)</td>\n      <td>Mean</td>\n      <td>ppb</td>\n      <td>CD</td>\n      <td>211</td>\n      <td>Morris Park and Bronxdale (CD11)</td>\n      <td>Winter 2008-09</td>\n      <td>12/01/2008</td>\n      <td>5.89</td>\n    </tr>\n  </tbody>\n</table>\n</div>"
            ]
          }
        }
      ],
      "execution_count": null
    },
    {
      "cell_type": "code",
      "source": [
        "# Se filtran datos importantes\n",
        "aire_fltrd = aire.filter(items=['Indicator ID', 'Name', 'Geo Join ID', 'Geo Place Name', 'Time Period', 'Data Value' ])"
      ],
      "metadata": {
        "id": "ikbhfmHNwNdk",
        "application/vnd.databricks.v1+cell": {
          "showTitle": false,
          "cellMetadata": {},
          "nuid": "a2a45a3f-5e5f-46ea-bb3e-e05bc81e3b61",
          "inputWidgets": {},
          "title": ""
        }
      },
      "outputs": [],
      "execution_count": null
    },
    {
      "cell_type": "code",
      "source": [
        "# Se llenan de 0 los nan\n",
        "aire_fltrd = aire_fltrd.fillna(0)"
      ],
      "metadata": {
        "id": "ptsmlk2PwNdk",
        "application/vnd.databricks.v1+cell": {
          "showTitle": false,
          "cellMetadata": {},
          "nuid": "334d8bbb-c993-49f4-b835-d7c51237e0f4",
          "inputWidgets": {},
          "title": ""
        }
      },
      "outputs": [],
      "execution_count": null
    },
    {
      "cell_type": "code",
      "source": [
        "from pyspark.sql import SparkSession\n",
        "#Create PySpark SparkSession\n",
        "spark = SparkSession.builder \\\n",
        "    .master(\"local[1]\") \\\n",
        "    .appName(\"SparkByExamples.com\") \\\n",
        "    .getOrCreate()\n",
        "#Create PySpark DataFrame from Pandas\n",
        "sparkDF=spark.createDataFrame(aire_fltrd) \n",
        "sparkDF.printSchema()\n",
        "sparkDF.show()"
      ],
      "metadata": {
        "outputId": "bbce067a-c3f4-4bc4-ad22-4b2c73da9f76",
        "id": "JHACZardwNdl",
        "application/vnd.databricks.v1+cell": {
          "showTitle": false,
          "cellMetadata": {},
          "nuid": "dcd648c2-6099-4ebd-84a6-9e897404b03b",
          "inputWidgets": {},
          "title": ""
        }
      },
      "outputs": [
        {
          "output_type": "display_data",
          "metadata": {
            "application/vnd.databricks.v1+output": {
              "datasetInfos": [],
              "data": "root\n |-- Indicator ID: long (nullable = true)\n |-- Name: string (nullable = true)\n |-- Geo Join ID: long (nullable = true)\n |-- Geo Place Name: string (nullable = true)\n |-- Time Period: string (nullable = true)\n |-- Data Value: double (nullable = true)\n\n+------------+--------------------+-----------+--------------------+--------------+----------+\n|Indicator ID|                Name|Geo Join ID|      Geo Place Name|   Time Period|Data Value|\n+------------+--------------------+-----------+--------------------+--------------+----------+\n|         386|          Ozone (O3)|        313| Coney Island (CD13)|   Summer 2013|     34.64|\n|         386|          Ozone (O3)|        313| Coney Island (CD13)|   Summer 2014|     33.22|\n|         386|          Ozone (O3)|          1|               Bronx|   Summer 2013|     31.25|\n|         386|          Ozone (O3)|          1|               Bronx|   Summer 2014|     31.15|\n|         383|Sulfur Dioxide (SO2)|        211|Morris Park and B...|Winter 2008-09|      5.89|\n|         383|Sulfur Dioxide (SO2)|        212|Williamsbridge an...|Winter 2008-09|      5.75|\n|         386|          Ozone (O3)|          2|            Brooklyn|   Summer 2009|     26.27|\n|         386|          Ozone (O3)|          2|            Brooklyn|   Summer 2010|     33.83|\n|         383|Sulfur Dioxide (SO2)|        301|Greenpoint and Wi...|Winter 2008-09|      4.33|\n|         383|Sulfur Dioxide (SO2)|        302|Fort Greene and B...|Winter 2008-09|      4.41|\n|         383|Sulfur Dioxide (SO2)|        303|Bedford Stuyvesan...|Winter 2008-09|      4.73|\n|         383|Sulfur Dioxide (SO2)|        304|      Bushwick (CD4)|Winter 2008-09|      4.71|\n|         383|Sulfur Dioxide (SO2)|        305|East New York and...|Winter 2008-09|      3.78|\n|         383|Sulfur Dioxide (SO2)|        306|Park Slope and Ca...|Winter 2008-09|      3.94|\n|         383|Sulfur Dioxide (SO2)|        307|   Sunset Park (CD7)|Winter 2008-09|      3.78|\n|         383|Sulfur Dioxide (SO2)|        308|Crown Heights and...|Winter 2008-09|      4.79|\n|         386|          Ozone (O3)|          2|            Brooklyn|   Summer 2011|     33.19|\n|         386|          Ozone (O3)|          2|            Brooklyn|   Summer 2012|     33.89|\n|         386|          Ozone (O3)|          2|            Brooklyn|   Summer 2013|     31.13|\n|         386|          Ozone (O3)|          2|            Brooklyn|   Summer 2014|     31.29|\n+------------+--------------------+-----------+--------------------+--------------+----------+\nonly showing top 20 rows\n\n",
              "removedWidgets": [],
              "addedWidgets": {},
              "metadata": {},
              "type": "ansi",
              "arguments": {}
            }
          },
          "data": {
            "text/plain": [
              "root\n |-- Indicator ID: long (nullable = true)\n |-- Name: string (nullable = true)\n |-- Geo Join ID: long (nullable = true)\n |-- Geo Place Name: string (nullable = true)\n |-- Time Period: string (nullable = true)\n |-- Data Value: double (nullable = true)\n\n+------------+--------------------+-----------+--------------------+--------------+----------+\n|Indicator ID|                Name|Geo Join ID|      Geo Place Name|   Time Period|Data Value|\n+------------+--------------------+-----------+--------------------+--------------+----------+\n|         386|          Ozone (O3)|        313| Coney Island (CD13)|   Summer 2013|     34.64|\n|         386|          Ozone (O3)|        313| Coney Island (CD13)|   Summer 2014|     33.22|\n|         386|          Ozone (O3)|          1|               Bronx|   Summer 2013|     31.25|\n|         386|          Ozone (O3)|          1|               Bronx|   Summer 2014|     31.15|\n|         383|Sulfur Dioxide (SO2)|        211|Morris Park and B...|Winter 2008-09|      5.89|\n|         383|Sulfur Dioxide (SO2)|        212|Williamsbridge an...|Winter 2008-09|      5.75|\n|         386|          Ozone (O3)|          2|            Brooklyn|   Summer 2009|     26.27|\n|         386|          Ozone (O3)|          2|            Brooklyn|   Summer 2010|     33.83|\n|         383|Sulfur Dioxide (SO2)|        301|Greenpoint and Wi...|Winter 2008-09|      4.33|\n|         383|Sulfur Dioxide (SO2)|        302|Fort Greene and B...|Winter 2008-09|      4.41|\n|         383|Sulfur Dioxide (SO2)|        303|Bedford Stuyvesan...|Winter 2008-09|      4.73|\n|         383|Sulfur Dioxide (SO2)|        304|      Bushwick (CD4)|Winter 2008-09|      4.71|\n|         383|Sulfur Dioxide (SO2)|        305|East New York and...|Winter 2008-09|      3.78|\n|         383|Sulfur Dioxide (SO2)|        306|Park Slope and Ca...|Winter 2008-09|      3.94|\n|         383|Sulfur Dioxide (SO2)|        307|   Sunset Park (CD7)|Winter 2008-09|      3.78|\n|         383|Sulfur Dioxide (SO2)|        308|Crown Heights and...|Winter 2008-09|      4.79|\n|         386|          Ozone (O3)|          2|            Brooklyn|   Summer 2011|     33.19|\n|         386|          Ozone (O3)|          2|            Brooklyn|   Summer 2012|     33.89|\n|         386|          Ozone (O3)|          2|            Brooklyn|   Summer 2013|     31.13|\n|         386|          Ozone (O3)|          2|            Brooklyn|   Summer 2014|     31.29|\n+------------+--------------------+-----------+--------------------+--------------+----------+\nonly showing top 20 rows\n\n"
            ]
          }
        }
      ],
      "execution_count": null
    },
    {
      "cell_type": "code",
      "source": [
        "vectorAssembler = VectorAssembler(inputCols = ['Indicator ID', 'Geo Join ID', 'Data Value'], outputCol = 'features')\n",
        "vtrain = vectorAssembler.transform(sparkDF)\n",
        "vtrain = vtrain.select(['features', 'Indicator ID', 'Geo Join ID', 'Data Value']) # Off_Pov_Stat\n",
        "vtrain.show(3)"
      ],
      "metadata": {
        "outputId": "6f4ac813-beca-4692-b95b-b44d24ae0c23",
        "id": "Kd1EFFPRwNdl",
        "application/vnd.databricks.v1+cell": {
          "showTitle": false,
          "cellMetadata": {},
          "nuid": "20ccd12c-02e8-4bf7-a6fb-173f7d456c7e",
          "inputWidgets": {},
          "title": ""
        }
      },
      "outputs": [
        {
          "output_type": "display_data",
          "metadata": {
            "application/vnd.databricks.v1+output": {
              "datasetInfos": [],
              "data": "+-------------------+------------+-----------+----------+\n|           features|Indicator ID|Geo Join ID|Data Value|\n+-------------------+------------+-----------+----------+\n|[386.0,313.0,34.64]|         386|        313|     34.64|\n|[386.0,313.0,33.22]|         386|        313|     33.22|\n|  [386.0,1.0,31.25]|         386|          1|     31.25|\n+-------------------+------------+-----------+----------+\nonly showing top 3 rows\n\n",
              "removedWidgets": [],
              "addedWidgets": {},
              "metadata": {},
              "type": "ansi",
              "arguments": {}
            }
          },
          "data": {
            "text/plain": [
              "+-------------------+------------+-----------+----------+\n|           features|Indicator ID|Geo Join ID|Data Value|\n+-------------------+------------+-----------+----------+\n|[386.0,313.0,34.64]|         386|        313|     34.64|\n|[386.0,313.0,33.22]|         386|        313|     33.22|\n|  [386.0,1.0,31.25]|         386|          1|     31.25|\n+-------------------+------------+-----------+----------+\nonly showing top 3 rows\n\n"
            ]
          }
        }
      ],
      "execution_count": null
    },
    {
      "cell_type": "code",
      "source": [
        "splits = vtrain.randomSplit([0.7, 0.3])\n",
        "train_df = splits[0]\n",
        "test_df = splits[1]"
      ],
      "metadata": {
        "id": "TrGL3D9IwNdl",
        "application/vnd.databricks.v1+cell": {
          "showTitle": false,
          "cellMetadata": {},
          "nuid": "34481b8f-cab1-48a0-9d7e-b8487bfa28f2",
          "inputWidgets": {},
          "title": ""
        }
      },
      "outputs": [],
      "execution_count": null
    },
    {
      "cell_type": "code",
      "source": [
        "lr = LinearRegression(featuresCol = 'features', labelCol='Data Value', maxIter=10, regParam=0.3, elasticNetParam=0.8)\n",
        "lr_model = lr.fit(train_df)\n",
        "print(\"Coefficients: \" + str(lr_model.coefficients))\n",
        "print(\"Intercept: \" + str(lr_model.intercept))"
      ],
      "metadata": {
        "outputId": "1186a126-6048-4cba-9c40-28afd18003a4",
        "id": "6e3-IkfTwNdl",
        "application/vnd.databricks.v1+cell": {
          "showTitle": false,
          "cellMetadata": {},
          "nuid": "bf49a1a2-0ea2-45d1-b720-0c92a90702b9",
          "inputWidgets": {},
          "title": ""
        }
      },
      "outputs": [
        {
          "output_type": "display_data",
          "metadata": {
            "application/vnd.databricks.v1+output": {
              "datasetInfos": [],
              "data": "Coefficients: [0.0,0.0,0.9857984274958567]\nIntercept: 0.26970774337365505\n",
              "removedWidgets": [],
              "addedWidgets": {},
              "metadata": {},
              "type": "ansi",
              "arguments": {}
            }
          },
          "data": {
            "text/plain": [
              "Coefficients: [0.0,0.0,0.9857984274958567]\nIntercept: 0.26970774337365505\n"
            ]
          }
        }
      ],
      "execution_count": null
    },
    {
      "cell_type": "code",
      "source": [
        "lr_predictions = lr_model.transform(test_df)\n",
        "lr_predictions.select(\"prediction\",'Indicator ID', 'Geo Join ID', \"Data Value\").show(5)\n",
        "from pyspark.ml.evaluation import RegressionEvaluator\n",
        "lr_evaluator = RegressionEvaluator(predictionCol=\"prediction\", \\\n",
        "                 labelCol=\"Data Value\",metricName=\"r2\")\n",
        "print(\"R Squared (R2) on test data = %g\" % lr_evaluator.evaluate(lr_predictions))"
      ],
      "metadata": {
        "outputId": "c10a6942-189d-4a7e-cc19-0db2ac578edc",
        "id": "WPcdAt2_wNdl",
        "application/vnd.databricks.v1+cell": {
          "showTitle": false,
          "cellMetadata": {},
          "nuid": "329c84b7-4124-45e1-98c2-5b09cdc0bf98",
          "inputWidgets": {},
          "title": ""
        }
      },
      "outputs": [
        {
          "output_type": "display_data",
          "metadata": {
            "application/vnd.databricks.v1+output": {
              "datasetInfos": [],
              "data": "+------------------+------------+-----------+----------+\n|        prediction|Indicator ID|Geo Join ID|Data Value|\n+------------------+------------+-----------+----------+\n|31.933553234540568|         375|        101|     32.12|\n|34.881090532753184|         375|        101|     35.11|\n|36.537231890946224|         375|        102|     36.79|\n| 29.45919918152597|         375|        103|     29.61|\n| 34.68393084725401|         375|        103|     34.91|\n+------------------+------------+-----------+----------+\nonly showing top 5 rows\n\nR Squared (R2) on test data = 0.999798\n",
              "removedWidgets": [],
              "addedWidgets": {},
              "metadata": {},
              "type": "ansi",
              "arguments": {}
            }
          },
          "data": {
            "text/plain": [
              "+------------------+------------+-----------+----------+\n|        prediction|Indicator ID|Geo Join ID|Data Value|\n+------------------+------------+-----------+----------+\n|31.933553234540568|         375|        101|     32.12|\n|34.881090532753184|         375|        101|     35.11|\n|36.537231890946224|         375|        102|     36.79|\n| 29.45919918152597|         375|        103|     29.61|\n| 34.68393084725401|         375|        103|     34.91|\n+------------------+------------+-----------+----------+\nonly showing top 5 rows\n\nR Squared (R2) on test data = 0.999798\n"
            ]
          }
        }
      ],
      "execution_count": null
    },
    {
      "cell_type": "code",
      "source": [
        "predictions = lr_model.transform(test_df)\n",
        "predictions.select(\"prediction\",\"Data Value\", 'Indicator ID', 'Geo Join ID',).show()"
      ],
      "metadata": {
        "outputId": "bd819c65-d46f-4f9a-8a28-ce39257329e5",
        "id": "8U9PK2-6wNdl",
        "application/vnd.databricks.v1+cell": {
          "showTitle": false,
          "cellMetadata": {},
          "nuid": "1035700e-22a8-47cc-b8a5-cf24b5219ecf",
          "inputWidgets": {},
          "title": ""
        }
      },
      "outputs": [
        {
          "output_type": "display_data",
          "metadata": {
            "application/vnd.databricks.v1+output": {
              "datasetInfos": [],
              "data": "+------------------+----------+------------+-----------+\n|        prediction|Data Value|Indicator ID|Geo Join ID|\n+------------------+----------+------------+-----------+\n|31.933553234540568|     32.12|         375|        101|\n|34.881090532753184|     35.11|         375|        101|\n|36.537231890946224|     36.79|         375|        102|\n| 29.45919918152597|     29.61|         375|        103|\n| 34.68393084725401|     34.91|         375|        103|\n| 32.22929276278933|     32.42|         375|        104|\n|40.569147459404284|     40.88|         375|        104|\n| 37.64132612974158|     37.91|         375|        106|\n|28.749424313728955|     28.89|         375|        107|\n| 36.10348058284805|     36.35|         375|        107|\n|  35.7584511332245|      36.0|         375|        108|\n|28.818430203653666|     28.96|         375|        109|\n|29.823944599699438|     29.98|         375|        112|\n|27.418596436609548|     27.54|         375|        201|\n|31.549091847817188|     31.73|         375|        201|\n| 32.21943477851437|     32.41|         375|        201|\n|24.865378509395278|     24.95|         375|        202|\n|30.356275750547198|     30.52|         375|        202|\n|30.750595121545544|     30.92|         375|        203|\n|33.836144199607574|     34.05|         375|        205|\n+------------------+----------+------------+-----------+\nonly showing top 20 rows\n\n",
              "removedWidgets": [],
              "addedWidgets": {},
              "metadata": {},
              "type": "ansi",
              "arguments": {}
            }
          },
          "data": {
            "text/plain": [
              "+------------------+----------+------------+-----------+\n|        prediction|Data Value|Indicator ID|Geo Join ID|\n+------------------+----------+------------+-----------+\n|31.933553234540568|     32.12|         375|        101|\n|34.881090532753184|     35.11|         375|        101|\n|36.537231890946224|     36.79|         375|        102|\n| 29.45919918152597|     29.61|         375|        103|\n| 34.68393084725401|     34.91|         375|        103|\n| 32.22929276278933|     32.42|         375|        104|\n|40.569147459404284|     40.88|         375|        104|\n| 37.64132612974158|     37.91|         375|        106|\n|28.749424313728955|     28.89|         375|        107|\n| 36.10348058284805|     36.35|         375|        107|\n|  35.7584511332245|      36.0|         375|        108|\n|28.818430203653666|     28.96|         375|        109|\n|29.823944599699438|     29.98|         375|        112|\n|27.418596436609548|     27.54|         375|        201|\n|31.549091847817188|     31.73|         375|        201|\n| 32.21943477851437|     32.41|         375|        201|\n|24.865378509395278|     24.95|         375|        202|\n|30.356275750547198|     30.52|         375|        202|\n|30.750595121545544|     30.92|         375|        203|\n|33.836144199607574|     34.05|         375|        205|\n+------------------+----------+------------+-----------+\nonly showing top 20 rows\n\n"
            ]
          }
        }
      ],
      "execution_count": null
    },
    {
      "cell_type": "code",
      "source": [
        "pred_df = predictions.toPandas()"
      ],
      "metadata": {
        "id": "WShdQnSrwNdl",
        "application/vnd.databricks.v1+cell": {
          "showTitle": false,
          "cellMetadata": {},
          "nuid": "b854b10d-b900-4fa2-9360-53e2cd036517",
          "inputWidgets": {},
          "title": ""
        },
        "outputId": "981924fe-793c-4afa-a853-34cc584387b2"
      },
      "outputs": [
        {
          "output_type": "display_data",
          "metadata": {
            "application/vnd.databricks.v1+output": {
              "datasetInfos": [],
              "data": "/databricks/spark/python/pyspark/sql/pandas/conversion.py:92: UserWarning: toPandas attempted Arrow optimization because 'spark.sql.execution.arrow.pyspark.enabled' is set to true; however, failed by the reason below:\n  Unable to convert the field features. If this column is not necessary, you may consider dropping it or converting to primitive type before the conversion.\nDirect cause: Unsupported type in conversion to Arrow: VectorUDT\nAttempting non-optimization as 'spark.sql.execution.arrow.pyspark.fallback.enabled' is set to true.\n  warnings.warn(msg)\n",
              "removedWidgets": [],
              "addedWidgets": {},
              "metadata": {},
              "type": "ansi",
              "arguments": {}
            }
          },
          "data": {
            "text/plain": [
              "/databricks/spark/python/pyspark/sql/pandas/conversion.py:92: UserWarning: toPandas attempted Arrow optimization because 'spark.sql.execution.arrow.pyspark.enabled' is set to true; however, failed by the reason below:\n  Unable to convert the field features. If this column is not necessary, you may consider dropping it or converting to primitive type before the conversion.\nDirect cause: Unsupported type in conversion to Arrow: VectorUDT\nAttempting non-optimization as 'spark.sql.execution.arrow.pyspark.fallback.enabled' is set to true.\n  warnings.warn(msg)\n"
            ]
          }
        }
      ],
      "execution_count": null
    },
    {
      "cell_type": "code",
      "source": [
        "pred_df.head(5)"
      ],
      "metadata": {
        "outputId": "472b1ca6-1ee5-4be2-e62c-66d3fa036020",
        "id": "RAvWOtHywNdm",
        "application/vnd.databricks.v1+cell": {
          "showTitle": false,
          "cellMetadata": {},
          "nuid": "1f6f0679-ae26-4871-961e-19256f789ff6",
          "inputWidgets": {},
          "title": ""
        }
      },
      "outputs": [
        {
          "output_type": "display_data",
          "metadata": {
            "application/vnd.databricks.v1+output": {
              "datasetInfos": [],
              "data": "<div>\n<style scoped>\n    .dataframe tbody tr th:only-of-type {\n        vertical-align: middle;\n    }\n\n    .dataframe tbody tr th {\n        vertical-align: top;\n    }\n\n    .dataframe thead th {\n        text-align: right;\n    }\n</style>\n<table border=\"1\" class=\"dataframe\">\n  <thead>\n    <tr style=\"text-align: right;\">\n      <th></th>\n      <th>features</th>\n      <th>Indicator ID</th>\n      <th>Geo Join ID</th>\n      <th>Data Value</th>\n      <th>prediction</th>\n    </tr>\n  </thead>\n  <tbody>\n    <tr>\n      <th>0</th>\n      <td>[375.0, 101.0, 32.12]</td>\n      <td>375</td>\n      <td>101</td>\n      <td>32.12</td>\n      <td>31.933553</td>\n    </tr>\n    <tr>\n      <th>1</th>\n      <td>[375.0, 101.0, 35.11]</td>\n      <td>375</td>\n      <td>101</td>\n      <td>35.11</td>\n      <td>34.881091</td>\n    </tr>\n    <tr>\n      <th>2</th>\n      <td>[375.0, 102.0, 36.79]</td>\n      <td>375</td>\n      <td>102</td>\n      <td>36.79</td>\n      <td>36.537232</td>\n    </tr>\n    <tr>\n      <th>3</th>\n      <td>[375.0, 103.0, 29.61]</td>\n      <td>375</td>\n      <td>103</td>\n      <td>29.61</td>\n      <td>29.459199</td>\n    </tr>\n    <tr>\n      <th>4</th>\n      <td>[375.0, 103.0, 34.91]</td>\n      <td>375</td>\n      <td>103</td>\n      <td>34.91</td>\n      <td>34.683931</td>\n    </tr>\n  </tbody>\n</table>\n</div>",
              "textData": null,
              "removedWidgets": [],
              "addedWidgets": {},
              "metadata": {},
              "type": "htmlSandbox",
              "arguments": {}
            }
          },
          "data": {
            "text/html": [
              "<div>\n<style scoped>\n    .dataframe tbody tr th:only-of-type {\n        vertical-align: middle;\n    }\n\n    .dataframe tbody tr th {\n        vertical-align: top;\n    }\n\n    .dataframe thead th {\n        text-align: right;\n    }\n</style>\n<table border=\"1\" class=\"dataframe\">\n  <thead>\n    <tr style=\"text-align: right;\">\n      <th></th>\n      <th>features</th>\n      <th>Indicator ID</th>\n      <th>Geo Join ID</th>\n      <th>Data Value</th>\n      <th>prediction</th>\n    </tr>\n  </thead>\n  <tbody>\n    <tr>\n      <th>0</th>\n      <td>[375.0, 101.0, 32.12]</td>\n      <td>375</td>\n      <td>101</td>\n      <td>32.12</td>\n      <td>31.933553</td>\n    </tr>\n    <tr>\n      <th>1</th>\n      <td>[375.0, 101.0, 35.11]</td>\n      <td>375</td>\n      <td>101</td>\n      <td>35.11</td>\n      <td>34.881091</td>\n    </tr>\n    <tr>\n      <th>2</th>\n      <td>[375.0, 102.0, 36.79]</td>\n      <td>375</td>\n      <td>102</td>\n      <td>36.79</td>\n      <td>36.537232</td>\n    </tr>\n    <tr>\n      <th>3</th>\n      <td>[375.0, 103.0, 29.61]</td>\n      <td>375</td>\n      <td>103</td>\n      <td>29.61</td>\n      <td>29.459199</td>\n    </tr>\n    <tr>\n      <th>4</th>\n      <td>[375.0, 103.0, 34.91]</td>\n      <td>375</td>\n      <td>103</td>\n      <td>34.91</td>\n      <td>34.683931</td>\n    </tr>\n  </tbody>\n</table>\n</div>"
            ]
          }
        }
      ],
      "execution_count": null
    },
    {
      "cell_type": "code",
      "source": [
        "pred_df[pred_df['Indicator ID'] > pred_df['prediction']]"
      ],
      "metadata": {
        "outputId": "9c86feda-b299-4f5b-8589-27301b42adcd",
        "id": "36lwtI03wNdm",
        "application/vnd.databricks.v1+cell": {
          "showTitle": false,
          "cellMetadata": {},
          "nuid": "e234b678-4f58-48ac-8ca5-b8ae8bf42af4",
          "inputWidgets": {},
          "title": ""
        }
      },
      "outputs": [
        {
          "output_type": "display_data",
          "metadata": {
            "application/vnd.databricks.v1+output": {
              "datasetInfos": [],
              "data": "<div>\n<style scoped>\n    .dataframe tbody tr th:only-of-type {\n        vertical-align: middle;\n    }\n\n    .dataframe tbody tr th {\n        vertical-align: top;\n    }\n\n    .dataframe thead th {\n        text-align: right;\n    }\n</style>\n<table border=\"1\" class=\"dataframe\">\n  <thead>\n    <tr style=\"text-align: right;\">\n      <th></th>\n      <th>features</th>\n      <th>Indicator ID</th>\n      <th>Geo Join ID</th>\n      <th>Data Value</th>\n      <th>prediction</th>\n    </tr>\n  </thead>\n  <tbody>\n    <tr>\n      <th>0</th>\n      <td>[375.0, 101.0, 32.12]</td>\n      <td>375</td>\n      <td>101</td>\n      <td>32.12</td>\n      <td>31.933553</td>\n    </tr>\n    <tr>\n      <th>1</th>\n      <td>[375.0, 101.0, 35.11]</td>\n      <td>375</td>\n      <td>101</td>\n      <td>35.11</td>\n      <td>34.881091</td>\n    </tr>\n    <tr>\n      <th>2</th>\n      <td>[375.0, 102.0, 36.79]</td>\n      <td>375</td>\n      <td>102</td>\n      <td>36.79</td>\n      <td>36.537232</td>\n    </tr>\n    <tr>\n      <th>3</th>\n      <td>[375.0, 103.0, 29.61]</td>\n      <td>375</td>\n      <td>103</td>\n      <td>29.61</td>\n      <td>29.459199</td>\n    </tr>\n    <tr>\n      <th>4</th>\n      <td>[375.0, 103.0, 34.91]</td>\n      <td>375</td>\n      <td>103</td>\n      <td>34.91</td>\n      <td>34.683931</td>\n    </tr>\n    <tr>\n      <th>...</th>\n      <td>...</td>\n      <td>...</td>\n      <td>...</td>\n      <td>...</td>\n      <td>...</td>\n    </tr>\n    <tr>\n      <th>4906</th>\n      <td>[652.0, 408.0, 5.1]</td>\n      <td>652</td>\n      <td>408</td>\n      <td>5.10</td>\n      <td>5.297280</td>\n    </tr>\n    <tr>\n      <th>4907</th>\n      <td>[652.0, 410.0, 7.7]</td>\n      <td>652</td>\n      <td>410</td>\n      <td>7.70</td>\n      <td>7.860356</td>\n    </tr>\n    <tr>\n      <th>4908</th>\n      <td>[661.0, 407.0, 2.8]</td>\n      <td>661</td>\n      <td>407</td>\n      <td>2.80</td>\n      <td>3.029943</td>\n    </tr>\n    <tr>\n      <th>4909</th>\n      <td>[661.0, 409.0, 3.0]</td>\n      <td>661</td>\n      <td>409</td>\n      <td>3.00</td>\n      <td>3.227103</td>\n    </tr>\n    <tr>\n      <th>4910</th>\n      <td>[661.0, 410.0, 4.8]</td>\n      <td>661</td>\n      <td>410</td>\n      <td>4.80</td>\n      <td>5.001540</td>\n    </tr>\n  </tbody>\n</table>\n<p>4911 rows × 5 columns</p>\n</div>",
              "textData": null,
              "removedWidgets": [],
              "addedWidgets": {},
              "metadata": {},
              "type": "htmlSandbox",
              "arguments": {}
            }
          },
          "data": {
            "text/html": [
              "<div>\n<style scoped>\n    .dataframe tbody tr th:only-of-type {\n        vertical-align: middle;\n    }\n\n    .dataframe tbody tr th {\n        vertical-align: top;\n    }\n\n    .dataframe thead th {\n        text-align: right;\n    }\n</style>\n<table border=\"1\" class=\"dataframe\">\n  <thead>\n    <tr style=\"text-align: right;\">\n      <th></th>\n      <th>features</th>\n      <th>Indicator ID</th>\n      <th>Geo Join ID</th>\n      <th>Data Value</th>\n      <th>prediction</th>\n    </tr>\n  </thead>\n  <tbody>\n    <tr>\n      <th>0</th>\n      <td>[375.0, 101.0, 32.12]</td>\n      <td>375</td>\n      <td>101</td>\n      <td>32.12</td>\n      <td>31.933553</td>\n    </tr>\n    <tr>\n      <th>1</th>\n      <td>[375.0, 101.0, 35.11]</td>\n      <td>375</td>\n      <td>101</td>\n      <td>35.11</td>\n      <td>34.881091</td>\n    </tr>\n    <tr>\n      <th>2</th>\n      <td>[375.0, 102.0, 36.79]</td>\n      <td>375</td>\n      <td>102</td>\n      <td>36.79</td>\n      <td>36.537232</td>\n    </tr>\n    <tr>\n      <th>3</th>\n      <td>[375.0, 103.0, 29.61]</td>\n      <td>375</td>\n      <td>103</td>\n      <td>29.61</td>\n      <td>29.459199</td>\n    </tr>\n    <tr>\n      <th>4</th>\n      <td>[375.0, 103.0, 34.91]</td>\n      <td>375</td>\n      <td>103</td>\n      <td>34.91</td>\n      <td>34.683931</td>\n    </tr>\n    <tr>\n      <th>...</th>\n      <td>...</td>\n      <td>...</td>\n      <td>...</td>\n      <td>...</td>\n      <td>...</td>\n    </tr>\n    <tr>\n      <th>4906</th>\n      <td>[652.0, 408.0, 5.1]</td>\n      <td>652</td>\n      <td>408</td>\n      <td>5.10</td>\n      <td>5.297280</td>\n    </tr>\n    <tr>\n      <th>4907</th>\n      <td>[652.0, 410.0, 7.7]</td>\n      <td>652</td>\n      <td>410</td>\n      <td>7.70</td>\n      <td>7.860356</td>\n    </tr>\n    <tr>\n      <th>4908</th>\n      <td>[661.0, 407.0, 2.8]</td>\n      <td>661</td>\n      <td>407</td>\n      <td>2.80</td>\n      <td>3.029943</td>\n    </tr>\n    <tr>\n      <th>4909</th>\n      <td>[661.0, 409.0, 3.0]</td>\n      <td>661</td>\n      <td>409</td>\n      <td>3.00</td>\n      <td>3.227103</td>\n    </tr>\n    <tr>\n      <th>4910</th>\n      <td>[661.0, 410.0, 4.8]</td>\n      <td>661</td>\n      <td>410</td>\n      <td>4.80</td>\n      <td>5.001540</td>\n    </tr>\n  </tbody>\n</table>\n<p>4911 rows × 5 columns</p>\n</div>"
            ]
          }
        }
      ],
      "execution_count": null
    },
    {
      "cell_type": "code",
      "source": [
        "pred_df['Data Value'].mean()"
      ],
      "metadata": {
        "outputId": "26816178-600e-4876-bdb8-b4f682da818a",
        "id": "Ey-6a09EwNdm",
        "application/vnd.databricks.v1+cell": {
          "showTitle": false,
          "cellMetadata": {},
          "nuid": "8b6f5d60-637d-4555-ac4a-0799b7400268",
          "inputWidgets": {},
          "title": ""
        }
      },
      "outputs": [
        {
          "output_type": "display_data",
          "metadata": {
            "application/vnd.databricks.v1+output": {
              "datasetInfos": [],
              "data": "Out[65]: 19.44365165156709",
              "removedWidgets": [],
              "addedWidgets": {},
              "metadata": {},
              "type": "ansi",
              "arguments": {}
            }
          },
          "data": {
            "text/plain": [
              "Out[65]: 19.44365165156709"
            ]
          }
        }
      ],
      "execution_count": null
    }
  ],
  "metadata": {
    "colab": {
      "provenance": [],
      "include_colab_link": true
    },
    "application/vnd.databricks.v1+notebook": {
      "notebookName": "Reg_proyecto_(1)",
      "dashboards": [],
      "notebookMetadata": {
        "pythonIndentUnit": 4
      },
      "language": "python",
      "widgets": {},
      "notebookOrigID": 1604511287454948
    }
  },
  "nbformat": 4,
  "nbformat_minor": 0
}